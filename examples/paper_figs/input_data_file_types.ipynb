{
 "cells": [
  {
   "cell_type": "markdown",
   "id": "infrared-flooring",
   "metadata": {},
   "source": [
    "This notebook shows how AI4Water can read data f rom different file formats.\n",
    "If the data is arranged properly in a tabular format, then AI4Water can read data from one of the following file formats:\n",
    "\n",
    "| file extension | file type |\n",
    "|----------------|-----------|\n",
    "| .csv | comma separated file |\n",
    "| .xlsx | microsoft excel |\n",
    "| .parquet | parquet|\n",
    "| .feather | feather|\n",
    "| .nc | netcdf5|\n",
    "| .mat | matlab file|\n",
    "| .npz | numpy compressed file|\n",
    "\n",
    "\n",
    "We will first save the data in the above mentioned file formats and then show how AI4Water can read data from those files."
   ]
  },
  {
   "cell_type": "code",
   "execution_count": 1,
   "id": "varied-engagement",
   "metadata": {},
   "outputs": [],
   "source": [
    "try:\n",
    "    import AI4Water\n",
    "except ImportError:\n",
    "    !python -m pip install \"AI4Water[all] @ git+https://github.com/AtrCheema/AI4Water.git\"\n"
   ]
  },
  {
   "cell_type": "code",
   "execution_count": 2,
   "id": "individual-hawaii",
   "metadata": {},
   "outputs": [
    {
     "name": "stdout",
     "output_type": "stream",
     "text": [
      "WARNING:tensorflow:From D:\\mytools\\AI4Water\\ai4water\\backend.py:24: The name tf.keras.losses.cosine is deprecated. Please use tf.keras.losses.cosine_similarity instead.\n",
      "\n",
      "WARNING:tensorflow:From D:\\mytools\\AI4Water\\ai4water\\backend.py:24: The name tf.keras.losses.cosine_proximity is deprecated. Please use tf.keras.losses.cosine_similarity instead.\n",
      "\n",
      "WARNING:tensorflow:From D:\\mytools\\AI4Water\\ai4water\\backend.py:24: The name tf.keras.layers.CuDNNGRU is deprecated. Please use tf.compat.v1.keras.layers.CuDNNGRU instead.\n",
      "\n",
      "WARNING:tensorflow:From D:\\mytools\\AI4Water\\ai4water\\backend.py:24: The name tf.keras.layers.CuDNNLSTM is deprecated. Please use tf.compat.v1.keras.layers.CuDNNLSTM instead.\n",
      "\n"
     ]
    }
   ],
   "source": [
    "import os\n",
    "import scipy\n",
    "import numpy as np\n",
    "\n",
    "from ai4water import Model\n",
    "from ai4water.datasets import MtropicsLaos"
   ]
  },
  {
   "cell_type": "code",
   "execution_count": 3,
   "id": "extreme-daisy",
   "metadata": {},
   "outputs": [
    {
     "name": "stdout",
     "output_type": "stream",
     "text": [
      "\n",
      "Not downloading the data since the directory \n",
      "D:\\mytools\\AI4Water\\ai4water\\datasets\\data\\MtropicsLaos already exists.\n",
      "Use overwrite=True to remove previously saved files and download again\n"
     ]
    },
    {
     "name": "stderr",
     "output_type": "stream",
     "text": [
      "D:\\mytools\\AI4Water\\ai4water\\datasets\\datasets.py:1340: UserWarning: preprocessing of shapefiles can not be done because no fiona installation is found.\n",
      "  warnings.warn(\"preprocessing of shapefiles can not be done because no fiona installation is found.\")\n",
      "D:\\mytools\\AI4Water\\ai4water\\datasets\\datasets.py:1151: FutureWarning: Value based partial slicing on non-monotonic DatetimeIndexes with non-existing keys is deprecated and will raise a KeyError in a future Version.\n",
      "  return wl.loc[st:en], spm.loc[st:en]\n"
     ]
    }
   ],
   "source": [
    "laos = MtropicsLaos()\n",
    "\n",
    "data = laos.make_regression()"
   ]
  },
  {
   "cell_type": "code",
   "execution_count": 4,
   "id": "tracked-russian",
   "metadata": {},
   "outputs": [
    {
     "data": {
      "text/plain": [
       "pandas.core.frame.DataFrame"
      ]
     },
     "execution_count": 4,
     "metadata": {},
     "output_type": "execute_result"
    }
   ],
   "source": [
    "type(data)"
   ]
  },
  {
   "cell_type": "code",
   "execution_count": 5,
   "id": "extraordinary-plenty",
   "metadata": {},
   "outputs": [
    {
     "data": {
      "text/plain": [
       "(650741, 8)"
      ]
     },
     "execution_count": 5,
     "metadata": {},
     "output_type": "execute_result"
    }
   ],
   "source": [
    "data.shape"
   ]
  },
  {
   "cell_type": "code",
   "execution_count": 6,
   "id": "hindu-mother",
   "metadata": {},
   "outputs": [
    {
     "data": {
      "text/html": [
       "<div>\n",
       "<style scoped>\n",
       "    .dataframe tbody tr th:only-of-type {\n",
       "        vertical-align: middle;\n",
       "    }\n",
       "\n",
       "    .dataframe tbody tr th {\n",
       "        vertical-align: top;\n",
       "    }\n",
       "\n",
       "    .dataframe thead th {\n",
       "        text-align: right;\n",
       "    }\n",
       "</style>\n",
       "<table border=\"1\" class=\"dataframe\">\n",
       "  <thead>\n",
       "    <tr style=\"text-align: right;\">\n",
       "      <th></th>\n",
       "      <th>temp</th>\n",
       "      <th>rel_hum</th>\n",
       "      <th>wind_speed</th>\n",
       "      <th>sol_rad</th>\n",
       "      <th>water_level</th>\n",
       "      <th>pcp</th>\n",
       "      <th>susp_pm</th>\n",
       "      <th>Ecoli_mpn100</th>\n",
       "    </tr>\n",
       "  </thead>\n",
       "  <tbody>\n",
       "    <tr>\n",
       "      <th>2011-05-25 14:00:00</th>\n",
       "      <td>22.9</td>\n",
       "      <td>100.0</td>\n",
       "      <td>7.0</td>\n",
       "      <td>256.0</td>\n",
       "      <td>133.0</td>\n",
       "      <td>0.0</td>\n",
       "      <td>0.9</td>\n",
       "      <td>NaN</td>\n",
       "    </tr>\n",
       "    <tr>\n",
       "      <th>2011-05-25 14:06:00</th>\n",
       "      <td>22.9</td>\n",
       "      <td>100.0</td>\n",
       "      <td>6.7</td>\n",
       "      <td>246.2</td>\n",
       "      <td>133.0</td>\n",
       "      <td>0.0</td>\n",
       "      <td>0.9</td>\n",
       "      <td>NaN</td>\n",
       "    </tr>\n",
       "    <tr>\n",
       "      <th>2011-05-25 14:12:00</th>\n",
       "      <td>22.9</td>\n",
       "      <td>100.0</td>\n",
       "      <td>6.4</td>\n",
       "      <td>236.4</td>\n",
       "      <td>133.0</td>\n",
       "      <td>0.0</td>\n",
       "      <td>0.9</td>\n",
       "      <td>NaN</td>\n",
       "    </tr>\n",
       "    <tr>\n",
       "      <th>2011-05-25 14:18:00</th>\n",
       "      <td>22.9</td>\n",
       "      <td>100.0</td>\n",
       "      <td>6.1</td>\n",
       "      <td>226.6</td>\n",
       "      <td>133.0</td>\n",
       "      <td>0.0</td>\n",
       "      <td>0.9</td>\n",
       "      <td>NaN</td>\n",
       "    </tr>\n",
       "    <tr>\n",
       "      <th>2011-05-25 14:24:00</th>\n",
       "      <td>22.9</td>\n",
       "      <td>100.0</td>\n",
       "      <td>5.8</td>\n",
       "      <td>216.8</td>\n",
       "      <td>133.0</td>\n",
       "      <td>0.0</td>\n",
       "      <td>0.9</td>\n",
       "      <td>NaN</td>\n",
       "    </tr>\n",
       "  </tbody>\n",
       "</table>\n",
       "</div>"
      ],
      "text/plain": [
       "                     temp  rel_hum  wind_speed  sol_rad  water_level  pcp  \\\n",
       "2011-05-25 14:00:00  22.9    100.0         7.0    256.0        133.0  0.0   \n",
       "2011-05-25 14:06:00  22.9    100.0         6.7    246.2        133.0  0.0   \n",
       "2011-05-25 14:12:00  22.9    100.0         6.4    236.4        133.0  0.0   \n",
       "2011-05-25 14:18:00  22.9    100.0         6.1    226.6        133.0  0.0   \n",
       "2011-05-25 14:24:00  22.9    100.0         5.8    216.8        133.0  0.0   \n",
       "\n",
       "                     susp_pm  Ecoli_mpn100  \n",
       "2011-05-25 14:00:00      0.9           NaN  \n",
       "2011-05-25 14:06:00      0.9           NaN  \n",
       "2011-05-25 14:12:00      0.9           NaN  \n",
       "2011-05-25 14:18:00      0.9           NaN  \n",
       "2011-05-25 14:24:00      0.9           NaN  "
      ]
     },
     "execution_count": 6,
     "metadata": {},
     "output_type": "execute_result"
    }
   ],
   "source": [
    "data.head()"
   ]
  },
  {
   "cell_type": "code",
   "execution_count": 7,
   "id": "curious-grenada",
   "metadata": {},
   "outputs": [
    {
     "data": {
      "text/html": [
       "<div>\n",
       "<style scoped>\n",
       "    .dataframe tbody tr th:only-of-type {\n",
       "        vertical-align: middle;\n",
       "    }\n",
       "\n",
       "    .dataframe tbody tr th {\n",
       "        vertical-align: top;\n",
       "    }\n",
       "\n",
       "    .dataframe thead th {\n",
       "        text-align: right;\n",
       "    }\n",
       "</style>\n",
       "<table border=\"1\" class=\"dataframe\">\n",
       "  <thead>\n",
       "    <tr style=\"text-align: right;\">\n",
       "      <th></th>\n",
       "      <th>temp</th>\n",
       "      <th>rel_hum</th>\n",
       "      <th>wind_speed</th>\n",
       "      <th>sol_rad</th>\n",
       "      <th>water_level</th>\n",
       "      <th>pcp</th>\n",
       "      <th>susp_pm</th>\n",
       "      <th>Ecoli_mpn100</th>\n",
       "    </tr>\n",
       "  </thead>\n",
       "  <tbody>\n",
       "    <tr>\n",
       "      <th>2018-10-26 23:36:00</th>\n",
       "      <td>21.72</td>\n",
       "      <td>100.0</td>\n",
       "      <td>0.0012</td>\n",
       "      <td>0.0</td>\n",
       "      <td>147.3</td>\n",
       "      <td>0.0</td>\n",
       "      <td>1.3</td>\n",
       "      <td>NaN</td>\n",
       "    </tr>\n",
       "    <tr>\n",
       "      <th>2018-10-26 23:42:00</th>\n",
       "      <td>21.64</td>\n",
       "      <td>100.0</td>\n",
       "      <td>0.0009</td>\n",
       "      <td>0.0</td>\n",
       "      <td>146.9</td>\n",
       "      <td>0.0</td>\n",
       "      <td>1.3</td>\n",
       "      <td>NaN</td>\n",
       "    </tr>\n",
       "    <tr>\n",
       "      <th>2018-10-26 23:48:00</th>\n",
       "      <td>21.56</td>\n",
       "      <td>100.0</td>\n",
       "      <td>0.0006</td>\n",
       "      <td>0.0</td>\n",
       "      <td>146.9</td>\n",
       "      <td>0.0</td>\n",
       "      <td>1.3</td>\n",
       "      <td>NaN</td>\n",
       "    </tr>\n",
       "    <tr>\n",
       "      <th>2018-10-26 23:54:00</th>\n",
       "      <td>21.48</td>\n",
       "      <td>100.0</td>\n",
       "      <td>0.0003</td>\n",
       "      <td>0.0</td>\n",
       "      <td>146.9</td>\n",
       "      <td>0.0</td>\n",
       "      <td>1.3</td>\n",
       "      <td>NaN</td>\n",
       "    </tr>\n",
       "    <tr>\n",
       "      <th>2018-10-27 00:00:00</th>\n",
       "      <td>21.40</td>\n",
       "      <td>100.0</td>\n",
       "      <td>0.0000</td>\n",
       "      <td>0.0</td>\n",
       "      <td>146.9</td>\n",
       "      <td>0.0</td>\n",
       "      <td>1.3</td>\n",
       "      <td>NaN</td>\n",
       "    </tr>\n",
       "  </tbody>\n",
       "</table>\n",
       "</div>"
      ],
      "text/plain": [
       "                      temp  rel_hum  wind_speed  sol_rad  water_level  pcp  \\\n",
       "2018-10-26 23:36:00  21.72    100.0      0.0012      0.0        147.3  0.0   \n",
       "2018-10-26 23:42:00  21.64    100.0      0.0009      0.0        146.9  0.0   \n",
       "2018-10-26 23:48:00  21.56    100.0      0.0006      0.0        146.9  0.0   \n",
       "2018-10-26 23:54:00  21.48    100.0      0.0003      0.0        146.9  0.0   \n",
       "2018-10-27 00:00:00  21.40    100.0      0.0000      0.0        146.9  0.0   \n",
       "\n",
       "                     susp_pm  Ecoli_mpn100  \n",
       "2018-10-26 23:36:00      1.3           NaN  \n",
       "2018-10-26 23:42:00      1.3           NaN  \n",
       "2018-10-26 23:48:00      1.3           NaN  \n",
       "2018-10-26 23:54:00      1.3           NaN  \n",
       "2018-10-27 00:00:00      1.3           NaN  "
      ]
     },
     "execution_count": 7,
     "metadata": {},
     "output_type": "execute_result"
    }
   ],
   "source": [
    "data.tail()"
   ]
  },
  {
   "cell_type": "markdown",
   "id": "level-trader",
   "metadata": {},
   "source": [
    "First use the above DataFrame as input to Model"
   ]
  },
  {
   "cell_type": "code",
   "execution_count": 8,
   "id": "passive-natural",
   "metadata": {},
   "outputs": [
    {
     "name": "stdout",
     "output_type": "stream",
     "text": [
      "building ML model for  regression problem using RandomForestRegressor\n"
     ]
    }
   ],
   "source": [
    "model = Model(model=\"RandomForestRegressor\",\n",
    "             data=data)"
   ]
  },
  {
   "cell_type": "code",
   "execution_count": 9,
   "id": "matched-bracket",
   "metadata": {},
   "outputs": [
    {
     "name": "stdout",
     "output_type": "stream",
     "text": [
      "\n",
      "********** Removing Examples with nan in labels  **********\n",
      "\n",
      "***** Training *****\n",
      "input_x shape:  (165, 7)\n",
      "target shape:  (165, 1, 1)\n",
      "(165, 7) (165, 1, 1)\n"
     ]
    }
   ],
   "source": [
    "train_x, train_y = model.training_data()\n",
    "print(train_x.shape, train_y.shape)"
   ]
  },
  {
   "cell_type": "code",
   "execution_count": 10,
   "id": "palestinian-chapter",
   "metadata": {},
   "outputs": [
    {
     "name": "stdout",
     "output_type": "stream",
     "text": [
      "\n",
      "********** Removing Examples with nan in labels  **********\n",
      "\n",
      "***** Validation *****\n",
      "input_x shape:  (41, 7)\n",
      "target shape:  (41, 1, 1)\n",
      "(41, 7) (41, 1, 1)\n"
     ]
    }
   ],
   "source": [
    "val_x, val_y = model.validation_data()\n",
    "print(val_x.shape, val_y.shape)"
   ]
  },
  {
   "cell_type": "code",
   "execution_count": 11,
   "id": "dress-sculpture",
   "metadata": {},
   "outputs": [
    {
     "name": "stdout",
     "output_type": "stream",
     "text": [
      "\n",
      "********** Removing Examples with nan in labels  **********\n",
      "\n",
      "***** Test *****\n",
      "input_x shape:  (52, 7)\n",
      "target shape:  (52, 1, 1)\n",
      "(52, 7) (52, 1, 1)\n"
     ]
    }
   ],
   "source": [
    "test_x, test_y = model.test_data()\n",
    "print(test_x.shape, test_y.shape)"
   ]
  },
  {
   "cell_type": "markdown",
   "id": "smoking-coffee",
   "metadata": {},
   "source": [
    "Now saving the data into different file formats"
   ]
  },
  {
   "cell_type": "code",
   "execution_count": 12,
   "id": "premier-still",
   "metadata": {},
   "outputs": [],
   "source": [
    "csv_fname = os.path.join(os.getcwd(), \"data.csv\")\n",
    "data.to_csv(csv_fname)\n",
    "\n",
    "xlsx_fname = os.path.join(os.getcwd(), \"data.xlsx\")\n",
    "data.to_excel(xlsx_fname, engine=\"xlsxwriter\")\n",
    "\n",
    "parq_fname = os.path.join(os.getcwd(), \"data.parquet\")\n",
    "data.to_parquet(parq_fname)\n",
    "\n",
    "feather_fname = os.path.join(os.getcwd(), \"data.feather\")\n",
    "data.reset_index().to_feather(feather_fname)\n",
    "\n",
    "nc_fname = os.path.join(os.getcwd(), \"data.nc\")\n",
    "xds = data.to_xarray()\n",
    "xds.to_netcdf(nc_fname)\n",
    "\n",
    "npz_fname = os.path.join(os.getcwd(), \"data.npz\")\n",
    "np.savez(npz_fname, data.values)\n",
    "\n",
    "mat_fname = os.path.join(os.getcwd(), \"data.mat\")\n",
    "scipy.io.savemat(mat_fname, {'data': data.values})"
   ]
  },
  {
   "cell_type": "markdown",
   "id": "disabled-camping",
   "metadata": {},
   "source": [
    "# csv file"
   ]
  },
  {
   "cell_type": "code",
   "execution_count": 13,
   "id": "elder-compression",
   "metadata": {},
   "outputs": [
    {
     "name": "stdout",
     "output_type": "stream",
     "text": [
      "building ML model for  regression problem using RandomForestRegressor\n",
      "\n",
      "********** Removing Examples with nan in labels  **********\n",
      "\n",
      "***** Training *****\n",
      "input_x shape:  (165, 7)\n",
      "target shape:  (165, 1, 1)\n",
      "(165, 7) (165, 1, 1)\n"
     ]
    }
   ],
   "source": [
    "model = Model(model=\"RandomForestRegressor\",\n",
    "             data=csv_fname,\n",
    "              input_features=['temp', 'rel_hum', 'wind_speed', 'sol_rad',\n",
    "                              'water_level', 'pcp', 'susp_pm'],\n",
    "              output_features=['Ecoli_mpn100'])\n",
    "\n",
    "train_x, train_y = model.training_data()\n",
    "print(train_x.shape, train_y.shape)"
   ]
  },
  {
   "cell_type": "code",
   "execution_count": 14,
   "id": "classical-frank",
   "metadata": {},
   "outputs": [
    {
     "name": "stdout",
     "output_type": "stream",
     "text": [
      "\n",
      "********** Removing Examples with nan in labels  **********\n",
      "\n",
      "***** Validation *****\n",
      "input_x shape:  (41, 7)\n",
      "target shape:  (41, 1, 1)\n",
      "(41, 7) (41, 1, 1)\n"
     ]
    }
   ],
   "source": [
    "val_x, val_y = model.validation_data()\n",
    "print(val_x.shape, val_y.shape)"
   ]
  },
  {
   "cell_type": "code",
   "execution_count": 15,
   "id": "signed-munich",
   "metadata": {},
   "outputs": [
    {
     "name": "stdout",
     "output_type": "stream",
     "text": [
      "\n",
      "********** Removing Examples with nan in labels  **********\n",
      "\n",
      "***** Test *****\n",
      "input_x shape:  (52, 7)\n",
      "target shape:  (52, 1, 1)\n",
      "(52, 7) (52, 1, 1)\n"
     ]
    }
   ],
   "source": [
    "test_x, test_y = model.test_data()\n",
    "print(test_x.shape, test_y.shape)"
   ]
  },
  {
   "cell_type": "markdown",
   "id": "plain-aaron",
   "metadata": {},
   "source": [
    "# xlsx file"
   ]
  },
  {
   "cell_type": "code",
   "execution_count": 16,
   "id": "peaceful-guarantee",
   "metadata": {},
   "outputs": [
    {
     "name": "stdout",
     "output_type": "stream",
     "text": [
      "building ML model for  regression problem using RandomForestRegressor\n",
      "\n",
      "********** Removing Examples with nan in labels  **********\n",
      "\n",
      "***** Training *****\n",
      "input_x shape:  (165, 7)\n",
      "target shape:  (165, 1, 1)\n",
      "(165, 7) (165, 1, 1)\n"
     ]
    }
   ],
   "source": [
    "model = Model(model=\"RandomForestRegressor\",\n",
    "             data=xlsx_fname,\n",
    "              input_features=['temp', 'rel_hum', 'wind_speed', 'sol_rad',\n",
    "                              'water_level', 'pcp', 'susp_pm'],\n",
    "              output_features=['Ecoli_mpn100'])\n",
    "\n",
    "train_x, train_y = model.training_data()\n",
    "print(train_x.shape, train_y.shape)"
   ]
  },
  {
   "cell_type": "code",
   "execution_count": 17,
   "id": "measured-preparation",
   "metadata": {},
   "outputs": [
    {
     "name": "stdout",
     "output_type": "stream",
     "text": [
      "\n",
      "********** Removing Examples with nan in labels  **********\n",
      "\n",
      "***** Validation *****\n",
      "input_x shape:  (41, 7)\n",
      "target shape:  (41, 1, 1)\n",
      "(41, 7) (41, 1, 1)\n"
     ]
    }
   ],
   "source": [
    "val_x, val_y = model.validation_data()\n",
    "print(val_x.shape, val_y.shape)"
   ]
  },
  {
   "cell_type": "code",
   "execution_count": 18,
   "id": "suburban-delaware",
   "metadata": {},
   "outputs": [
    {
     "name": "stdout",
     "output_type": "stream",
     "text": [
      "\n",
      "********** Removing Examples with nan in labels  **********\n",
      "\n",
      "***** Test *****\n",
      "input_x shape:  (52, 7)\n",
      "target shape:  (52, 1, 1)\n",
      "(52, 7) (52, 1, 1)\n"
     ]
    }
   ],
   "source": [
    "test_x, test_y = model.test_data()\n",
    "print(test_x.shape, test_y.shape)"
   ]
  },
  {
   "cell_type": "markdown",
   "id": "extraordinary-latin",
   "metadata": {},
   "source": [
    "# parquet file"
   ]
  },
  {
   "cell_type": "code",
   "execution_count": 20,
   "id": "peaceful-shipping",
   "metadata": {},
   "outputs": [
    {
     "name": "stdout",
     "output_type": "stream",
     "text": [
      "building ML model for  regression problem using RandomForestRegressor\n",
      "\n",
      "********** Removing Examples with nan in labels  **********\n",
      "\n",
      "***** Training *****\n",
      "input_x shape:  (165, 7)\n",
      "target shape:  (165, 1, 1)\n",
      "(165, 7) (165, 1, 1)\n"
     ]
    }
   ],
   "source": [
    "model = Model(model=\"RandomForestRegressor\",\n",
    "             data=parq_fname,\n",
    "              input_features=['temp', 'rel_hum', 'wind_speed', 'sol_rad',\n",
    "                              'water_level', 'pcp', 'susp_pm'],\n",
    "              output_features=['Ecoli_mpn100'])\n",
    "\n",
    "train_x, train_y = model.training_data()\n",
    "print(train_x.shape, train_y.shape)"
   ]
  },
  {
   "cell_type": "code",
   "execution_count": 22,
   "id": "monthly-preview",
   "metadata": {},
   "outputs": [
    {
     "name": "stdout",
     "output_type": "stream",
     "text": [
      "\n",
      "********** Removing Examples with nan in labels  **********\n",
      "\n",
      "***** Validation *****\n",
      "input_x shape:  (41, 7)\n",
      "target shape:  (41, 1, 1)\n",
      "(41, 7) (41, 1, 1)\n"
     ]
    }
   ],
   "source": [
    "val_x, val_y = model.validation_data()\n",
    "print(val_x.shape, val_y.shape)"
   ]
  },
  {
   "cell_type": "code",
   "execution_count": 25,
   "id": "assigned-spine",
   "metadata": {},
   "outputs": [
    {
     "name": "stdout",
     "output_type": "stream",
     "text": [
      "\n",
      "********** Removing Examples with nan in labels  **********\n",
      "\n",
      "***** Test *****\n",
      "input_x shape:  (52, 7)\n",
      "target shape:  (52, 1, 1)\n",
      "(52, 7) (52, 1, 1)\n"
     ]
    }
   ],
   "source": [
    "test_x, test_y = model.test_data()\n",
    "print(test_x.shape, test_y.shape)"
   ]
  },
  {
   "cell_type": "markdown",
   "id": "dried-return",
   "metadata": {},
   "source": [
    "# feather file"
   ]
  },
  {
   "cell_type": "code",
   "execution_count": 26,
   "id": "excited-hunger",
   "metadata": {},
   "outputs": [
    {
     "name": "stdout",
     "output_type": "stream",
     "text": [
      "building ML model for  regression problem using RandomForestRegressor\n",
      "\n",
      "********** Removing Examples with nan in labels  **********\n",
      "\n",
      "***** Training *****\n",
      "input_x shape:  (165, 7)\n",
      "target shape:  (165, 1, 1)\n",
      "(165, 7) (165, 1, 1)\n"
     ]
    }
   ],
   "source": [
    "model = Model(model=\"RandomForestRegressor\",\n",
    "             data=feather_fname,\n",
    "              input_features=['temp', 'rel_hum', 'wind_speed', 'sol_rad',\n",
    "                              'water_level', 'pcp', 'susp_pm'],\n",
    "              output_features=['Ecoli_mpn100'])\n",
    "\n",
    "train_x, train_y = model.training_data()\n",
    "print(train_x.shape, train_y.shape)"
   ]
  },
  {
   "cell_type": "code",
   "execution_count": 27,
   "id": "outdoor-installation",
   "metadata": {},
   "outputs": [
    {
     "name": "stdout",
     "output_type": "stream",
     "text": [
      "\n",
      "********** Removing Examples with nan in labels  **********\n",
      "\n",
      "***** Validation *****\n",
      "input_x shape:  (41, 7)\n",
      "target shape:  (41, 1, 1)\n",
      "(41, 7) (41, 1, 1)\n"
     ]
    }
   ],
   "source": [
    "val_x, val_y = model.validation_data()\n",
    "print(val_x.shape, val_y.shape)"
   ]
  },
  {
   "cell_type": "code",
   "execution_count": 28,
   "id": "medical-powder",
   "metadata": {},
   "outputs": [
    {
     "name": "stdout",
     "output_type": "stream",
     "text": [
      "\n",
      "********** Removing Examples with nan in labels  **********\n",
      "\n",
      "***** Test *****\n",
      "input_x shape:  (52, 7)\n",
      "target shape:  (52, 1, 1)\n",
      "(52, 7) (52, 1, 1)\n"
     ]
    }
   ],
   "source": [
    "test_x, test_y = model.test_data()\n",
    "print(test_x.shape, test_y.shape)"
   ]
  },
  {
   "cell_type": "markdown",
   "id": "silent-pierce",
   "metadata": {},
   "source": [
    "# netcdf file"
   ]
  },
  {
   "cell_type": "code",
   "execution_count": 30,
   "id": "stopped-fisher",
   "metadata": {},
   "outputs": [
    {
     "name": "stdout",
     "output_type": "stream",
     "text": [
      "building ML model for  regression problem using RandomForestRegressor\n",
      "\n",
      "********** Removing Examples with nan in labels  **********\n",
      "\n",
      "***** Training *****\n",
      "input_x shape:  (165, 7)\n",
      "target shape:  (165, 1, 1)\n",
      "(165, 7) (165, 1, 1)\n"
     ]
    }
   ],
   "source": [
    "model = Model(model=\"RandomForestRegressor\",\n",
    "             data=nc_fname,\n",
    "              input_features=['temp', 'rel_hum', 'wind_speed', 'sol_rad',\n",
    "                              'water_level', 'pcp', 'susp_pm'],\n",
    "              output_features=['Ecoli_mpn100'])\n",
    "\n",
    "train_x, train_y = model.training_data()\n",
    "print(train_x.shape, train_y.shape)"
   ]
  },
  {
   "cell_type": "code",
   "execution_count": 31,
   "id": "final-force",
   "metadata": {},
   "outputs": [
    {
     "name": "stdout",
     "output_type": "stream",
     "text": [
      "\n",
      "********** Removing Examples with nan in labels  **********\n",
      "\n",
      "***** Validation *****\n",
      "input_x shape:  (41, 7)\n",
      "target shape:  (41, 1, 1)\n",
      "(41, 7) (41, 1, 1)\n"
     ]
    }
   ],
   "source": [
    "val_x, val_y = model.validation_data()\n",
    "print(val_x.shape, val_y.shape)"
   ]
  },
  {
   "cell_type": "code",
   "execution_count": 32,
   "id": "casual-influence",
   "metadata": {},
   "outputs": [
    {
     "name": "stdout",
     "output_type": "stream",
     "text": [
      "\n",
      "********** Removing Examples with nan in labels  **********\n",
      "\n",
      "***** Test *****\n",
      "input_x shape:  (52, 7)\n",
      "target shape:  (52, 1, 1)\n",
      "(52, 7) (52, 1, 1)\n"
     ]
    }
   ],
   "source": [
    "test_x, test_y = model.test_data()\n",
    "print(test_x.shape, test_y.shape)"
   ]
  },
  {
   "cell_type": "markdown",
   "id": "demonstrated-lottery",
   "metadata": {},
   "source": [
    "# npz file"
   ]
  },
  {
   "cell_type": "code",
   "execution_count": 33,
   "id": "incoming-crystal",
   "metadata": {},
   "outputs": [
    {
     "name": "stdout",
     "output_type": "stream",
     "text": [
      "building ML model for  regression problem using RandomForestRegressor\n",
      "\n",
      "********** Removing Examples with nan in labels  **********\n",
      "\n",
      "***** Training *****\n",
      "input_x shape:  (165, 7)\n",
      "target shape:  (165, 1, 1)\n",
      "(165, 7) (165, 1, 1)\n"
     ]
    }
   ],
   "source": [
    "model = Model(model=\"RandomForestRegressor\",\n",
    "             data=npz_fname,\n",
    "              input_features=['temp', 'rel_hum', 'wind_speed', 'sol_rad',\n",
    "                              'water_level', 'pcp', 'susp_pm'],\n",
    "              output_features=['Ecoli_mpn100'])\n",
    "\n",
    "train_x, train_y = model.training_data()\n",
    "print(train_x.shape, train_y.shape)"
   ]
  },
  {
   "cell_type": "code",
   "execution_count": 34,
   "id": "enormous-zealand",
   "metadata": {},
   "outputs": [
    {
     "name": "stdout",
     "output_type": "stream",
     "text": [
      "\n",
      "********** Removing Examples with nan in labels  **********\n",
      "\n",
      "***** Validation *****\n",
      "input_x shape:  (41, 7)\n",
      "target shape:  (41, 1, 1)\n",
      "(41, 7) (41, 1, 1)\n"
     ]
    }
   ],
   "source": [
    "val_x, val_y = model.validation_data()\n",
    "print(val_x.shape, val_y.shape)"
   ]
  },
  {
   "cell_type": "code",
   "execution_count": 35,
   "id": "convenient-sweden",
   "metadata": {},
   "outputs": [
    {
     "name": "stdout",
     "output_type": "stream",
     "text": [
      "\n",
      "********** Removing Examples with nan in labels  **********\n",
      "\n",
      "***** Test *****\n",
      "input_x shape:  (52, 7)\n",
      "target shape:  (52, 1, 1)\n",
      "(52, 7) (52, 1, 1)\n"
     ]
    }
   ],
   "source": [
    "test_x, test_y = model.test_data()\n",
    "print(test_x.shape, test_y.shape)"
   ]
  },
  {
   "cell_type": "markdown",
   "id": "metropolitan-interval",
   "metadata": {},
   "source": [
    "# mat file"
   ]
  },
  {
   "cell_type": "code",
   "execution_count": 36,
   "id": "comparable-response",
   "metadata": {},
   "outputs": [
    {
     "name": "stdout",
     "output_type": "stream",
     "text": [
      "building ML model for  regression problem using RandomForestRegressor\n",
      "\n",
      "********** Removing Examples with nan in labels  **********\n",
      "\n",
      "***** Training *****\n",
      "input_x shape:  (165, 7)\n",
      "target shape:  (165, 1, 1)\n",
      "(165, 7) (165, 1, 1)\n"
     ]
    }
   ],
   "source": [
    "model = Model(model=\"RandomForestRegressor\",\n",
    "              data=mat_fname,\n",
    "              input_features=['temp', 'rel_hum', 'wind_speed', 'sol_rad',\n",
    "                              'water_level', 'pcp', 'susp_pm'],\n",
    "              output_features=['Ecoli_mpn100'])\n",
    "\n",
    "train_x, train_y = model.training_data()\n",
    "print(train_x.shape, train_y.shape)"
   ]
  },
  {
   "cell_type": "code",
   "execution_count": 37,
   "id": "stock-parade",
   "metadata": {},
   "outputs": [
    {
     "name": "stdout",
     "output_type": "stream",
     "text": [
      "\n",
      "********** Removing Examples with nan in labels  **********\n",
      "\n",
      "***** Validation *****\n",
      "input_x shape:  (41, 7)\n",
      "target shape:  (41, 1, 1)\n",
      "(41, 7) (41, 1, 1)\n"
     ]
    }
   ],
   "source": [
    "val_x, val_y = model.validation_data()\n",
    "print(val_x.shape, val_y.shape)"
   ]
  },
  {
   "cell_type": "code",
   "execution_count": 38,
   "id": "formed-maine",
   "metadata": {},
   "outputs": [
    {
     "name": "stdout",
     "output_type": "stream",
     "text": [
      "\n",
      "********** Removing Examples with nan in labels  **********\n",
      "\n",
      "***** Test *****\n",
      "input_x shape:  (52, 7)\n",
      "target shape:  (52, 1, 1)\n",
      "(52, 7) (52, 1, 1)\n"
     ]
    }
   ],
   "source": [
    "test_x, test_y = model.test_data()\n",
    "print(test_x.shape, test_y.shape)"
   ]
  },
  {
   "cell_type": "markdown",
   "id": "experienced-lucas",
   "metadata": {},
   "source": [
    "the model can be trained and used for prediction and internally the Model class will take care of feeding the right data to the machine learning model."
   ]
  },
  {
   "cell_type": "code",
   "execution_count": 39,
   "id": "improving-romance",
   "metadata": {},
   "outputs": [
    {
     "name": "stdout",
     "output_type": "stream",
     "text": [
      "\n",
      "********** Removing Examples with nan in labels  **********\n",
      "\n",
      "***** Training *****\n",
      "input_x shape:  (165, 7)\n",
      "target shape:  (165, 1, 1)\n"
     ]
    },
    {
     "data": {
      "text/plain": [
       "RandomForestRegressor()"
      ]
     },
     "execution_count": 39,
     "metadata": {},
     "output_type": "execute_result"
    }
   ],
   "source": [
    "model.fit()"
   ]
  },
  {
   "cell_type": "code",
   "execution_count": 41,
   "id": "minute-large",
   "metadata": {},
   "outputs": [
    {
     "name": "stdout",
     "output_type": "stream",
     "text": [
      "\n",
      "********** Removing Examples with nan in labels  **********\n",
      "\n",
      "***** Training *****\n",
      "input_x shape:  (165, 7)\n",
      "target shape:  (165, 1, 1)\n"
     ]
    },
    {
     "name": "stderr",
     "output_type": "stream",
     "text": [
      "D:\\mytools\\AI4Water\\ai4water\\post_processing\\SeqMetrics\\_regression.py:648: RuntimeWarning: divide by zero encountered in true_divide\n",
      "  return float(np.mean(np.abs((self.true - self.predicted) / self.true)) * 100)\n",
      "d:\\c\\anaconda3\\envs\\tfcpu115_py37\\lib\\site-packages\\scipy\\stats\\stats.py:410: RuntimeWarning: divide by zero encountered in log\n",
      "  log_a = np.log(a)\n"
     ]
    },
    {
     "data": {
      "text/plain": [
       "array([ 1446.75,  4877.  , 12462.1 ,  5950.  , 17691.4 ,  5215.  ,\n",
       "        2467.1 ,  3422.3 ,  2510.  ,  6394.4 ,   355.8 ,  2702.8 ,\n",
       "        7143.4 ,  2454.7 ,   591.2 ,   738.1 ,   366.42,   100.05,\n",
       "         254.94,   705.14,   104.72,   349.26,   551.04,   316.22,\n",
       "         822.3 ,   491.9 ,   538.96,   262.88,   765.04,  2571.56,\n",
       "        5849.92, 25475.4 , 36531.  , 17332.7 ,  6393.2 ,   802.3 ,\n",
       "         479.96,  3482.24,  1851.36,  5466.69,  4017.32,  4140.74,\n",
       "        2394.74,  2383.1 ,  4092.92,  8176.88, 12796.92, 24415.3 ,\n",
       "        9237.32,  5698.9 ,  3376.84,  2745.5 ,  2505.9 ,  1840.82,\n",
       "         655.98,   537.5 ,  1359.4 ,  1799.6 ,   582.3 ,  1760.5 ,\n",
       "        2257.6 ,   585.68,   470.3 ,   831.5 ,   335.28,  1690.3 ,\n",
       "         184.44,   179.66,   106.66,   821.  ,   324.7 ,   240.48,\n",
       "         641.48,   474.9 ,   450.38,  2630.26,   858.88,  2685.63,\n",
       "        5851.45, 11587.45, 10158.  ,  2382.78,   797.78,   810.06,\n",
       "         220.  ,  1866.6 ,   782.9 ,   942.48,   717.48,   787.34,\n",
       "        1030.94,   421.24,   515.78,   184.56,   702.4 ,   217.04,\n",
       "         191.36,   690.8 ,  1029.36,  8097.1 ,   304.84,   584.86,\n",
       "         526.36,   475.46,  8238.58,  2214.3 ,  1023.2 ,  1764.3 ,\n",
       "        2446.56,  1083.5 ,  1359.6 ,   302.3 ,   993.95,  2503.3 ,\n",
       "        1105.38,  1684.84,  1012.44,   994.1 , 15545.95,   512.6 ,\n",
       "        6004.54,   556.58,   932.56,   605.7 ,   526.7 ,   191.9 ,\n",
       "        1540.16,  1668.48, 13059.98,  6240.5 ,  1303.3 ,   444.32,\n",
       "         756.58,  2261.16,  9980.  ,  5855.9 ,  5113.4 ,  2712.1 ,\n",
       "        3215.44,  1352.7 ,  1838.58,  1254.48,  3648.27,  9534.3 ,\n",
       "       17418.2 ,  3854.7 , 25852.9 , 38661.4 , 14903.2 , 21646.  ,\n",
       "       11024.2 ,  7963.3 , 11764.21, 19029.  , 20948.4 ,  9717.  ,\n",
       "        5249.  ,  6012.92,   667.8 , 19516.94, 32217.8 , 53395.  ,\n",
       "       41099.  , 37244.  , 14164.  ])"
      ]
     },
     "execution_count": 41,
     "metadata": {},
     "output_type": "execute_result"
    },
    {
     "data": {
      "image/png": "[encoded data removed]",
      "text/plain": [
       "<Figure size 1200x800 with 1 Axes>"
      ]
     },
     "metadata": {},
     "output_type": "display_data"
    }
   ],
   "source": [
    "model.predict('training')"
   ]
  },
  {
   "cell_type": "code",
   "execution_count": 40,
   "id": "passive-boutique",
   "metadata": {},
   "outputs": [
    {
     "name": "stdout",
     "output_type": "stream",
     "text": [
      "\n",
      "********** Removing Examples with nan in labels  **********\n",
      "\n",
      "***** Test *****\n",
      "input_x shape:  (52, 7)\n",
      "target shape:  (52, 1, 1)\n"
     ]
    },
    {
     "name": "stderr",
     "output_type": "stream",
     "text": [
      "D:\\mytools\\AI4Water\\ai4water\\post_processing\\SeqMetrics\\_regression.py:648: RuntimeWarning: divide by zero encountered in true_divide\n",
      "  return float(np.mean(np.abs((self.true - self.predicted) / self.true)) * 100)\n",
      "d:\\c\\anaconda3\\envs\\tfcpu115_py37\\lib\\site-packages\\scipy\\stats\\stats.py:410: RuntimeWarning: divide by zero encountered in log\n",
      "  log_a = np.log(a)\n"
     ]
    },
    {
     "data": {
      "text/plain": [
       "array([36015.4 , 44931.  ,  2093.28,  5821.68, 10614.24, 35176.  ,\n",
       "       23881.5 , 10530.2 ,  7420.3 ,  5918.55,  6020.98,  9083.9 ,\n",
       "        1009.02,  1947.66,  5013.62,  5333.24,  2350.32,  3784.27,\n",
       "        1651.7 ,  2864.22,  2610.8 ,  2828.68,  3678.2 ,  1529.3 ,\n",
       "        2452.42,  3927.72,  2802.34,  4065.62,  2233.82,  1949.26,\n",
       "         474.92,   978.9 ,   965.74,  1051.96,   508.88,  6422.84,\n",
       "       12772.26,  1623.32,   517.  ,  2682.56,  4510.06,   752.46,\n",
       "       25394.  , 23210.1 , 12456.96,  1672.18,  8791.8 ,   838.1 ,\n",
       "        3522.76,  6095.36,  1476.98,   678.  ])"
      ]
     },
     "execution_count": 40,
     "metadata": {},
     "output_type": "execute_result"
    },
    {
     "data": {
      "image/png": "[encoded data removed]",
      "text/plain": [
       "<Figure size 1200x800 with 1 Axes>"
      ]
     },
     "metadata": {},
     "output_type": "display_data"
    }
   ],
   "source": [
    "model.predict()"
   ]
  }
 ],
 "metadata": {
  "kernelspec": {
   "display_name": "Python 3",
   "language": "python",
   "name": "python3"
  },
  "language_info": {
   "codemirror_mode": {
    "name": "ipython",
    "version": 3
   },
   "file_extension": ".py",
   "mimetype": "text/x-python",
   "name": "python",
   "nbconvert_exporter": "python",
   "pygments_lexer": "ipython3",
   "version": "3.7.9"
  }
 },
 "nbformat": 4,
 "nbformat_minor": 5
}

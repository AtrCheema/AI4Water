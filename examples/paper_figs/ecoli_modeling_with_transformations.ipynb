{
 "cells": [
  {
   "cell_type": "code",
   "execution_count": null,
   "metadata": {},
   "outputs": [],
   "source": [
    "try:\n",
    "    import AI4Water\n",
    "except ModuleNotFoundError:\n",
    "    !python -m pip install \"AI4Water[all] @ git+https://github.com/AtrCheema/AI4Water.git@dev\""
   ]
  },
  {
   "cell_type": "code",
   "execution_count": null,
   "metadata": {},
   "outputs": [],
   "source": [
    "import pandas as pd \n",
    "\n",
    "from AI4Water.utils.datasets import MtropicsLaos\n",
    "from AI4Water.utils.resample import Resampler \n",
    "from AI4Water.experiments import TransformationExperiments"
   ]
  },
  {
   "cell_type": "code",
   "execution_count": null,
   "metadata": {},
   "outputs": [],
   "source": [
    "laos = MtropicsLaos()\n",
    "\n",
    "pcp = laos.fetch_pcp(st='20110101', en='20181231')\n",
    "pcp = pcp.interpolate('linear', limit=5)\n",
    "pcp = pcp.fillna(0.0)"
   ]
  },
  {
   "cell_type": "code",
   "execution_count": null,
   "metadata": {},
   "outputs": [],
   "source": [
    "w = laos.fetch_weather_station_data(\"20110101\", \"20181231\")"
   ]
  },
  {
   "cell_type": "code",
   "execution_count": null,
   "metadata": {},
   "outputs": [],
   "source": [
    "ecoli = laos.fetch_ecoli(en=\"20181231\")\n",
    "ecoli = ecoli.dropna()\n",
    "ecoli_6min = ecoli.resample('6min').mean()"
   ]
  },
  {
   "cell_type": "code",
   "execution_count": null,
   "metadata": {},
   "outputs": [],
   "source": [
    "w = w.interpolate()\n",
    "w = w.bfill()\n",
    "assert int(w.isna().sum().sum()) == 0"
   ]
  },
  {
   "cell_type": "code",
   "execution_count": null,
   "metadata": {},
   "outputs": [],
   "source": [
    "w.columns = ['temp', 'rel_hum', 'wind_speed', 'sol_rad']\n",
    "\n",
    "w_6min = Resampler(w,\n",
    "               freq='6min',\n",
    "               how={'temp': 'linear',\n",
    "                    'rel_hum': 'linear',\n",
    "                    'wind_speed': 'linear',\n",
    "                    'sol_rad':'linear'\n",
    "                    }\n",
    "               )()"
   ]
  },
  {
   "cell_type": "code",
   "execution_count": null,
   "metadata": {},
   "outputs": [],
   "source": [
    "st, en = ecoli_6min.index[0], ecoli_6min.index[-1]\n",
    "data = pd.concat([w_6min[st:en], pcp[st:en], ecoli_6min], axis=1)"
   ]
  },
  {
   "cell_type": "code",
   "execution_count": null,
   "metadata": {},
   "outputs": [],
   "source": [
    "cases = {\n",
    "    'model_None': {'transformation': None},\n",
    "    'model_logn': {'transformation':{'method': 'log', 'replace_nans': True,\n",
    "                              'replace_zeros': True,\n",
    "                              'features': ['E-coli_4dilutions']}},\n",
    "    'model_log10': {'transformation': {'method': 'log10', 'replace_nans': True,\n",
    "                                     'replace_zeros': True,\n",
    "                                     'features': ['E-coli_4dilutions']}},\n",
    "    'model_robust': {'transformation': {'method': 'robust', 'features': ['E-coli_4dilutions']}},\n",
    "    'model_zscore': {'transformation': {'method': 'zscore', 'features': ['E-coli_4dilutions']}},\n",
    "    'model_minmax': {'transformation': {'method': 'minmax', 'features': ['E-coli_4dilutions']}},\n",
    "    'model_quantile': {'transformation': {'method': 'quantile', 'features': ['E-coli_4dilutions']}},\n",
    "}"
   ]
  },
  {
   "cell_type": "code",
   "execution_count": null,
   "metadata": {},
   "outputs": [],
   "source": [
    "model_args = {\n",
    "    'epochs': 500,\n",
    "    'patience': 50,\n",
    "    'test_fraction': 0.25,\n",
    "    'val_data': 'same',\n",
    "    'verbosity': 0\n",
    "}"
   ]
  },
  {
   "cell_type": "code",
   "execution_count": null,
   "metadata": {},
   "outputs": [],
   "source": [
    "class MyTransformationExperiment(TransformationExperiments):\n",
    "\n",
    "    def update_paras(self, **suggested_paras):\n",
    "        \"\"\"This method must update all the parameters to build the dl4sq 'Model'.\"\"\"\n",
    "        return {\n",
    "            'model': {\n",
    "                'layers': {\n",
    "                    \"LSTM\": {\"units\": suggested_paras.get('lstm_units', 64), \"dropout\": 0.2},\n",
    "                    \"Dense\": 1\n",
    "                }\n",
    "            },\n",
    "            'lookback': suggested_paras.get('lookback', 10),\n",
    "            'batch_size': suggested_paras.get('batch_size', 8),\n",
    "            'lr': suggested_paras.get('lr', 0.001),\n",
    "            'transformation': suggested_paras['transformation']\n",
    "        }"
   ]
  },
  {
   "cell_type": "code",
   "execution_count": null,
   "metadata": {},
   "outputs": [],
   "source": [
    "experiment = MyTransformationExperiment(data=data,\n",
    "                                        cases=cases,\n",
    "                                        exp_name='ecoli_output_transformation',\n",
    "                                        **model_args)"
   ]
  },
  {
   "cell_type": "code",
   "execution_count": null,
   "metadata": {},
   "outputs": [],
   "source": [
    "experiment.fit(fit_kws={'indices': 'random'})"
   ]
  },
  {
   "cell_type": "code",
   "execution_count": null,
   "metadata": {},
   "outputs": [],
   "source": [
    "experiment.compare_errors('r2')"
   ]
  },
  {
   "cell_type": "code",
   "execution_count": null,
   "metadata": {},
   "outputs": [],
   "source": [
    "errs = experiment.compare_errors('nse')"
   ]
  },
  {
   "cell_type": "code",
   "execution_count": null,
   "metadata": {},
   "outputs": [],
   "source": [
    "errs = experiment.compare_errors('rmse')"
   ]
  },
  {
   "cell_type": "code",
   "execution_count": null,
   "metadata": {},
   "outputs": [],
   "source": [
    "errs = experiment.compare_errors('msle')"
   ]
  },
  {
   "cell_type": "code",
   "execution_count": null,
   "metadata": {},
   "outputs": [],
   "source": [
    "\n",
    "errs = experiment.compare_errors('mape')"
   ]
  },
  {
   "cell_type": "code",
   "execution_count": null,
   "metadata": {},
   "outputs": [],
   "source": [
    "experiment.plot_taylor(\n",
    "             figsize=(7, 10),\n",
    "             save=True,\n",
    "             grid_kws={'axis': 'x', 'color': 'g', 'lw': 1.0},\n",
    "            )"
   ]
  }
 ],
 "metadata": {
  "kernelspec": {
   "display_name": "Python 3",
   "language": "python",
   "name": "python3"
  },
  "language_info": {
   "codemirror_mode": {
    "name": "ipython",
    "version": 3
   },
   "file_extension": ".py",
   "mimetype": "text/x-python",
   "name": "python",
   "nbconvert_exporter": "python",
   "pygments_lexer": "ipython3",
   "version": "3.7.7"
  }
 },
 "nbformat": 4,
 "nbformat_minor": 4
}

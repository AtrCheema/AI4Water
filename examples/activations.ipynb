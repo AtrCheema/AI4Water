{
 "cells": [
  {
   "cell_type": "code",
   "execution_count": 1,
   "metadata": {
    "pycharm": {
     "is_executing": false
    }
   },
   "outputs": [],
   "source": [
    "import site\n",
    "import os\n",
    "site.addsitedir(os.getcwd().rsplit('\\\\',1)[0] + '\\\\')  # so that this file can import stuff without it being in site-packages"
   ]
  },
  {
   "cell_type": "code",
   "execution_count": 2,
   "metadata": {
    "pycharm": {
     "is_executing": false,
     "name": "#%%\n"
    }
   },
   "outputs": [
    {
     "name": "stdout",
     "output_type": "stream",
     "text": [
      "\n",
      "**********Pytorch models could not be imported **********\n",
      "\n"
     ]
    },
    {
     "name": "stderr",
     "output_type": "stream",
     "text": [
      "C:\\Users\\USER\\Anaconda3\\envs\\tfgpu21_py37\\lib\\site-packages\\sklearn\\utils\\deprecation.py:144: FutureWarning: The sklearn.neural_network.multilayer_perceptron module is  deprecated in version 0.22 and will be removed in version 0.24. The corresponding classes / functions should instead be imported from sklearn.neural_network. Anything that cannot be imported from sklearn.neural_network is now part of the private API.\n",
      "  warnings.warn(message, FutureWarning)\n"
     ]
    },
    {
     "data": {
      "text/plain": [
       "'2.1.0'"
      ]
     },
     "execution_count": 2,
     "metadata": {},
     "output_type": "execute_result"
    }
   ],
   "source": [
    "# this file tests that given activations are working both as layers as well as activation functions withing a layer\n",
    "\n",
    "from dl4seq import Model \n",
    "import tensorflow as tf\n",
    "\n",
    "tf.compat.v1.disable_eager_execution()\n",
    "import pandas as pd\n",
    "import numpy as np\n",
    "\n",
    "%matplotlib inline\n",
    "\n",
    "tf.__version__"
   ]
  },
  {
   "cell_type": "markdown",
   "metadata": {},
   "source": [
    "## Activation Layers\n",
    "\n",
    "Following code shows how to use different activations as a keras [`layer`](https://www.tensorflow.org/api_docs/python/tf/keras/layers/Layer)."
   ]
  },
  {
   "cell_type": "code",
   "execution_count": 3,
   "metadata": {
    "pycharm": {
     "is_executing": false
    }
   },
   "outputs": [
    {
     "data": {
      "text/html": [
       "<div>\n",
       "<style scoped>\n",
       "    .dataframe tbody tr th:only-of-type {\n",
       "        vertical-align: middle;\n",
       "    }\n",
       "\n",
       "    .dataframe tbody tr th {\n",
       "        vertical-align: top;\n",
       "    }\n",
       "\n",
       "    .dataframe thead th {\n",
       "        text-align: right;\n",
       "    }\n",
       "</style>\n",
       "<table border=\"1\" class=\"dataframe\">\n",
       "  <thead>\n",
       "    <tr style=\"text-align: right;\">\n",
       "      <th></th>\n",
       "      <th>input</th>\n",
       "      <th>output</th>\n",
       "    </tr>\n",
       "  </thead>\n",
       "  <tbody>\n",
       "    <tr>\n",
       "      <th>0</th>\n",
       "      <td>-20.000000</td>\n",
       "      <td>-19.000000</td>\n",
       "    </tr>\n",
       "    <tr>\n",
       "      <th>1</th>\n",
       "      <td>-19.595960</td>\n",
       "      <td>-18.595960</td>\n",
       "    </tr>\n",
       "    <tr>\n",
       "      <th>2</th>\n",
       "      <td>-19.191919</td>\n",
       "      <td>-18.191919</td>\n",
       "    </tr>\n",
       "    <tr>\n",
       "      <th>3</th>\n",
       "      <td>-18.787879</td>\n",
       "      <td>-17.787879</td>\n",
       "    </tr>\n",
       "    <tr>\n",
       "      <th>4</th>\n",
       "      <td>-18.383838</td>\n",
       "      <td>-17.383838</td>\n",
       "    </tr>\n",
       "  </tbody>\n",
       "</table>\n",
       "</div>"
      ],
      "text/plain": [
       "       input     output\n",
       "0 -20.000000 -19.000000\n",
       "1 -19.595960 -18.595960\n",
       "2 -19.191919 -18.191919\n",
       "3 -18.787879 -17.787879\n",
       "4 -18.383838 -17.383838"
      ]
     },
     "execution_count": 3,
     "metadata": {},
     "output_type": "execute_result"
    }
   ],
   "source": [
    "# create dummy data\n",
    "i = np.linspace(-20, 20, 100)\n",
    "o = i + 1\n",
    "data = pd.DataFrame(np.concatenate([i.reshape(-1,1), o.reshape(-1, 1)], axis=1), columns=['input', 'output'])\n",
    "\n",
    "data.head()"
   ]
  },
  {
   "cell_type": "code",
   "execution_count": 4,
   "metadata": {
    "pycharm": {
     "is_executing": false,
     "name": "#%%\n"
    }
   },
   "outputs": [],
   "source": [
    "activation_layers = ['PRELU', \"RELU\", \"TANH\", \"ELU\", \"LEAKYRELU\", \"THRESHOLDRELU\", \"SELU\", 'sigmoid', 'hardsigmoid', 'crelu',\n",
    "            'relu6', 'softmax', 'softplus', 'softsign', \"SWISH\"]\n",
    "\n",
    "layers = {\n",
    "    \"Input\": {\"config\": {\"shape\": (1, ), \"name\": \"CustomInputs\"}},\n",
    "    \"PRELU\": {\"config\": {},\n",
    "              \"inputs\": \"CustomInputs\"},\n",
    "    \"RELU\": {\"config\": {},\n",
    "              \"inputs\": \"CustomInputs\"},\n",
    "    \"TANH\": {\"config\": {},\n",
    "              \"inputs\": \"CustomInputs\"},\n",
    "    \"ELU\": {\"config\": {},\n",
    "              \"inputs\": \"CustomInputs\"},\n",
    "    \"LEAKYRELU\": {\"config\": {},\n",
    "              \"inputs\": \"CustomInputs\"},\n",
    "    \"THRESHOLDRELU\": {\"config\": {},\n",
    "              \"inputs\": \"CustomInputs\"},\n",
    "    \"SELU\": {\"config\": {},\n",
    "              \"inputs\": \"CustomInputs\"},\n",
    "    \"sigmoid\": {\"config\": {},\n",
    "              \"inputs\": \"CustomInputs\"},\n",
    "    \"hardsigmoid\": {\"config\": {},\n",
    "              \"inputs\": \"CustomInputs\"},\n",
    "    \"crelu\": {\"config\": {},\n",
    "              \"inputs\": \"CustomInputs\"},\n",
    "    \"relu6\": {\"config\": {},\n",
    "              \"inputs\": \"CustomInputs\"},\n",
    "    \"softmax\": {\"config\": {},\n",
    "              \"inputs\": \"CustomInputs\"},\n",
    "    \"softplus\": {\"config\": {},\n",
    "              \"inputs\": \"CustomInputs\"},\n",
    "    \"softsign\": {\"config\": {},\n",
    "              \"inputs\": \"CustomInputs\"},\n",
    "    \"SWISH\": {\"config\": {},\n",
    "              \"inputs\": \"CustomInputs\"},\n",
    "    \"Concat\": {\"config\": {},\n",
    "               \"inputs\": activation_layers},\n",
    "    \"Dense\": {\"config\": {\"units\": 1}}, \n",
    "          }\n"
   ]
  },
  {
   "cell_type": "code",
   "execution_count": 5,
   "metadata": {
    "pycharm": {
     "is_executing": false
    }
   },
   "outputs": [
    {
     "name": "stdout",
     "output_type": "stream",
     "text": [
      "building DL based model for regression problem\n",
      "WARNING:tensorflow:From C:\\Users\\USER\\Anaconda3\\envs\\tfgpu21_py37\\lib\\site-packages\\tensorflow_core\\python\\ops\\resource_variable_ops.py:1635: calling BaseResourceVariable.__init__ (from tensorflow.python.ops.resource_variable_ops) with constraint is deprecated and will be removed in a future version.\n",
      "Instructions for updating:\n",
      "If using Keras pass *_constraint arguments to layers.\n",
      "Model: \"model\"\n",
      "__________________________________________________________________________________________________\n",
      "Layer (type)                    Output Shape         Param #     Connected to                     \n",
      "==================================================================================================\n",
      "CustomInputs (InputLayer)       [(None, 1)]          0                                            \n",
      "__________________________________________________________________________________________________\n",
      "PRELU (PReLU)                   (None, 1)            1           CustomInputs[0][0]               \n",
      "__________________________________________________________________________________________________\n",
      "RELU (Activation)               (None, 1)            0           CustomInputs[0][0]               \n",
      "__________________________________________________________________________________________________\n",
      "TANH (Activation)               (None, 1)            0           CustomInputs[0][0]               \n",
      "__________________________________________________________________________________________________\n",
      "ELU (ELU)                       (None, 1)            0           CustomInputs[0][0]               \n",
      "__________________________________________________________________________________________________\n",
      "leaky_re_lu (LeakyReLU)         (None, 1)            0           CustomInputs[0][0]               \n",
      "__________________________________________________________________________________________________\n",
      "THRESHOLDRELU (ThresholdedReLU) (None, 1)            0           CustomInputs[0][0]               \n",
      "__________________________________________________________________________________________________\n",
      "SELU (Activation)               (None, 1)            0           CustomInputs[0][0]               \n",
      "__________________________________________________________________________________________________\n",
      "sigmoid (Activation)            (None, 1)            0           CustomInputs[0][0]               \n",
      "__________________________________________________________________________________________________\n",
      "hardsigmoid (Activation)        (None, 1)            0           CustomInputs[0][0]               \n",
      "__________________________________________________________________________________________________\n",
      "crelu (Activation)              (None, 2)            0           CustomInputs[0][0]               \n",
      "__________________________________________________________________________________________________\n",
      "relu6 (Activation)              (None, 1)            0           CustomInputs[0][0]               \n",
      "__________________________________________________________________________________________________\n",
      "softmax (Activation)            (None, 1)            0           CustomInputs[0][0]               \n",
      "__________________________________________________________________________________________________\n",
      "softplus (Activation)           (None, 1)            0           CustomInputs[0][0]               \n",
      "__________________________________________________________________________________________________\n",
      "softsign (Activation)           (None, 1)            0           CustomInputs[0][0]               \n",
      "__________________________________________________________________________________________________\n",
      "SWISH (Activation)              (None, 1)            0           CustomInputs[0][0]               \n",
      "__________________________________________________________________________________________________\n",
      "Concat (Concatenate)            (None, 16)           0           PRELU[0][0]                      \n",
      "                                                                 RELU[0][0]                       \n",
      "                                                                 TANH[0][0]                       \n",
      "                                                                 ELU[0][0]                        \n",
      "                                                                 leaky_re_lu[0][0]                \n",
      "                                                                 THRESHOLDRELU[0][0]              \n",
      "                                                                 SELU[0][0]                       \n",
      "                                                                 sigmoid[0][0]                    \n",
      "                                                                 hardsigmoid[0][0]                \n",
      "                                                                 crelu[0][0]                      \n",
      "                                                                 relu6[0][0]                      \n",
      "                                                                 softmax[0][0]                    \n",
      "                                                                 softplus[0][0]                   \n",
      "                                                                 softsign[0][0]                   \n",
      "                                                                 SWISH[0][0]                      \n",
      "__________________________________________________________________________________________________\n",
      "Dense (Dense)                   (None, 1)            17          Concat[0][0]                     \n",
      "__________________________________________________________________________________________________\n",
      "reshape (Reshape)               (None, 1, 1)         0           Dense[0][0]                      \n",
      "==================================================================================================\n",
      "Total params: 18\n",
      "Trainable params: 18\n",
      "Non-trainable params: 0\n",
      "__________________________________________________________________________________________________\n"
     ]
    }
   ],
   "source": [
    "model = Model(model={'layers':layers},\n",
    "            inputs = ['input'],\n",
    "            outputs = ['output'],\n",
    "            lookback=1,\n",
    "            epochs=1,\n",
    "            batches=\"2d\",\n",
    "            batch_size=64,\n",
    "            drop_remainder=True,\n",
    "            transformation=None,\n",
    "            shuffle=False,\n",
    "            data=data)"
   ]
  },
  {
   "cell_type": "code",
   "execution_count": 6,
   "metadata": {
    "pycharm": {
     "is_executing": false
    }
   },
   "outputs": [
    {
     "name": "stdout",
     "output_type": "stream",
     "text": [
      "Number of total batches are 1\n",
      "input_x shape:  (64, 1)\n",
      "prev_y shape:  (64, 1)\n",
      "target shape:  (64, 1, 1)\n",
      "Plotting activations of layers\n"
     ]
    },
    {
     "data": {
      "image/png": "[encoded data removed]",
      "text/plain": [
       "<Figure size 432x288 with 1 Axes>"
      ]
     },
     "metadata": {},
     "output_type": "display_data"
    }
   ],
   "source": [
    "model.plot_layer_outputs(layer_names=\"CustomInputs\", save=False)"
   ]
  },
  {
   "cell_type": "code",
   "execution_count": 7,
   "metadata": {
    "pycharm": {
     "is_executing": false
    }
   },
   "outputs": [
    {
     "ename": "AttributeError",
     "evalue": "'Model' object has no attribute 'plot_activations'",
     "output_type": "error",
     "traceback": [
      "\u001b[1;31m---------------------------------------------------------------------------\u001b[0m",
      "\u001b[1;31mAttributeError\u001b[0m                            Traceback (most recent call last)",
      "\u001b[1;32m<ipython-input-7-a09192cd7c1d>\u001b[0m in \u001b[0;36m<module>\u001b[1;34m\u001b[0m\n\u001b[1;32m----> 1\u001b[1;33m \u001b[0mmodel\u001b[0m\u001b[1;33m.\u001b[0m\u001b[0mplot_activations\u001b[0m\u001b[1;33m(\u001b[0m\u001b[0mlayer_names\u001b[0m\u001b[1;33m=\u001b[0m\u001b[0mactivation_layers\u001b[0m\u001b[1;33m,\u001b[0m \u001b[0msave\u001b[0m\u001b[1;33m=\u001b[0m\u001b[1;32mFalse\u001b[0m\u001b[1;33m)\u001b[0m\u001b[1;33m\u001b[0m\u001b[1;33m\u001b[0m\u001b[0m\n\u001b[0m",
      "\u001b[1;31mAttributeError\u001b[0m: 'Model' object has no attribute 'plot_activations'"
     ]
    }
   ],
   "source": [
    "model.plot_layer_outputs(layer_names=activation_layers, save=False)"
   ]
  },
  {
   "cell_type": "markdown",
   "metadata": {},
   "source": [
    "## Activation Functions\n",
    "Following shows how to use different activation functions as `activation function` within a keras layer. \n",
    "Application of activation function within a layer can be different than application of activation as a layer depending \n",
    "upon the equation of the forward pass of that layer. For example, in \n",
    "[`LSTM`](https://www.tensorflow.org/api_docs/python/tf/keras/layers/LSTM), there are two activation functions, and they \n",
    "are different than if we apply activation as a layer after `LSTM`. In `LSTM` the activation appear in the equations of\n",
    "LSTM. However the following cases show similar results to whe we used activation functions a layers (above). \n",
    "This is beacuse we are applying activation functions only on dense layer and are initializing the dense kerel as `ones`."
   ]
  },
  {
   "cell_type": "code",
   "execution_count": null,
   "metadata": {},
   "outputs": [],
   "source": [
    "layers = {\"Input\": {\"config\": {\"shape\": (1, ), \"name\": \"CustomInputs\"}}}\n",
    "\n",
    "activation_layers = []\n",
    "for idx, act_fn in enumerate(['tanh', 'relu', 'elu', 'leakyrelu', 'crelu', 'selu', 'relu6', 'sigmoid',\n",
    "                              'hardsigmoid', 'swish']):\n",
    "\n",
    "    # initializing the kernel/weight matrix of each dense layer with ones, so that it does not affect first forward propagation\n",
    "    layers[\"Dense_\" + act_fn] = {'config': {'units': 1, 'activation': act_fn, \"kernel_initializer\": \"ones\", \"name\": act_fn},\n",
    "                                   'inputs': \"CustomInputs\"}\n",
    "    activation_layers.append(act_fn)\n",
    "\n",
    "layers[\"Concat\"] = {\"config\": {\"name\": \"concat\"},\n",
    "                    \"inputs\": activation_layers}\n",
    "\n",
    "layers[\"Dense\"] = {'config': {'units': 1}}\n",
    "\n",
    "layers"
   ]
  },
  {
   "cell_type": "code",
   "execution_count": null,
   "metadata": {},
   "outputs": [],
   "source": [
    "model = Model(model={'layers':layers},\n",
    "            data=data,\n",
    "            inputs = ['input'],\n",
    "            outputs = ['output'],\n",
    "            lookback=1,\n",
    "            epochs=1,\n",
    "            batches=\"2d\",\n",
    "            batch_size=64,\n",
    "            drop_remainder=True,\n",
    "            transformation=None,\n",
    "            shuffle=False,)"
   ]
  },
  {
   "cell_type": "code",
   "execution_count": null,
   "metadata": {},
   "outputs": [],
   "source": [
    "model.plot_layer_outputs(layer_names=\"CustomInputs\", save=False)"
   ]
  },
  {
   "cell_type": "code",
   "execution_count": null,
   "metadata": {},
   "outputs": [],
   "source": [
    "model.plot_layer_outputs(layer_names=activation_layers, save=False)"
   ]
  },
  {
   "cell_type": "code",
   "execution_count": null,
   "metadata": {},
   "outputs": [],
   "source": []
  }
 ],
 "metadata": {
  "kernelspec": {
   "display_name": "Python 3",
   "language": "python",
   "name": "python3"
  },
  "language_info": {
   "codemirror_mode": {
    "name": "ipython",
    "version": 3
   },
   "file_extension": ".py",
   "mimetype": "text/x-python",
   "name": "python",
   "nbconvert_exporter": "python",
   "pygments_lexer": "ipython3",
   "version": "3.7.7"
  },
  "pycharm": {
   "stem_cell": {
    "cell_type": "raw",
    "metadata": {
     "collapsed": false
    },
    "source": []
   }
  }
 },
 "nbformat": 4,
 "nbformat_minor": 1
}

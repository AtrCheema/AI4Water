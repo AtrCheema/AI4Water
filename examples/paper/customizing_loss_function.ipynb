{
 "cells": [
  {
   "cell_type": "markdown",
   "id": "f60599ba",
   "metadata": {},
   "source": [
    "<a href=\"https://colab.research.google.com/github/AtrCheema/AI4Water/blob/dev/examples/paper/customizing_loss_function.ipynb\" target=\"_parent\"><img src=\"https://colab.research.google.com/assets/colab-badge.svg\" alt=\"Open In Colab\"/></a>"
   ]
  },
  {
   "cell_type": "markdown",
   "source": [
    "This notebook shows how to customize loss function when using AI4Water's `Model` class.\n",
    "\n",
    "AI4Water's Model class has a method named `loss`. Therefore, if the user wishes to modify loss function for neural networks based models, the user has to overwrite this method of Model class.\n",
    "\n",
    "In this problem, instead of predicted actual observation, we predict quantiles\n",
    "\n",
    "The loss value function is customized. We use pinball loss. https://www.lokad.com/pinball-loss-function-definition\n",
    "\n",
    "Inspired from https://www.kaggle.com/ulrich07/quantile-regression-with-keras"
   ],
   "metadata": {
    "collapsed": false,
    "pycharm": {
     "name": "#%% md\n"
    }
   }
  },
  {
   "cell_type": "code",
   "execution_count": 1,
   "id": "23f3eaa2",
   "metadata": {},
   "outputs": [],
   "source": [
    "try:\n",
    "    import ai4water\n",
    "except (ImportError, ModuleNotFoundError):\n",
    "    !python -m pip install \"AI4Water[all] @ git+https://github.com/AtrCheema/AI4Water.git\""
   ]
  },
  {
   "cell_type": "code",
   "execution_count": 2,
   "id": "4bac614b",
   "metadata": {},
   "outputs": [
    {
     "name": "stderr",
     "output_type": "stream",
     "text": [
      "d:\\c\\anaconda3\\envs\\tfcpu21_py37\\lib\\site-packages\\numpy\\_distributor_init.py:32: UserWarning: loaded more than 1 DLL from .libs:\n",
      "d:\\c\\anaconda3\\envs\\tfcpu21_py37\\lib\\site-packages\\numpy\\.libs\\libopenblas.NOIJJG62EMASZI6NYURL6JBKM4EVBGM7.gfortran-win_amd64.dll\n",
      "d:\\c\\anaconda3\\envs\\tfcpu21_py37\\lib\\site-packages\\numpy\\.libs\\libopenblas.XWYDX2IKJW2NMTWSFYNGFUWKQU3LYTCZ.gfortran-win_amd64.dll\n",
      "  stacklevel=1)\n"
     ]
    },
    {
     "data": {
      "text/plain": [
       "'2.1.0'"
      ]
     },
     "execution_count": 2,
     "metadata": {},
     "output_type": "execute_result"
    }
   ],
   "source": [
    "import tensorflow as tf\n",
    "from tensorflow import keras\n",
    "\n",
    "tf.__version__"
   ]
  },
  {
   "cell_type": "code",
   "execution_count": 3,
   "id": "2e435fe8",
   "metadata": {},
   "outputs": [
    {
     "data": {
      "text/plain": [
       "'1.19.1'"
      ]
     },
     "execution_count": 3,
     "metadata": {},
     "output_type": "execute_result"
    }
   ],
   "source": [
    "import numpy as np\n",
    "import pandas as pd\n",
    "\n",
    "np.__version__"
   ]
  },
  {
   "cell_type": "code",
   "execution_count": 4,
   "id": "ae628cd9",
   "metadata": {},
   "outputs": [
    {
     "name": "stdout",
     "output_type": "stream",
     "text": [
      "WARNING:tensorflow:From D:\\mytools\\AI4Water\\ai4water\\backend.py:159: is_gpu_available (from tensorflow.python.framework.test_util) is deprecated and will be removed in a future version.\n",
      "Instructions for updating:\n",
      "Use `tf.config.list_physical_devices('GPU')` instead.\n"
     ]
    },
    {
     "name": "stderr",
     "output_type": "stream",
     "text": [
      "d:\\c\\anaconda3\\envs\\tfcpu21_py37\\lib\\site-packages\\tpot\\builtins\\__init__.py:36: UserWarning: Warning: optional dependency `torch` is not available. - skipping import of NN models.\n",
      "  warnings.warn(\"Warning: optional dependency `torch` is not available. - skipping import of NN models.\")\n"
     ]
    },
    {
     "name": "stdout",
     "output_type": "stream",
     "text": [
      "\n",
      "**********Pytorch models could not be imported **********\n",
      "\n"
     ]
    }
   ],
   "source": [
    "from ai4water import Model"
   ]
  },
  {
   "cell_type": "code",
   "execution_count": 5,
   "id": "f22768bd",
   "metadata": {},
   "outputs": [],
   "source": [
    "class QuantileModel(Model):\n",
    "\n",
    "    def training_data(self, *args, **kwargs):\n",
    "        x,y = super().training_data(*args, **kwargs)\n",
    "        return x, y.reshape(-1,1,1)\n",
    "\n",
    "    def validation_data(self, *args, **kwargs):\n",
    "        x,y = super().training_data(*args, **kwargs)\n",
    "        return x, y.reshape(-1,1,1)\n",
    "\n",
    "    def test_data(self, *args, **kwargs):\n",
    "        x,y = super().training_data(*args, **kwargs)\n",
    "        return x, y.reshape(-1,1,1)\n",
    "\n",
    "    def loss(self):\n",
    "\n",
    "        return qloss"
   ]
  },
  {
   "cell_type": "code",
   "execution_count": 6,
   "id": "ae000415",
   "metadata": {},
   "outputs": [],
   "source": [
    "def qloss(y_true, y_pred):\n",
    "    # Pinball loss for multiple quantiles\n",
    "    qs = quantiles\n",
    "    q = tf.constant(np.array([qs]), dtype=tf.float32)\n",
    "    e = y_true - y_pred\n",
    "    v = tf.maximum(q * e, (q - 1) * e)\n",
    "    return keras.backend.mean(v)"
   ]
  },
  {
   "cell_type": "code",
   "execution_count": 11,
   "id": "3a15f2b9",
   "metadata": {},
   "outputs": [
    {
     "name": "stdout",
     "output_type": "stream",
     "text": [
      "ERROR! Session/line number was not unique in database. History logging moved to new session 24885\n"
     ]
    }
   ],
   "source": [
    "# Define a dummy dataset consisting of 6 time-series.\n",
    "rows = 2000\n",
    "cols = 6\n",
    "data = np.arange(int(rows*cols)).reshape(-1, rows).transpose()\n",
    "data = pd.DataFrame(data, columns=['input_' + str(i) for i in range(cols)],\n",
    "                    index=pd.date_range('20110101', periods=len(data), freq='H'),\n",
    "                   dtype=float)\n",
    "\n",
    "# Define Model\n",
    "layers = {'Dense_0': {'config':  {'units': 64, 'activation': 'relu'}},\n",
    "          'Dropout_0': {'config':  {'rate': 0.3}},\n",
    "          'Dense_1': {'config':  {'units': 32, 'activation': 'relu'}},\n",
    "          'Dropout_1': {'config':  {'rate': 0.3}},\n",
    "          'Dense_2': {'config':  {'units': 16, 'activation': 'relu'}},\n",
    "          'Dense_3': {'config':  {'units': 9}},\n",
    "          'Reshape': {\"target_shape\": (9, 1)}\n",
    "         }"
   ]
  },
  {
   "cell_type": "code",
   "execution_count": 12,
   "id": "56b2c5df",
   "metadata": {},
   "outputs": [],
   "source": [
    "# Define Quantiles\n",
    "quantiles = [0.005, 0.025, 0.165, 0.250, 0.500, 0.750, 0.835, 0.975, 0.995]"
   ]
  },
  {
   "cell_type": "code",
   "execution_count": 13,
   "id": "8bd2160a",
   "metadata": {},
   "outputs": [
    {
     "name": "stdout",
     "output_type": "stream",
     "text": [
      "building DL model for  regression problem using QuantileModel\n",
      "Model: \"quantile_model_1\"\n",
      "_________________________________________________________________\n",
      "Layer (type)                 Output Shape              Param #   \n",
      "=================================================================\n",
      "input_1 (InputLayer)         [(None, 5)]               0         \n",
      "_________________________________________________________________\n",
      "Dense_0 (Dense)              (None, 64)                384       \n",
      "_________________________________________________________________\n",
      "Dropout_0 (Dropout)          (None, 64)                0         \n",
      "_________________________________________________________________\n",
      "Dense_1 (Dense)              (None, 32)                2080      \n",
      "_________________________________________________________________\n",
      "Dropout_1 (Dropout)          (None, 32)                0         \n",
      "_________________________________________________________________\n",
      "Dense_2 (Dense)              (None, 16)                528       \n",
      "_________________________________________________________________\n",
      "Dense_3 (Dense)              (None, 9)                 153       \n",
      "_________________________________________________________________\n",
      "Reshape (Reshape)            (None, 9, 1)              0         \n",
      "=================================================================\n",
      "Total params: 3,145\n",
      "Trainable params: 3,145\n",
      "Non-trainable params: 0\n",
      "_________________________________________________________________\n"
     ]
    }
   ],
   "source": [
    "# Initiate Model\n",
    "model = QuantileModel(\n",
    "    input_features=['input_' + str(i) for i in range(cols - 1)],\n",
    "    output_features=['input_' + str(cols - 1)],\n",
    "    #lookback=1,\n",
    "    model={'layers': layers},\n",
    "    epochs=10,\n",
    "    quantiles=quantiles)"
   ]
  },
  {
   "cell_type": "code",
   "execution_count": 14,
   "id": "bb1f42f9",
   "metadata": {},
   "outputs": [
    {
     "name": "stdout",
     "output_type": "stream",
     "text": [
      "***** Training *****\n",
      "input_x shape:  (1280, 5)\n",
      "target shape:  (1280, 1, 1)\n",
      "***** Validation *****\n",
      "input_x shape:  (320, 5)\n",
      "target shape:  (320, 1, 1)\n",
      "Train on 1280 samples, validate on 320 samples\n",
      "Epoch 1/10\n",
      "assigning name input_1 to IteratorGetNext:0 with shape (32, 5)\n",
      "assigning name input_1 to IteratorGetNext:0 with shape (32, 5)\n",
      "  32/1280 [..............................] - ETA: 31s - loss: 5324.6260 - nse: -7635.5376assigning name input_1 to IteratorGetNext:0 with shape (32, 5)\n",
      "1280/1280 [==============================] - 1s 724us/sample - loss: 4036.7103 - nse: -5015.7666 - val_loss: 1789.2893 - val_nse: -1865915.0000\n",
      "Epoch 2/10\n",
      "1280/1280 [==============================] - 0s 38us/sample - loss: 1536.6065 - nse: -1025.2112 - val_loss: 368.2747 - val_nse: -65432.5078\n",
      "Epoch 3/10\n",
      "1280/1280 [==============================] - 0s 38us/sample - loss: 1070.4763 - nse: -499.1193 - val_loss: 229.2164 - val_nse: -26760.5254\n",
      "Epoch 4/10\n",
      "1280/1280 [==============================] - 0s 35us/sample - loss: 1000.2639 - nse: -433.0707 - val_loss: 323.8733 - val_nse: -56826.6875\n",
      "Epoch 5/10\n",
      "1280/1280 [==============================] - 0s 35us/sample - loss: 887.8613 - nse: -341.8756 - val_loss: 268.9322 - val_nse: -39636.0898\n",
      "Epoch 6/10\n",
      "1280/1280 [==============================] - 0s 34us/sample - loss: 872.4344 - nse: -327.4976 - val_loss: 338.4944 - val_nse: -58166.0820\n",
      "Epoch 7/10\n",
      "1280/1280 [==============================] - 0s 34us/sample - loss: 846.1996 - nse: -312.6560 - val_loss: 274.5036 - val_nse: -38832.4727\n",
      "Epoch 8/10\n",
      "1280/1280 [==============================] - 0s 35us/sample - loss: 815.4775 - nse: -300.1302 - val_loss: 353.7849 - val_nse: -57254.2891\n",
      "Epoch 9/10\n",
      "1280/1280 [==============================] - 0s 39us/sample - loss: 801.3020 - nse: -281.2757 - val_loss: 81.8314 - val_nse: -3969.4329\n",
      "Epoch 10/10\n",
      "1280/1280 [==============================] - 0s 38us/sample - loss: 801.2602 - nse: -270.1583 - val_loss: 70.2258 - val_nse: -4419.7158\n"
     ]
    },
    {
     "data": {
      "image/png": "[encoded data removed]",
      "text/plain": [
       "<Figure size 648x432 with 2 Axes>"
      ]
     },
     "metadata": {
      "needs_background": "light"
     },
     "output_type": "display_data"
    },
    {
     "name": "stdout",
     "output_type": "stream",
     "text": [
      "********** Successfully loaded weights from weights_010_70.22583.hdf5 file **********\n"
     ]
    }
   ],
   "source": [
    "# Train the model on first 0.6 % of data, while 0.2% of data will be used for validation\n",
    "h = model.fit(data=data)"
   ]
  },
  {
   "cell_type": "markdown",
   "id": "241496f1",
   "metadata": {},
   "source": [
    "We can verify that the model is using the `qloss` function as objective function"
   ]
  },
  {
   "cell_type": "code",
   "execution_count": 16,
   "id": "a672c816",
   "metadata": {},
   "outputs": [
    {
     "data": {
      "text/plain": [
       "'qloss'"
      ]
     },
     "execution_count": 16,
     "metadata": {},
     "output_type": "execute_result"
    }
   ],
   "source": [
    "model.loss.__name__"
   ]
  },
  {
   "cell_type": "code",
   "execution_count": 17,
   "id": "bd57b7fb",
   "metadata": {},
   "outputs": [
    {
     "name": "stdout",
     "output_type": "stream",
     "text": [
      "***** Test *****\n",
      "input_x shape:  (400, 5)\n",
      "target shape:  (400, 1, 1)\n",
      "assigning name input_1 to IteratorGetNext:0 with shape (None, 5)\n",
      "400/400 [==============================] - 0s 97us/sample\n"
     ]
    }
   ],
   "source": [
    "true_y, pred_y = model.predict(return_true=True)"
   ]
  },
  {
   "cell_type": "code",
   "execution_count": 19,
   "id": "4fd5c6a9",
   "metadata": {},
   "outputs": [
    {
     "data": {
      "text/plain": [
       "(400, 1, 1)"
      ]
     },
     "execution_count": 19,
     "metadata": {},
     "output_type": "execute_result"
    }
   ],
   "source": [
    "true_y.shape"
   ]
  },
  {
   "cell_type": "code",
   "execution_count": 20,
   "id": "29b37f3d",
   "metadata": {},
   "outputs": [
    {
     "data": {
      "text/plain": [
       "(400, 9, 1)"
      ]
     },
     "execution_count": 20,
     "metadata": {},
     "output_type": "execute_result"
    }
   ],
   "source": [
    "pred_y.shape"
   ]
  },
  {
   "cell_type": "code",
   "execution_count": null,
   "id": "558bf7d5",
   "metadata": {},
   "outputs": [],
   "source": []
  }
 ],
 "metadata": {
  "kernelspec": {
   "display_name": "Python 3 (ipykernel)",
   "language": "python",
   "name": "python3"
  },
  "language_info": {
   "codemirror_mode": {
    "name": "ipython",
    "version": 3
   },
   "file_extension": ".py",
   "mimetype": "text/x-python",
   "name": "python",
   "nbconvert_exporter": "python",
   "pygments_lexer": "ipython3",
   "version": "3.7.10"
  }
 },
 "nbformat": 4,
 "nbformat_minor": 5
}
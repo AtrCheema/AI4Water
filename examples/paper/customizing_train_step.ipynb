{
 "cells": [
  {
   "cell_type": "markdown",
   "id": "4282288e",
   "metadata": {},
   "source": [
    "<a href=\"https://colab.research.google.com/github/AtrCheema/AI4Water/blob/dev/examples/paper/customizing_train_step.ipynb\" target=\"_parent\"><img src=\"https://colab.research.google.com/assets/colab-badge.svg\" alt=\"Open In Colab\"/></a>"
   ]
  },
  {
   "cell_type": "markdown",
   "source": [
    "This file shows a minimal example how to customize `train_step` using the Model class of AI4water\n"
   ],
   "metadata": {
    "collapsed": false,
    "pycharm": {
     "name": "#%% md\n"
    }
   }
  },
  {
   "cell_type": "code",
   "execution_count": 2,
   "id": "d6ab2c62",
   "metadata": {},
   "outputs": [],
   "source": [
    "try:\n",
    "    import ai4water\n",
    "except (ImportError, ModuleNotFoundError):\n",
    "    !python -m pip install \"AI4Water[all] @ git+https://github.com/AtrCheema/AI4Water.git\""
   ]
  },
  {
   "cell_type": "code",
   "execution_count": 3,
   "id": "3df63c5d",
   "metadata": {},
   "outputs": [
    {
     "data": {
      "text/plain": [
       "'2.1.0'"
      ]
     },
     "execution_count": 3,
     "metadata": {},
     "output_type": "execute_result"
    }
   ],
   "source": [
    "import tensorflow as tf\n",
    "\n",
    "tf.__version__"
   ]
  },
  {
   "cell_type": "code",
   "execution_count": 4,
   "id": "19e382cd",
   "metadata": {},
   "outputs": [
    {
     "name": "stdout",
     "output_type": "stream",
     "text": [
      "WARNING:tensorflow:From D:\\mytools\\AI4Water\\ai4water\\backend.py:159: is_gpu_available (from tensorflow.python.framework.test_util) is deprecated and will be removed in a future version.\n",
      "Instructions for updating:\n",
      "Use `tf.config.list_physical_devices('GPU')` instead.\n"
     ]
    },
    {
     "name": "stderr",
     "output_type": "stream",
     "text": [
      "d:\\c\\anaconda3\\envs\\tfcpu21_py37\\lib\\site-packages\\tpot\\builtins\\__init__.py:36: UserWarning: Warning: optional dependency `torch` is not available. - skipping import of NN models.\n",
      "  warnings.warn(\"Warning: optional dependency `torch` is not available. - skipping import of NN models.\")\n"
     ]
    },
    {
     "name": "stdout",
     "output_type": "stream",
     "text": [
      "\n",
      "**********Pytorch models could not be imported **********\n",
      "\n"
     ]
    }
   ],
   "source": [
    "from ai4water import Model\n",
    "from ai4water.datasets import busan_beach"
   ]
  },
  {
   "cell_type": "code",
   "execution_count": 5,
   "id": "970c3a88",
   "metadata": {},
   "outputs": [],
   "source": [
    "class CustomModel(Model):\n",
    "\n",
    "    def train_step(self, data):\n",
    "        print('custom train_step')\n",
    "        # Unpack the data. Its structure depends on your model and\n",
    "        # on what you pass to `fit()`.\n",
    "        x, y = data\n",
    "\n",
    "        with tf.GradientTape() as tape:\n",
    "            y_pred = self(x, training=True)  # Forward pass\n",
    "            # Compute the loss value\n",
    "            # (the loss function is configured in `compile()`)\n",
    "            loss = self.compiled_loss(y, y_pred, regularization_losses=self.losses)\n",
    "\n",
    "        # Compute gradients\n",
    "        trainable_vars = self.trainable_variables\n",
    "        gradients = tape.gradient(loss, trainable_vars)\n",
    "        # Update weights\n",
    "        self.optimizer.apply_gradients(zip(gradients, trainable_vars))\n",
    "        # Update metrics (includes the metric that tracks the loss)\n",
    "        self.compiled_metrics.update_state(y, y_pred)\n",
    "        # Return a dict mapping metric names to current value\n",
    "        return {m.name: m.result() for m in self.metrics}"
   ]
  },
  {
   "cell_type": "code",
   "execution_count": 12,
   "id": "9fb5737a",
   "metadata": {},
   "outputs": [
    {
     "name": "stdout",
     "output_type": "stream",
     "text": [
      "building DL model for  regression problem using CustomModel\n",
      "Model: \"custom_model_1\"\n",
      "_________________________________________________________________\n",
      "Layer (type)                 Output Shape              Param #   \n",
      "=================================================================\n",
      "input_1 (InputLayer)         [(None, 13)]              0         \n",
      "_________________________________________________________________\n",
      "Dense_1 (Dense)              (None, 64)                896       \n",
      "_________________________________________________________________\n",
      "Dropout_1 (Dropout)          (None, 64)                0         \n",
      "_________________________________________________________________\n",
      "Dense_2 (Dense)              (None, 32)                2080      \n",
      "_________________________________________________________________\n",
      "Dropout_2 (Dropout)          (None, 32)                0         \n",
      "_________________________________________________________________\n",
      "Dense_3 (Dense)              (None, 16)                528       \n",
      "_________________________________________________________________\n",
      "Dropout_3 (Dropout)          (None, 16)                0         \n",
      "_________________________________________________________________\n",
      "Dense_4 (Dense)              (None, 8)                 136       \n",
      "_________________________________________________________________\n",
      "Dense_5 (Dense)              (None, 1)                 9         \n",
      "_________________________________________________________________\n",
      "output_reshaped (Reshape)    (None, 1, 1)              0         \n",
      "=================================================================\n",
      "Total params: 3,649\n",
      "Trainable params: 3,649\n",
      "Non-trainable params: 0\n",
      "_________________________________________________________________\n"
     ]
    }
   ],
   "source": [
    "model = CustomModel(\n",
    "    model={\"layers\": {\n",
    "        \"Input\": {\"shape\": (13,)},\n",
    "        \"Dense_1\": 64,\n",
    "        \"Dropout_1\": 0.2,\n",
    "        \"Dense_2\": 32,\n",
    "        \"Dropout_2\": 0.2,\n",
    "        \"Dense_3\": 16,\n",
    "        \"Dropout_3\": 0.2,\n",
    "        \"Dense_4\": 8,\n",
    "        \"Dense_5\": 1,\n",
    "                      }\n",
    "           },\n",
    "    lookback=1,\n",
    "    lr=8.95e-5\n",
    ")\n"
   ]
  },
  {
   "cell_type": "code",
   "execution_count": 13,
   "id": "0440b305",
   "metadata": {},
   "outputs": [
    {
     "name": "stdout",
     "output_type": "stream",
     "text": [
      "\n",
      "********** Removing Examples with nan in labels  **********\n",
      "\n",
      "***** Training *****\n",
      "input_x shape:  (139, 13)\n",
      "target shape:  (139, 1, 1)\n",
      "\n",
      "********** Removing Examples with nan in labels  **********\n",
      "\n",
      "***** Validation *****\n",
      "input_x shape:  (35, 13)\n",
      "target shape:  (35, 1, 1)\n",
      "Train on 139 samples, validate on 35 samples\n",
      "Epoch 1/14\n",
      "assigning name input_1 to IteratorGetNext:0 with shape (None, 13)\n",
      "assigning name input_1 to IteratorGetNext:0 with shape (None, 13)\n",
      " 32/139 [=====>........................] - ETA: 1s - loss: 106838821437440.0000 - nse: -0.1000assigning name input_1 to IteratorGetNext:0 with shape (None, 13)\n",
      "139/139 [==============================] - 0s 4ms/sample - loss: 655322894159901.5000 - nse: -0.1587 - val_loss: 834767940155567.5000 - val_nse: -0.4816\n",
      "Epoch 2/14\n",
      "139/139 [==============================] - 0s 137us/sample - loss: 655322812938637.8750 - nse: -0.1375 - val_loss: 834767052041654.8750 - val_nse: -0.4816\n",
      "Epoch 3/14\n",
      "139/139 [==============================] - 0s 137us/sample - loss: 655321530326509.5000 - nse: -0.2060 - val_loss: 834766225643929.6250 - val_nse: -0.4816\n",
      "Epoch 4/14\n",
      "139/139 [==============================] - 0s 137us/sample - loss: 655321708931440.3750 - nse: -0.1829 - val_loss: 834765399965227.8750 - val_nse: -0.4816\n",
      "Epoch 5/14\n",
      "139/139 [==============================] - 0s 137us/sample - loss: 655324884909726.3750 - nse: -0.1565 - val_loss: 834764513289362.1250 - val_nse: -0.4816\n",
      "Epoch 6/14\n",
      "139/139 [==============================] - 0s 135us/sample - loss: 655319951095616.3750 - nse: -0.1962 - val_loss: 834763624815937.8750 - val_nse: -0.4816\n",
      "Epoch 7/14\n",
      "139/139 [==============================] - 0s 302us/sample - loss: 655318389335960.8750 - nse: -0.1770 - val_loss: 834762737061536.8750 - val_nse: -0.4816\n",
      "Epoch 8/14\n",
      "139/139 [==============================] - 0s 130us/sample - loss: 655321671695205.3750 - nse: -0.2025 - val_loss: 834761970222928.5000 - val_nse: -0.4816\n",
      "Epoch 9/14\n",
      "139/139 [==============================] - 0s 130us/sample - loss: 655323968031854.5000 - nse: -0.2190 - val_loss: 834761021111851.8750 - val_nse: -0.4816\n",
      "Epoch 10/14\n",
      "139/139 [==============================] - 0s 137us/sample - loss: 655321036726330.8750 - nse: -0.1749 - val_loss: 834760196152173.8750 - val_nse: -0.4816\n",
      "Epoch 11/14\n",
      "139/139 [==============================] - 0s 130us/sample - loss: 655319884205520.1250 - nse: -0.1353 - val_loss: 834759431470635.8750 - val_nse: -0.4815\n",
      "Epoch 12/14\n",
      "139/139 [==============================] - 0s 137us/sample - loss: 655318542533668.7500 - nse: -0.2110 - val_loss: 834758543716234.8750 - val_nse: -0.4815\n",
      "Epoch 13/14\n",
      "139/139 [==============================] - 0s 129us/sample - loss: 655317751077556.5000 - nse: -0.1841 - val_loss: 834757779394208.8750 - val_nse: -0.4815\n",
      "Epoch 14/14\n",
      "139/139 [==============================] - 0s 130us/sample - loss: 655319078107062.2500 - nse: -0.1844 - val_loss: 834756892718343.5000 - val_nse: -0.4815\n"
     ]
    },
    {
     "data": {
      "image/png": "[encoded data removed]",
      "text/plain": [
       "<Figure size 648x432 with 2 Axes>"
      ]
     },
     "metadata": {
      "needs_background": "light"
     },
     "output_type": "display_data"
    },
    {
     "name": "stdout",
     "output_type": "stream",
     "text": [
      "********** Successfully loaded weights from weights_014_834756892718343.37500.hdf5 file **********\n"
     ]
    }
   ],
   "source": [
    "h = history = model.fit(data=busan_beach())"
   ]
  },
  {
   "cell_type": "code",
   "execution_count": null,
   "id": "2881ad9e",
   "metadata": {},
   "outputs": [],
   "source": []
  }
 ],
 "metadata": {
  "kernelspec": {
   "display_name": "Python 3 (ipykernel)",
   "language": "python",
   "name": "python3"
  },
  "language_info": {
   "codemirror_mode": {
    "name": "ipython",
    "version": 3
   },
   "file_extension": ".py",
   "mimetype": "text/x-python",
   "name": "python",
   "nbconvert_exporter": "python",
   "pygments_lexer": "ipython3",
   "version": "3.7.10"
  }
 },
 "nbformat": 4,
 "nbformat_minor": 5
}
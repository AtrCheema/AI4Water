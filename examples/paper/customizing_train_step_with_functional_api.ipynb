{
 "cells": [
  {
   "cell_type": "markdown",
   "id": "c04c1880",
   "metadata": {},
   "source": [
    "This file shows a minimal example how to customize 'train_step' using the functional api of AI4water"
   ]
  },
  {
   "cell_type": "code",
   "execution_count": 4,
   "id": "08335b25",
   "metadata": {},
   "outputs": [],
   "source": [
    "# try:\n",
    "#     import AI4Water\n",
    "# except ImportError:\n",
    "#     !python -m pip install \"AI4Water[all] @ git+https://github.com/AtrCheema/AI4Water.git\"\n",
    "\n",
    "import site\n",
    "site.addsitedir(\"D:\\\\mytools\\\\AI4Water\")"
   ]
  },
  {
   "cell_type": "code",
   "execution_count": 1,
   "id": "de7da603",
   "metadata": {},
   "outputs": [
    {
     "name": "stderr",
     "output_type": "stream",
     "text": [
      "d:\\c\\anaconda3\\envs\\tfcpu21_py37\\lib\\site-packages\\numpy\\_distributor_init.py:32: UserWarning: loaded more than 1 DLL from .libs:\n",
      "d:\\c\\anaconda3\\envs\\tfcpu21_py37\\lib\\site-packages\\numpy\\.libs\\libopenblas.NOIJJG62EMASZI6NYURL6JBKM4EVBGM7.gfortran-win_amd64.dll\n",
      "d:\\c\\anaconda3\\envs\\tfcpu21_py37\\lib\\site-packages\\numpy\\.libs\\libopenblas.XWYDX2IKJW2NMTWSFYNGFUWKQU3LYTCZ.gfortran-win_amd64.dll\n",
      "  stacklevel=1)\n"
     ]
    },
    {
     "data": {
      "text/plain": [
       "'2.1.0'"
      ]
     },
     "execution_count": 1,
     "metadata": {},
     "output_type": "execute_result"
    }
   ],
   "source": [
    "import tensorflow as tf\n",
    "\n",
    "tf.__version__"
   ]
  },
  {
   "cell_type": "code",
   "execution_count": null,
   "id": "73172909",
   "metadata": {},
   "outputs": [],
   "source": [
    "assert int(''.join(tf.__version__.split('.')[0:2]).ljust(3, '0')) >= 230, f\"\"\"This example is only tested with\n",
    "        tensorflow versions above 2.3.0. Your version is {tf.__version__}\"\"\""
   ]
  },
  {
   "cell_type": "code",
   "execution_count": null,
   "id": "5bc55bdf",
   "metadata": {},
   "outputs": [],
   "source": [
    "from ai4water.functional import Model\n",
    "from ai4water.datasets import arg_beach"
   ]
  },
  {
   "cell_type": "code",
   "execution_count": 2,
   "id": "e4e7ea8b",
   "metadata": {},
   "outputs": [],
   "source": [
    "\n",
    "class CustomModel(tf.keras.models.Model):\n",
    "\n",
    "    def train_step(self, data):\n",
    "        print('custom train_step')\n",
    "        # Unpack the data. Its structure depends on your model and\n",
    "        # on what you pass to `fit()`.\n",
    "        x, y = data\n",
    "\n",
    "        with tf.GradientTape() as tape:\n",
    "            y_pred = self(x, training=True)  # Forward pass\n",
    "            # Compute the loss value\n",
    "            # (the loss function is configured in `compile()`)\n",
    "            loss = self.compiled_loss(y, y_pred, regularization_losses=self.losses)\n",
    "\n",
    "        # Compute gradients\n",
    "        trainable_vars = self.trainable_variables\n",
    "        gradients = tape.gradient(loss, trainable_vars)\n",
    "        # Update weights\n",
    "        self.optimizer.apply_gradients(zip(gradients, trainable_vars))\n",
    "        # Update metrics (includes the metric that tracks the loss)\n",
    "        self.compiled_metrics.update_state(y, y_pred)\n",
    "        # Return a dict mapping metric names to current value\n",
    "        return {m.name: m.result() for m in self.metrics}"
   ]
  },
  {
   "cell_type": "code",
   "execution_count": 3,
   "id": "9674e964",
   "metadata": {},
   "outputs": [],
   "source": [
    "# Define Model\n",
    "layers = {'Dense_0': {'config':  {'units': 64, 'activation': 'relu'}},\n",
    "          'Dropout_0': {'config':  {'rate': 0.3}},\n",
    "          'Dense_1': {'config':  {'units': 32, 'activation': 'relu'}},\n",
    "          'Dropout_1': {'config':  {'rate': 0.3}},\n",
    "          'Dense_2': {'config':  {'units': 16, 'activation': 'relu'}},\n",
    "          'Dense_3': {'config':  {'units': 9}},\n",
    "          'Reshape': {\"target_shape\": (9, 1)}\n",
    "         }"
   ]
  },
  {
   "cell_type": "code",
   "execution_count": null,
   "id": "76f2f186",
   "metadata": {},
   "outputs": [],
   "source": [
    "model = Model(\n",
    "    model={\"layers\": {\"Dense\": 8}},\n",
    "    batch_size=32,\n",
    "    lookback=1,\n",
    "    lr=8.95e-5,\n",
    "    data=arg_beach(),\n",
    "    epochs=2,\n",
    "    KModel=CustomModel,\n",
    "    train_data='random',\n",
    ")"
   ]
  },
  {
   "cell_type": "code",
   "execution_count": null,
   "id": "f1b80a68",
   "metadata": {},
   "outputs": [],
   "source": [
    "history = model.fit()\n",
    "\n",
    "# since the statement 'custom train_step' is printed, we have verified that tensorflow\n",
    "# used our own customized train_step during training."
   ]
  }
 ],
 "metadata": {
  "kernelspec": {
   "display_name": "Python 3 (ipykernel)",
   "language": "python",
   "name": "python3"
  },
  "language_info": {
   "codemirror_mode": {
    "name": "ipython",
    "version": 3
   },
   "file_extension": ".py",
   "mimetype": "text/x-python",
   "name": "python",
   "nbconvert_exporter": "python",
   "pygments_lexer": "ipython3",
   "version": "3.7.10"
  }
 },
 "nbformat": 4,
 "nbformat_minor": 5
}

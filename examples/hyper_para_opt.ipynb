{
 "nbformat": 4,
 "nbformat_minor": 0,
 "metadata": {
  "colab": {
   "name": "hyper_para_opt.ipynb",
   "provenance": [],
   "collapsed_sections": [
    "Q-o8xjHWCQn_",
    "ouXyeu7vCQn_",
    "GK6PcsQmCQn_"
   ],
   "include_colab_link": true
  },
  "kernelspec": {
   "display_name": "Python 3",
   "language": "python",
   "name": "python3"
  },
  "language_info": {
   "codemirror_mode": {
    "name": "ipython",
    "version": 3
   },
   "file_extension": ".py",
   "mimetype": "text/x-python",
   "name": "python",
   "nbconvert_exporter": "python",
   "pygments_lexer": "ipython3",
   "version": "3.7.7"
  }
 },
 "cells": [
  {
   "cell_type": "markdown",
   "metadata": {
    "id": "view-in-github",
    "colab_type": "text"
   },
   "source": [
    "<a href=\"https://colab.research.google.com/github/AtrCheema/AI4Water/blob/dev/examples/hyper_para_opt.ipynb\" target=\"_parent\"><img src=\"https://colab.research.google.com/assets/colab-badge.svg\" alt=\"Open In Colab\"/></a>"
   ]
  },
  {
   "cell_type": "markdown",
   "metadata": {
    "id": "k67yxTUuCQn8"
   },
   "source": [
    "# Hyper parameter optimization\n",
    "This file describes how to do hyper parameter optimization of machine learningand deep learning algorithms using\n",
    "`HyperOpt` module of `AI4Water` package. In this file, random search, grid search Bayesian methods are implemented."
   ]
  },
  {
   "cell_type": "code",
   "metadata": {
    "colab": {
     "base_uri": "https://localhost:8080/"
    },
    "id": "0aWKfUqVCQn8",
    "outputId": "f563a425-765a-4251-84a1-50b1ed0db6a8"
   },
   "source": [
    "# install AI4Water package if it is not available already\n",
    "try:\n",
    "    from ai4water import Model\n",
    "except (ModuleNotFoundError, ImportError):\n",
    "    !python -m pip install \"AI4Water[all] @ git+https://github.com/AtrCheema/AI4Water.git@dev\""
   ],
   "execution_count": 1,
   "outputs": [
    {
     "output_type": "stream",
     "text": [
      "Requirement already satisfied: AI4Water[all]@ git+https://github.com/AtrCheema/AI4Water.git@dev from git+https://github.com/AtrCheema/AI4Water.git@dev in /usr/local/lib/python3.7/dist-packages (1.0)\n",
      "Requirement already satisfied: numpy in /usr/local/lib/python3.7/dist-packages (from AI4Water[all]@ git+https://github.com/AtrCheema/AI4Water.git@dev) (1.19.5)\n",
      "Requirement already satisfied: pandas in /usr/local/lib/python3.7/dist-packages (from AI4Water[all]@ git+https://github.com/AtrCheema/AI4Water.git@dev) (1.1.5)\n",
      "Requirement already satisfied: scikit-learn in /usr/local/lib/python3.7/dist-packages (from AI4Water[all]@ git+https://github.com/AtrCheema/AI4Water.git@dev) (0.22.2.post1)\n",
      "Requirement already satisfied: seaborn in /usr/local/lib/python3.7/dist-packages (from AI4Water[all]@ git+https://github.com/AtrCheema/AI4Water.git@dev) (0.11.1)\n",
      "Requirement already satisfied: scikit-optimize in /usr/local/lib/python3.7/dist-packages (from AI4Water[all]@ git+https://github.com/AtrCheema/AI4Water.git@dev) (0.8.1)\n",
      "Requirement already satisfied: matplotlib in /usr/local/lib/python3.7/dist-packages (from AI4Water[all]@ git+https://github.com/AtrCheema/AI4Water.git@dev) (3.2.2)\n",
      "Requirement already satisfied: hyperopt; extra == \"all\" in /usr/local/lib/python3.7/dist-packages (from AI4Water[all]@ git+https://github.com/AtrCheema/AI4Water.git@dev) (0.1.2)\n",
      "Requirement already satisfied: tensorflow<=2.3; extra == \"all\" in /usr/local/lib/python3.7/dist-packages (from AI4Water[all]@ git+https://github.com/AtrCheema/AI4Water.git@dev) (2.3.0)\n",
      "Requirement already satisfied: xgboost; extra == \"all\" in /usr/local/lib/python3.7/dist-packages (from AI4Water[all]@ git+https://github.com/AtrCheema/AI4Water.git@dev) (0.90)\n",
      "Requirement already satisfied: imageio; extra == \"all\" in /usr/local/lib/python3.7/dist-packages (from AI4Water[all]@ git+https://github.com/AtrCheema/AI4Water.git@dev) (2.4.1)\n",
      "Requirement already satisfied: catboost; extra == \"all\" in /usr/local/lib/python3.7/dist-packages (from AI4Water[all]@ git+https://github.com/AtrCheema/AI4Water.git@dev) (0.25.1)\n",
      "Requirement already satisfied: EMD-signal; extra == \"all\" in /usr/local/lib/python3.7/dist-packages (from AI4Water[all]@ git+https://github.com/AtrCheema/AI4Water.git@dev) (0.2.15)\n",
      "Requirement already satisfied: optuna; extra == \"all\" in /usr/local/lib/python3.7/dist-packages (from AI4Water[all]@ git+https://github.com/AtrCheema/AI4Water.git@dev) (2.7.0)\n",
      "Requirement already satisfied: joblib; extra == \"all\" in /usr/local/lib/python3.7/dist-packages (from AI4Water[all]@ git+https://github.com/AtrCheema/AI4Water.git@dev) (1.0.1)\n",
      "Requirement already satisfied: lightgbm; extra == \"all\" in /usr/local/lib/python3.7/dist-packages (from AI4Water[all]@ git+https://github.com/AtrCheema/AI4Water.git@dev) (2.2.3)\n",
      "Requirement already satisfied: pyshp; extra == \"all\" in /usr/local/lib/python3.7/dist-packages (from AI4Water[all]@ git+https://github.com/AtrCheema/AI4Water.git@dev) (2.1.3)\n",
      "Requirement already satisfied: plotly; extra == \"all\" in /usr/local/lib/python3.7/dist-packages (from AI4Water[all]@ git+https://github.com/AtrCheema/AI4Water.git@dev) (4.4.1)\n",
      "Requirement already satisfied: tpot; extra == \"all\" in /usr/local/lib/python3.7/dist-packages (from AI4Water[all]@ git+https://github.com/AtrCheema/AI4Water.git@dev) (0.11.7)\n",
      "Requirement already satisfied: see-rnn; extra == \"all\" in /usr/local/lib/python3.7/dist-packages (from AI4Water[all]@ git+https://github.com/AtrCheema/AI4Water.git@dev) (1.15.1)\n",
      "Requirement already satisfied: h5py; extra == \"all\" in /usr/local/lib/python3.7/dist-packages (from AI4Water[all]@ git+https://github.com/AtrCheema/AI4Water.git@dev) (2.10.0)\n",
      "Requirement already satisfied: python-dateutil>=2.7.3 in /usr/local/lib/python3.7/dist-packages (from pandas->AI4Water[all]@ git+https://github.com/AtrCheema/AI4Water.git@dev) (2.8.1)\n",
      "Requirement already satisfied: pytz>=2017.2 in /usr/local/lib/python3.7/dist-packages (from pandas->AI4Water[all]@ git+https://github.com/AtrCheema/AI4Water.git@dev) (2018.9)\n",
      "Requirement already satisfied: scipy>=0.17.0 in /usr/local/lib/python3.7/dist-packages (from scikit-learn->AI4Water[all]@ git+https://github.com/AtrCheema/AI4Water.git@dev) (1.4.1)\n",
      "Requirement already satisfied: pyaml>=16.9 in /usr/local/lib/python3.7/dist-packages (from scikit-optimize->AI4Water[all]@ git+https://github.com/AtrCheema/AI4Water.git@dev) (20.4.0)\n",
      "Requirement already satisfied: cycler>=0.10 in /usr/local/lib/python3.7/dist-packages (from matplotlib->AI4Water[all]@ git+https://github.com/AtrCheema/AI4Water.git@dev) (0.10.0)\n",
      "Requirement already satisfied: kiwisolver>=1.0.1 in /usr/local/lib/python3.7/dist-packages (from matplotlib->AI4Water[all]@ git+https://github.com/AtrCheema/AI4Water.git@dev) (1.3.1)\n",
      "Requirement already satisfied: pyparsing!=2.0.4,!=2.1.2,!=2.1.6,>=2.0.1 in /usr/local/lib/python3.7/dist-packages (from matplotlib->AI4Water[all]@ git+https://github.com/AtrCheema/AI4Water.git@dev) (2.4.7)\n",
      "Requirement already satisfied: six in /usr/local/lib/python3.7/dist-packages (from hyperopt; extra == \"all\"->AI4Water[all]@ git+https://github.com/AtrCheema/AI4Water.git@dev) (1.15.0)\n",
      "Requirement already satisfied: networkx in /usr/local/lib/python3.7/dist-packages (from hyperopt; extra == \"all\"->AI4Water[all]@ git+https://github.com/AtrCheema/AI4Water.git@dev) (2.5.1)\n",
      "Requirement already satisfied: pymongo in /usr/local/lib/python3.7/dist-packages (from hyperopt; extra == \"all\"->AI4Water[all]@ git+https://github.com/AtrCheema/AI4Water.git@dev) (3.11.4)\n",
      "Requirement already satisfied: future in /usr/local/lib/python3.7/dist-packages (from hyperopt; extra == \"all\"->AI4Water[all]@ git+https://github.com/AtrCheema/AI4Water.git@dev) (0.16.0)\n",
      "Requirement already satisfied: tqdm in /usr/local/lib/python3.7/dist-packages (from hyperopt; extra == \"all\"->AI4Water[all]@ git+https://github.com/AtrCheema/AI4Water.git@dev) (4.41.1)\n",
      "Requirement already satisfied: grpcio>=1.8.6 in /usr/local/lib/python3.7/dist-packages (from tensorflow<=2.3; extra == \"all\"->AI4Water[all]@ git+https://github.com/AtrCheema/AI4Water.git@dev) (1.32.0)\n",
      "Requirement already satisfied: wrapt>=1.11.1 in /usr/local/lib/python3.7/dist-packages (from tensorflow<=2.3; extra == \"all\"->AI4Water[all]@ git+https://github.com/AtrCheema/AI4Water.git@dev) (1.12.1)\n",
      "Requirement already satisfied: absl-py>=0.7.0 in /usr/local/lib/python3.7/dist-packages (from tensorflow<=2.3; extra == \"all\"->AI4Water[all]@ git+https://github.com/AtrCheema/AI4Water.git@dev) (0.12.0)\n",
      "Requirement already satisfied: opt-einsum>=2.3.2 in /usr/local/lib/python3.7/dist-packages (from tensorflow<=2.3; extra == \"all\"->AI4Water[all]@ git+https://github.com/AtrCheema/AI4Water.git@dev) (3.3.0)\n",
      "Requirement already satisfied: keras-preprocessing<1.2,>=1.1.1 in /usr/local/lib/python3.7/dist-packages (from tensorflow<=2.3; extra == \"all\"->AI4Water[all]@ git+https://github.com/AtrCheema/AI4Water.git@dev) (1.1.2)\n",
      "Requirement already satisfied: termcolor>=1.1.0 in /usr/local/lib/python3.7/dist-packages (from tensorflow<=2.3; extra == \"all\"->AI4Water[all]@ git+https://github.com/AtrCheema/AI4Water.git@dev) (1.1.0)\n",
      "Requirement already satisfied: tensorflow-estimator<2.4.0,>=2.3.0 in /usr/local/lib/python3.7/dist-packages (from tensorflow<=2.3; extra == \"all\"->AI4Water[all]@ git+https://github.com/AtrCheema/AI4Water.git@dev) (2.3.0)\n",
      "Requirement already satisfied: google-pasta>=0.1.8 in /usr/local/lib/python3.7/dist-packages (from tensorflow<=2.3; extra == \"all\"->AI4Water[all]@ git+https://github.com/AtrCheema/AI4Water.git@dev) (0.2.0)\n",
      "Requirement already satisfied: tensorboard<3,>=2.3.0 in /usr/local/lib/python3.7/dist-packages (from tensorflow<=2.3; extra == \"all\"->AI4Water[all]@ git+https://github.com/AtrCheema/AI4Water.git@dev) (2.4.1)\n",
      "Requirement already satisfied: astunparse==1.6.3 in /usr/local/lib/python3.7/dist-packages (from tensorflow<=2.3; extra == \"all\"->AI4Water[all]@ git+https://github.com/AtrCheema/AI4Water.git@dev) (1.6.3)\n",
      "Requirement already satisfied: protobuf>=3.9.2 in /usr/local/lib/python3.7/dist-packages (from tensorflow<=2.3; extra == \"all\"->AI4Water[all]@ git+https://github.com/AtrCheema/AI4Water.git@dev) (3.12.4)\n",
      "Requirement already satisfied: gast==0.3.3 in /usr/local/lib/python3.7/dist-packages (from tensorflow<=2.3; extra == \"all\"->AI4Water[all]@ git+https://github.com/AtrCheema/AI4Water.git@dev) (0.3.3)\n",
      "Requirement already satisfied: wheel>=0.26 in /usr/local/lib/python3.7/dist-packages (from tensorflow<=2.3; extra == \"all\"->AI4Water[all]@ git+https://github.com/AtrCheema/AI4Water.git@dev) (0.36.2)\n",
      "Requirement already satisfied: pillow in /usr/local/lib/python3.7/dist-packages (from imageio; extra == \"all\"->AI4Water[all]@ git+https://github.com/AtrCheema/AI4Water.git@dev) (7.1.2)\n",
      "Requirement already satisfied: graphviz in /usr/local/lib/python3.7/dist-packages (from catboost; extra == \"all\"->AI4Water[all]@ git+https://github.com/AtrCheema/AI4Water.git@dev) (0.10.1)\n",
      "Requirement already satisfied: numpydoc in /usr/local/lib/python3.7/dist-packages (from EMD-signal; extra == \"all\"->AI4Water[all]@ git+https://github.com/AtrCheema/AI4Water.git@dev) (1.1.0)\n",
      "Requirement already satisfied: pathos>=0.2.1 in /usr/local/lib/python3.7/dist-packages (from EMD-signal; extra == \"all\"->AI4Water[all]@ git+https://github.com/AtrCheema/AI4Water.git@dev) (0.2.7)\n",
      "Requirement already satisfied: alembic in /usr/local/lib/python3.7/dist-packages (from optuna; extra == \"all\"->AI4Water[all]@ git+https://github.com/AtrCheema/AI4Water.git@dev) (1.6.2)\n",
      "Requirement already satisfied: cliff in /usr/local/lib/python3.7/dist-packages (from optuna; extra == \"all\"->AI4Water[all]@ git+https://github.com/AtrCheema/AI4Water.git@dev) (3.7.0)\n",
      "Requirement already satisfied: sqlalchemy>=1.1.0 in /usr/local/lib/python3.7/dist-packages (from optuna; extra == \"all\"->AI4Water[all]@ git+https://github.com/AtrCheema/AI4Water.git@dev) (1.4.15)\n",
      "Requirement already satisfied: cmaes>=0.8.2 in /usr/local/lib/python3.7/dist-packages (from optuna; extra == \"all\"->AI4Water[all]@ git+https://github.com/AtrCheema/AI4Water.git@dev) (0.8.2)\n",
      "Requirement already satisfied: colorlog in /usr/local/lib/python3.7/dist-packages (from optuna; extra == \"all\"->AI4Water[all]@ git+https://github.com/AtrCheema/AI4Water.git@dev) (5.0.1)\n",
      "Requirement already satisfied: packaging>=20.0 in /usr/local/lib/python3.7/dist-packages (from optuna; extra == \"all\"->AI4Water[all]@ git+https://github.com/AtrCheema/AI4Water.git@dev) (20.9)\n",
      "Requirement already satisfied: retrying>=1.3.3 in /usr/local/lib/python3.7/dist-packages (from plotly; extra == \"all\"->AI4Water[all]@ git+https://github.com/AtrCheema/AI4Water.git@dev) (1.3.3)\n",
      "Requirement already satisfied: update-checker>=0.16 in /usr/local/lib/python3.7/dist-packages (from tpot; extra == \"all\"->AI4Water[all]@ git+https://github.com/AtrCheema/AI4Water.git@dev) (0.18.0)\n",
      "Requirement already satisfied: deap>=1.2 in /usr/local/lib/python3.7/dist-packages (from tpot; extra == \"all\"->AI4Water[all]@ git+https://github.com/AtrCheema/AI4Water.git@dev) (1.3.1)\n",
      "Requirement already satisfied: stopit>=1.1.1 in /usr/local/lib/python3.7/dist-packages (from tpot; extra == \"all\"->AI4Water[all]@ git+https://github.com/AtrCheema/AI4Water.git@dev) (1.1.2)\n",
      "Requirement already satisfied: PyYAML in /usr/local/lib/python3.7/dist-packages (from pyaml>=16.9->scikit-optimize->AI4Water[all]@ git+https://github.com/AtrCheema/AI4Water.git@dev) (3.13)\n",
      "Requirement already satisfied: decorator<5,>=4.3 in /usr/local/lib/python3.7/dist-packages (from networkx->hyperopt; extra == \"all\"->AI4Water[all]@ git+https://github.com/AtrCheema/AI4Water.git@dev) (4.4.2)\n",
      "Requirement already satisfied: google-auth<2,>=1.6.3 in /usr/local/lib/python3.7/dist-packages (from tensorboard<3,>=2.3.0->tensorflow<=2.3; extra == \"all\"->AI4Water[all]@ git+https://github.com/AtrCheema/AI4Water.git@dev) (1.30.0)\n",
      "Requirement already satisfied: tensorboard-plugin-wit>=1.6.0 in /usr/local/lib/python3.7/dist-packages (from tensorboard<3,>=2.3.0->tensorflow<=2.3; extra == \"all\"->AI4Water[all]@ git+https://github.com/AtrCheema/AI4Water.git@dev) (1.8.0)\n",
      "Requirement already satisfied: setuptools>=41.0.0 in /usr/local/lib/python3.7/dist-packages (from tensorboard<3,>=2.3.0->tensorflow<=2.3; extra == \"all\"->AI4Water[all]@ git+https://github.com/AtrCheema/AI4Water.git@dev) (56.1.0)\n",
      "Requirement already satisfied: requests<3,>=2.21.0 in /usr/local/lib/python3.7/dist-packages (from tensorboard<3,>=2.3.0->tensorflow<=2.3; extra == \"all\"->AI4Water[all]@ git+https://github.com/AtrCheema/AI4Water.git@dev) (2.23.0)\n",
      "Requirement already satisfied: markdown>=2.6.8 in /usr/local/lib/python3.7/dist-packages (from tensorboard<3,>=2.3.0->tensorflow<=2.3; extra == \"all\"->AI4Water[all]@ git+https://github.com/AtrCheema/AI4Water.git@dev) (3.3.4)\n",
      "Requirement already satisfied: google-auth-oauthlib<0.5,>=0.4.1 in /usr/local/lib/python3.7/dist-packages (from tensorboard<3,>=2.3.0->tensorflow<=2.3; extra == \"all\"->AI4Water[all]@ git+https://github.com/AtrCheema/AI4Water.git@dev) (0.4.4)\n",
      "Requirement already satisfied: werkzeug>=0.11.15 in /usr/local/lib/python3.7/dist-packages (from tensorboard<3,>=2.3.0->tensorflow<=2.3; extra == \"all\"->AI4Water[all]@ git+https://github.com/AtrCheema/AI4Water.git@dev) (2.0.0)\n",
      "Requirement already satisfied: Jinja2>=2.3 in /usr/local/lib/python3.7/dist-packages (from numpydoc->EMD-signal; extra == \"all\"->AI4Water[all]@ git+https://github.com/AtrCheema/AI4Water.git@dev) (2.11.3)\n",
      "Requirement already satisfied: sphinx>=1.6.5 in /usr/local/lib/python3.7/dist-packages (from numpydoc->EMD-signal; extra == \"all\"->AI4Water[all]@ git+https://github.com/AtrCheema/AI4Water.git@dev) (1.8.5)\n",
      "Requirement already satisfied: multiprocess>=0.70.11 in /usr/local/lib/python3.7/dist-packages (from pathos>=0.2.1->EMD-signal; extra == \"all\"->AI4Water[all]@ git+https://github.com/AtrCheema/AI4Water.git@dev) (0.70.11.1)\n",
      "Requirement already satisfied: dill>=0.3.3 in /usr/local/lib/python3.7/dist-packages (from pathos>=0.2.1->EMD-signal; extra == \"all\"->AI4Water[all]@ git+https://github.com/AtrCheema/AI4Water.git@dev) (0.3.3)\n",
      "Requirement already satisfied: ppft>=1.6.6.3 in /usr/local/lib/python3.7/dist-packages (from pathos>=0.2.1->EMD-signal; extra == \"all\"->AI4Water[all]@ git+https://github.com/AtrCheema/AI4Water.git@dev) (1.6.6.3)\n",
      "Requirement already satisfied: pox>=0.2.9 in /usr/local/lib/python3.7/dist-packages (from pathos>=0.2.1->EMD-signal; extra == \"all\"->AI4Water[all]@ git+https://github.com/AtrCheema/AI4Water.git@dev) (0.2.9)\n",
      "Requirement already satisfied: Mako in /usr/local/lib/python3.7/dist-packages (from alembic->optuna; extra == \"all\"->AI4Water[all]@ git+https://github.com/AtrCheema/AI4Water.git@dev) (1.1.4)\n",
      "Requirement already satisfied: python-editor>=0.3 in /usr/local/lib/python3.7/dist-packages (from alembic->optuna; extra == \"all\"->AI4Water[all]@ git+https://github.com/AtrCheema/AI4Water.git@dev) (1.0.4)\n",
      "Requirement already satisfied: cmd2>=1.0.0 in /usr/local/lib/python3.7/dist-packages (from cliff->optuna; extra == \"all\"->AI4Water[all]@ git+https://github.com/AtrCheema/AI4Water.git@dev) (1.5.0)\n",
      "Requirement already satisfied: stevedore>=2.0.1 in /usr/local/lib/python3.7/dist-packages (from cliff->optuna; extra == \"all\"->AI4Water[all]@ git+https://github.com/AtrCheema/AI4Water.git@dev) (3.3.0)\n",
      "Requirement already satisfied: pbr!=2.1.0,>=2.0.0 in /usr/local/lib/python3.7/dist-packages (from cliff->optuna; extra == \"all\"->AI4Water[all]@ git+https://github.com/AtrCheema/AI4Water.git@dev) (5.6.0)\n",
      "Requirement already satisfied: PrettyTable>=0.7.2 in /usr/local/lib/python3.7/dist-packages (from cliff->optuna; extra == \"all\"->AI4Water[all]@ git+https://github.com/AtrCheema/AI4Water.git@dev) (2.1.0)\n",
      "Requirement already satisfied: greenlet!=0.4.17; python_version >= \"3\" in /usr/local/lib/python3.7/dist-packages (from sqlalchemy>=1.1.0->optuna; extra == \"all\"->AI4Water[all]@ git+https://github.com/AtrCheema/AI4Water.git@dev) (1.1.0)\n",
      "Requirement already satisfied: importlib-metadata; python_version < \"3.8\" in /usr/local/lib/python3.7/dist-packages (from sqlalchemy>=1.1.0->optuna; extra == \"all\"->AI4Water[all]@ git+https://github.com/AtrCheema/AI4Water.git@dev) (4.0.1)\n",
      "Requirement already satisfied: rsa<5,>=3.1.4; python_version >= \"3.6\" in /usr/local/lib/python3.7/dist-packages (from google-auth<2,>=1.6.3->tensorboard<3,>=2.3.0->tensorflow<=2.3; extra == \"all\"->AI4Water[all]@ git+https://github.com/AtrCheema/AI4Water.git@dev) (4.7.2)\n",
      "Requirement already satisfied: pyasn1-modules>=0.2.1 in /usr/local/lib/python3.7/dist-packages (from google-auth<2,>=1.6.3->tensorboard<3,>=2.3.0->tensorflow<=2.3; extra == \"all\"->AI4Water[all]@ git+https://github.com/AtrCheema/AI4Water.git@dev) (0.2.8)\n",
      "Requirement already satisfied: cachetools<5.0,>=2.0.0 in /usr/local/lib/python3.7/dist-packages (from google-auth<2,>=1.6.3->tensorboard<3,>=2.3.0->tensorflow<=2.3; extra == \"all\"->AI4Water[all]@ git+https://github.com/AtrCheema/AI4Water.git@dev) (4.2.2)\n",
      "Requirement already satisfied: urllib3!=1.25.0,!=1.25.1,<1.26,>=1.21.1 in /usr/local/lib/python3.7/dist-packages (from requests<3,>=2.21.0->tensorboard<3,>=2.3.0->tensorflow<=2.3; extra == \"all\"->AI4Water[all]@ git+https://github.com/AtrCheema/AI4Water.git@dev) (1.24.3)\n",
      "Requirement already satisfied: chardet<4,>=3.0.2 in /usr/local/lib/python3.7/dist-packages (from requests<3,>=2.21.0->tensorboard<3,>=2.3.0->tensorflow<=2.3; extra == \"all\"->AI4Water[all]@ git+https://github.com/AtrCheema/AI4Water.git@dev) (3.0.4)\n",
      "Requirement already satisfied: idna<3,>=2.5 in /usr/local/lib/python3.7/dist-packages (from requests<3,>=2.21.0->tensorboard<3,>=2.3.0->tensorflow<=2.3; extra == \"all\"->AI4Water[all]@ git+https://github.com/AtrCheema/AI4Water.git@dev) (2.10)\n",
      "Requirement already satisfied: certifi>=2017.4.17 in /usr/local/lib/python3.7/dist-packages (from requests<3,>=2.21.0->tensorboard<3,>=2.3.0->tensorflow<=2.3; extra == \"all\"->AI4Water[all]@ git+https://github.com/AtrCheema/AI4Water.git@dev) (2020.12.5)\n",
      "Requirement already satisfied: requests-oauthlib>=0.7.0 in /usr/local/lib/python3.7/dist-packages (from google-auth-oauthlib<0.5,>=0.4.1->tensorboard<3,>=2.3.0->tensorflow<=2.3; extra == \"all\"->AI4Water[all]@ git+https://github.com/AtrCheema/AI4Water.git@dev) (1.3.0)\n",
      "Requirement already satisfied: MarkupSafe>=0.23 in /usr/local/lib/python3.7/dist-packages (from Jinja2>=2.3->numpydoc->EMD-signal; extra == \"all\"->AI4Water[all]@ git+https://github.com/AtrCheema/AI4Water.git@dev) (2.0.0)\n",
      "Requirement already satisfied: babel!=2.0,>=1.3 in /usr/local/lib/python3.7/dist-packages (from sphinx>=1.6.5->numpydoc->EMD-signal; extra == \"all\"->AI4Water[all]@ git+https://github.com/AtrCheema/AI4Water.git@dev) (2.9.1)\n",
      "Requirement already satisfied: snowballstemmer>=1.1 in /usr/local/lib/python3.7/dist-packages (from sphinx>=1.6.5->numpydoc->EMD-signal; extra == \"all\"->AI4Water[all]@ git+https://github.com/AtrCheema/AI4Water.git@dev) (2.1.0)\n",
      "Requirement already satisfied: docutils>=0.11 in /usr/local/lib/python3.7/dist-packages (from sphinx>=1.6.5->numpydoc->EMD-signal; extra == \"all\"->AI4Water[all]@ git+https://github.com/AtrCheema/AI4Water.git@dev) (0.17.1)\n",
      "Requirement already satisfied: Pygments>=2.0 in /usr/local/lib/python3.7/dist-packages (from sphinx>=1.6.5->numpydoc->EMD-signal; extra == \"all\"->AI4Water[all]@ git+https://github.com/AtrCheema/AI4Water.git@dev) (2.6.1)\n",
      "Requirement already satisfied: alabaster<0.8,>=0.7 in /usr/local/lib/python3.7/dist-packages (from sphinx>=1.6.5->numpydoc->EMD-signal; extra == \"all\"->AI4Water[all]@ git+https://github.com/AtrCheema/AI4Water.git@dev) (0.7.12)\n",
      "Requirement already satisfied: sphinxcontrib-websupport in /usr/local/lib/python3.7/dist-packages (from sphinx>=1.6.5->numpydoc->EMD-signal; extra == \"all\"->AI4Water[all]@ git+https://github.com/AtrCheema/AI4Water.git@dev) (1.2.4)\n",
      "Requirement already satisfied: imagesize in /usr/local/lib/python3.7/dist-packages (from sphinx>=1.6.5->numpydoc->EMD-signal; extra == \"all\"->AI4Water[all]@ git+https://github.com/AtrCheema/AI4Water.git@dev) (1.2.0)\n",
      "Requirement already satisfied: wcwidth>=0.1.7 in /usr/local/lib/python3.7/dist-packages (from cmd2>=1.0.0->cliff->optuna; extra == \"all\"->AI4Water[all]@ git+https://github.com/AtrCheema/AI4Water.git@dev) (0.2.5)\n",
      "Requirement already satisfied: colorama>=0.3.7 in /usr/local/lib/python3.7/dist-packages (from cmd2>=1.0.0->cliff->optuna; extra == \"all\"->AI4Water[all]@ git+https://github.com/AtrCheema/AI4Water.git@dev) (0.4.4)\n",
      "Requirement already satisfied: pyperclip>=1.6 in /usr/local/lib/python3.7/dist-packages (from cmd2>=1.0.0->cliff->optuna; extra == \"all\"->AI4Water[all]@ git+https://github.com/AtrCheema/AI4Water.git@dev) (1.8.2)\n",
      "Requirement already satisfied: attrs>=16.3.0 in /usr/local/lib/python3.7/dist-packages (from cmd2>=1.0.0->cliff->optuna; extra == \"all\"->AI4Water[all]@ git+https://github.com/AtrCheema/AI4Water.git@dev) (21.2.0)\n",
      "Requirement already satisfied: typing-extensions>=3.6.4; python_version < \"3.8\" in /usr/local/lib/python3.7/dist-packages (from importlib-metadata; python_version < \"3.8\"->sqlalchemy>=1.1.0->optuna; extra == \"all\"->AI4Water[all]@ git+https://github.com/AtrCheema/AI4Water.git@dev) (3.7.4.3)\n",
      "Requirement already satisfied: zipp>=0.5 in /usr/local/lib/python3.7/dist-packages (from importlib-metadata; python_version < \"3.8\"->sqlalchemy>=1.1.0->optuna; extra == \"all\"->AI4Water[all]@ git+https://github.com/AtrCheema/AI4Water.git@dev) (3.4.1)\n",
      "Requirement already satisfied: pyasn1>=0.1.3 in /usr/local/lib/python3.7/dist-packages (from rsa<5,>=3.1.4; python_version >= \"3.6\"->google-auth<2,>=1.6.3->tensorboard<3,>=2.3.0->tensorflow<=2.3; extra == \"all\"->AI4Water[all]@ git+https://github.com/AtrCheema/AI4Water.git@dev) (0.4.8)\n",
      "Requirement already satisfied: oauthlib>=3.0.0 in /usr/local/lib/python3.7/dist-packages (from requests-oauthlib>=0.7.0->google-auth-oauthlib<0.5,>=0.4.1->tensorboard<3,>=2.3.0->tensorflow<=2.3; extra == \"all\"->AI4Water[all]@ git+https://github.com/AtrCheema/AI4Water.git@dev) (3.1.0)\n",
      "Requirement already satisfied: sphinxcontrib-serializinghtml in /usr/local/lib/python3.7/dist-packages (from sphinxcontrib-websupport->sphinx>=1.6.5->numpydoc->EMD-signal; extra == \"all\"->AI4Water[all]@ git+https://github.com/AtrCheema/AI4Water.git@dev) (1.1.4)\n"
     ],
     "name": "stdout"
    }
   ]
  },
  {
   "cell_type": "code",
   "metadata": {
    "id": "sM0RLHKuCQn9",
    "colab": {
     "base_uri": "https://localhost:8080/"
    },
    "outputId": "7b8627ed-53a0-40c2-9ca3-ae08d8157dae"
   },
   "source": [
    "from ai4water import Model\n",
    "from ai4water.hyper_opt import HyperOpt\n",
    "from ai4water.datasets import arg_beach\n",
    "\n",
    "from ai4water.hyper_opt import Real, Categorical, Integer\n",
    "import numpy as np"
   ],
   "execution_count": 2,
   "outputs": [
    {
     "output_type": "stream",
     "text": [
      "/usr/local/lib/python3.7/dist-packages/sklearn/externals/six.py:31: FutureWarning: The module is deprecated in version 0.21 and will be removed in version 0.23 since we've dropped support for Python 2.7. Please rely on the official version of six (https://pypi.org/project/six/).\n",
      "  \"(https://pypi.org/project/six/).\", FutureWarning)\n",
      "/usr/local/lib/python3.7/dist-packages/sklearn/utils/deprecation.py:144: FutureWarning: The sklearn.neighbors.base module is  deprecated in version 0.22 and will be removed in version 0.24. The corresponding classes / functions should instead be imported from sklearn.neighbors. Anything that cannot be imported from sklearn.neighbors is now part of the private API.\n",
      "  warnings.warn(message, FutureWarning)\n",
      "/usr/local/lib/python3.7/dist-packages/sklearn/utils/deprecation.py:144: FutureWarning: The sklearn.neural_network.multilayer_perceptron module is  deprecated in version 0.22 and will be removed in version 0.24. The corresponding classes / functions should instead be imported from sklearn.neural_network. Anything that cannot be imported from sklearn.neural_network is now part of the private API.\n",
      "  warnings.warn(message, FutureWarning)\n"
     ],
     "name": "stderr"
    }
   ]
  },
  {
   "cell_type": "markdown",
   "metadata": {
    "id": "iNWe_SLfCQn9"
   },
   "source": [
    "Read the data file. Our data contains 1446 rows nad 24 columns."
   ]
  },
  {
   "cell_type": "code",
   "metadata": {
    "colab": {
     "base_uri": "https://localhost:8080/"
    },
    "id": "MNJoOJOdCQn9",
    "outputId": "f4f846fb-fae3-432a-ccf9-9384626c6e8a"
   },
   "source": [
    "data = arg_beach()\n",
    "data.shape"
   ],
   "execution_count": 3,
   "outputs": [
    {
     "output_type": "execute_result",
     "data": {
      "text/plain": [
       "(1446, 14)"
      ]
     },
     "metadata": {
      "tags": []
     },
     "execution_count": 3
    }
   ]
  },
  {
   "cell_type": "code",
   "metadata": {
    "colab": {
     "base_uri": "https://localhost:8080/",
     "height": 238
    },
    "id": "fBgR-60zCQn-",
    "outputId": "f2eeef3e-3298-4fa4-8721-854afd37873f"
   },
   "source": [
    "data.head()"
   ],
   "execution_count": 4,
   "outputs": [
    {
     "output_type": "execute_result",
     "data": {
      "text/html": [
       "<div>\n",
       "<style scoped>\n",
       "    .dataframe tbody tr th:only-of-type {\n",
       "        vertical-align: middle;\n",
       "    }\n",
       "\n",
       "    .dataframe tbody tr th {\n",
       "        vertical-align: top;\n",
       "    }\n",
       "\n",
       "    .dataframe thead th {\n",
       "        text-align: right;\n",
       "    }\n",
       "</style>\n",
       "<table border=\"1\" class=\"dataframe\">\n",
       "  <thead>\n",
       "    <tr style=\"text-align: right;\">\n",
       "      <th></th>\n",
       "      <th>tide_cm</th>\n",
       "      <th>wat_temp_c</th>\n",
       "      <th>sal_psu</th>\n",
       "      <th>air_temp_c</th>\n",
       "      <th>pcp_mm</th>\n",
       "      <th>pcp3_mm</th>\n",
       "      <th>pcp6_mm</th>\n",
       "      <th>pcp12_mm</th>\n",
       "      <th>wind_dir_deg</th>\n",
       "      <th>wind_speed_mps</th>\n",
       "      <th>air_p_hpa</th>\n",
       "      <th>mslp_hpa</th>\n",
       "      <th>rel_hum</th>\n",
       "      <th>tetx_coppml</th>\n",
       "    </tr>\n",
       "    <tr>\n",
       "      <th>index</th>\n",
       "      <th></th>\n",
       "      <th></th>\n",
       "      <th></th>\n",
       "      <th></th>\n",
       "      <th></th>\n",
       "      <th></th>\n",
       "      <th></th>\n",
       "      <th></th>\n",
       "      <th></th>\n",
       "      <th></th>\n",
       "      <th></th>\n",
       "      <th></th>\n",
       "      <th></th>\n",
       "      <th></th>\n",
       "    </tr>\n",
       "  </thead>\n",
       "  <tbody>\n",
       "    <tr>\n",
       "      <th>2018-06-19 00:00:00</th>\n",
       "      <td>36.407149</td>\n",
       "      <td>19.321232</td>\n",
       "      <td>33.956059</td>\n",
       "      <td>19.780000</td>\n",
       "      <td>0.0</td>\n",
       "      <td>0.0</td>\n",
       "      <td>0.0</td>\n",
       "      <td>0.0</td>\n",
       "      <td>159.533333</td>\n",
       "      <td>0.960000</td>\n",
       "      <td>1002.856667</td>\n",
       "      <td>1007.256667</td>\n",
       "      <td>95.000000</td>\n",
       "      <td>NaN</td>\n",
       "    </tr>\n",
       "    <tr>\n",
       "      <th>2018-06-19 00:30:00</th>\n",
       "      <td>35.562515</td>\n",
       "      <td>19.320124</td>\n",
       "      <td>33.950508</td>\n",
       "      <td>19.093333</td>\n",
       "      <td>0.0</td>\n",
       "      <td>0.0</td>\n",
       "      <td>0.0</td>\n",
       "      <td>0.0</td>\n",
       "      <td>86.596667</td>\n",
       "      <td>0.163333</td>\n",
       "      <td>1002.300000</td>\n",
       "      <td>1006.700000</td>\n",
       "      <td>95.000000</td>\n",
       "      <td>NaN</td>\n",
       "    </tr>\n",
       "    <tr>\n",
       "      <th>2018-06-19 01:00:00</th>\n",
       "      <td>34.808016</td>\n",
       "      <td>19.319666</td>\n",
       "      <td>33.942532</td>\n",
       "      <td>18.733333</td>\n",
       "      <td>0.0</td>\n",
       "      <td>0.0</td>\n",
       "      <td>0.0</td>\n",
       "      <td>0.0</td>\n",
       "      <td>2.260000</td>\n",
       "      <td>0.080000</td>\n",
       "      <td>1001.973333</td>\n",
       "      <td>1006.373333</td>\n",
       "      <td>95.000000</td>\n",
       "      <td>NaN</td>\n",
       "    </tr>\n",
       "    <tr>\n",
       "      <th>2018-06-19 01:30:00</th>\n",
       "      <td>30.645216</td>\n",
       "      <td>19.320406</td>\n",
       "      <td>33.931263</td>\n",
       "      <td>18.760000</td>\n",
       "      <td>0.0</td>\n",
       "      <td>0.0</td>\n",
       "      <td>0.0</td>\n",
       "      <td>0.0</td>\n",
       "      <td>62.710000</td>\n",
       "      <td>0.193333</td>\n",
       "      <td>1001.776667</td>\n",
       "      <td>1006.120000</td>\n",
       "      <td>95.006667</td>\n",
       "      <td>NaN</td>\n",
       "    </tr>\n",
       "    <tr>\n",
       "      <th>2018-06-19 02:00:00</th>\n",
       "      <td>26.608980</td>\n",
       "      <td>19.326729</td>\n",
       "      <td>33.917961</td>\n",
       "      <td>18.633333</td>\n",
       "      <td>0.0</td>\n",
       "      <td>0.0</td>\n",
       "      <td>0.0</td>\n",
       "      <td>0.0</td>\n",
       "      <td>63.446667</td>\n",
       "      <td>0.510000</td>\n",
       "      <td>1001.743333</td>\n",
       "      <td>1006.103333</td>\n",
       "      <td>95.006667</td>\n",
       "      <td>NaN</td>\n",
       "    </tr>\n",
       "  </tbody>\n",
       "</table>\n",
       "</div>"
      ],
      "text/plain": [
       "                       tide_cm  wat_temp_c  ...    rel_hum  tetx_coppml\n",
       "index                                       ...                        \n",
       "2018-06-19 00:00:00  36.407149   19.321232  ...  95.000000          NaN\n",
       "2018-06-19 00:30:00  35.562515   19.320124  ...  95.000000          NaN\n",
       "2018-06-19 01:00:00  34.808016   19.319666  ...  95.000000          NaN\n",
       "2018-06-19 01:30:00  30.645216   19.320406  ...  95.006667          NaN\n",
       "2018-06-19 02:00:00  26.608980   19.326729  ...  95.006667          NaN\n",
       "\n",
       "[5 rows x 14 columns]"
      ]
     },
     "metadata": {
      "tags": []
     },
     "execution_count": 4
    }
   ]
  },
  {
   "cell_type": "markdown",
   "metadata": {
    "id": "2d4FhkfKCQn-"
   },
   "source": [
    "Define which columns in the data are to be used as inputs and which columns are to be used as outputs. \n"
   ]
  },
  {
   "cell_type": "code",
   "metadata": {
    "id": "Kf5HQ5c4CQn-"
   },
   "source": [
    "inputs = list(data.columns)[0:-1]\n",
    "outputs = [list(data.columns)[-1]]"
   ],
   "execution_count": 5,
   "outputs": []
  },
  {
   "cell_type": "markdown",
   "metadata": {
    "id": "lIAYO6meCQn-"
   },
   "source": [
    "Let's first use [xgboost](https://xgboost.readthedocs.io/en/latest/python/python_api.html) model with some random parameters which go in `ml_model_args`."
   ]
  },
  {
   "cell_type": "code",
   "metadata": {
    "id": "ElOzRBzsCQn-"
   },
   "source": [
    "ai4water_args = {\"input_features\": inputs,\n",
    "               \"output_features\": outputs,\n",
    "               \"val_data\": \"same\",\n",
    "               \"model\": {\"xgboostregressor\": {}}, \n",
    "               \"test_fraction\": 0.3}"
   ],
   "execution_count": 6,
   "outputs": []
  },
  {
   "cell_type": "markdown",
   "metadata": {
    "id": "cOx__a1gCQn-"
   },
   "source": [
    "These and other hyper parameters are used to initiate the `Model`."
   ]
  },
  {
   "cell_type": "markdown",
   "metadata": {
    "id": "33kh-Nt8CQn-"
   },
   "source": [
    "# Grid Search\n",
    "Define the parameter space."
   ]
  },
  {
   "cell_type": "code",
   "metadata": {
    "id": "D9wW3ckHCQn-"
   },
   "source": [
    "dims = {'n_estimators': [1000, 1200, 1400, 1600, 1800,  2000],\n",
    "        'max_depth': [3, 4, 5, 6],\n",
    "        'learning_rate': [0.1, 0.05, 0.01, 0.005, 0.001,  0.0005],\n",
    "        'booster': [\"gbtree\", \"dart\"]}        "
   ],
   "execution_count": 7,
   "outputs": []
  },
  {
   "cell_type": "code",
   "metadata": {
    "id": "mnv2-yrxCQn-"
   },
   "source": [
    "opt = HyperOpt(\"grid\",\n",
    "               param_space=dims,\n",
    "               ai4water_args=ai4water_args,\n",
    "               data=data,\n",
    "               )"
   ],
   "execution_count": 8,
   "outputs": []
  },
  {
   "cell_type": "code",
   "metadata": {
    "id": "atP-nf_5CQn-",
    "colab": {
     "base_uri": "https://localhost:8080/",
     "height": 1000
    },
    "outputId": "ed72c28b-1118-4c55-9f31-691710e46400"
   },
   "source": [
    "sr = opt.fit()"
   ],
   "execution_count": 9,
   "outputs": [
    {
     "output_type": "stream",
     "text": [
      "total number of iterations: 288\n",
      "[01:16:17] WARNING: /workspace/src/objective/regression_obj.cu:152: reg:linear is now deprecated in favor of reg:squarederror.\n",
      "Validation mse 224085682125742.56\n",
      "[01:16:17] WARNING: /workspace/src/objective/regression_obj.cu:152: reg:linear is now deprecated in favor of reg:squarederror.\n",
      "Validation mse 224085682125742.56\n",
      "[01:16:17] WARNING: /workspace/src/objective/regression_obj.cu:152: reg:linear is now deprecated in favor of reg:squarederror.\n",
      "Validation mse 224085682125742.56\n",
      "[01:16:17] WARNING: /workspace/src/objective/regression_obj.cu:152: reg:linear is now deprecated in favor of reg:squarederror.\n",
      "Validation mse 224085682125742.56\n",
      "[01:16:18] WARNING: /workspace/src/objective/regression_obj.cu:152: reg:linear is now deprecated in favor of reg:squarederror.\n",
      "Validation mse 224085682125742.56\n",
      "[01:16:18] WARNING: /workspace/src/objective/regression_obj.cu:152: reg:linear is now deprecated in favor of reg:squarederror.\n",
      "Validation mse 224085682125742.56\n",
      "[01:16:18] WARNING: /workspace/src/objective/regression_obj.cu:152: reg:linear is now deprecated in favor of reg:squarederror.\n",
      "Validation mse 204246472430777.34\n",
      "[01:16:18] WARNING: /workspace/src/objective/regression_obj.cu:152: reg:linear is now deprecated in favor of reg:squarederror.\n",
      "Validation mse 204246472430777.34\n",
      "[01:16:18] WARNING: /workspace/src/objective/regression_obj.cu:152: reg:linear is now deprecated in favor of reg:squarederror.\n",
      "Validation mse 204246472430777.34\n",
      "[01:16:19] WARNING: /workspace/src/objective/regression_obj.cu:152: reg:linear is now deprecated in favor of reg:squarederror.\n",
      "Validation mse 204246472430777.34\n",
      "[01:16:19] WARNING: /workspace/src/objective/regression_obj.cu:152: reg:linear is now deprecated in favor of reg:squarederror.\n",
      "Validation mse 204246472430777.34\n",
      "[01:16:19] WARNING: /workspace/src/objective/regression_obj.cu:152: reg:linear is now deprecated in favor of reg:squarederror.\n",
      "Validation mse 204246472430777.34\n",
      "[01:16:19] WARNING: /workspace/src/objective/regression_obj.cu:152: reg:linear is now deprecated in favor of reg:squarederror.\n",
      "Validation mse 208611830819139.1\n",
      "[01:16:19] WARNING: /workspace/src/objective/regression_obj.cu:152: reg:linear is now deprecated in favor of reg:squarederror.\n",
      "Validation mse 208611830819139.1\n",
      "[01:16:20] WARNING: /workspace/src/objective/regression_obj.cu:152: reg:linear is now deprecated in favor of reg:squarederror.\n",
      "Validation mse 208611830819139.1\n",
      "[01:16:20] WARNING: /workspace/src/objective/regression_obj.cu:152: reg:linear is now deprecated in favor of reg:squarederror.\n",
      "Validation mse 208611830819139.1\n",
      "[01:16:20] WARNING: /workspace/src/objective/regression_obj.cu:152: reg:linear is now deprecated in favor of reg:squarederror.\n",
      "Validation mse 208611830819139.1\n",
      "[01:16:20] WARNING: /workspace/src/objective/regression_obj.cu:152: reg:linear is now deprecated in favor of reg:squarederror.\n",
      "Validation mse 208611830819139.1\n",
      "[01:16:20] WARNING: /workspace/src/objective/regression_obj.cu:152: reg:linear is now deprecated in favor of reg:squarederror.\n",
      "Validation mse 205615333346731.47\n",
      "[01:16:21] WARNING: /workspace/src/objective/regression_obj.cu:152: reg:linear is now deprecated in favor of reg:squarederror.\n",
      "Validation mse 205615333346731.47\n",
      "[01:16:21] WARNING: /workspace/src/objective/regression_obj.cu:152: reg:linear is now deprecated in favor of reg:squarederror.\n",
      "Validation mse 205615333346731.47\n",
      "[01:16:21] WARNING: /workspace/src/objective/regression_obj.cu:152: reg:linear is now deprecated in favor of reg:squarederror.\n",
      "Validation mse 205615333346731.47\n",
      "[01:16:21] WARNING: /workspace/src/objective/regression_obj.cu:152: reg:linear is now deprecated in favor of reg:squarederror.\n",
      "Validation mse 205615333346731.47\n",
      "[01:16:21] WARNING: /workspace/src/objective/regression_obj.cu:152: reg:linear is now deprecated in favor of reg:squarederror.\n",
      "Validation mse 205615333346731.47\n",
      "[01:16:22] WARNING: /workspace/src/objective/regression_obj.cu:152: reg:linear is now deprecated in favor of reg:squarederror.\n",
      "Validation mse 224363607932669.97\n",
      "[01:16:22] WARNING: /workspace/src/objective/regression_obj.cu:152: reg:linear is now deprecated in favor of reg:squarederror.\n",
      "Validation mse 224363607932669.97\n",
      "[01:16:22] WARNING: /workspace/src/objective/regression_obj.cu:152: reg:linear is now deprecated in favor of reg:squarederror.\n",
      "Validation mse 224363607932669.97\n",
      "[01:16:22] WARNING: /workspace/src/objective/regression_obj.cu:152: reg:linear is now deprecated in favor of reg:squarederror.\n",
      "Validation mse 224363607932669.97\n",
      "[01:16:22] WARNING: /workspace/src/objective/regression_obj.cu:152: reg:linear is now deprecated in favor of reg:squarederror.\n",
      "Validation mse 224363607932669.97\n",
      "[01:16:23] WARNING: /workspace/src/objective/regression_obj.cu:152: reg:linear is now deprecated in favor of reg:squarederror.\n",
      "Validation mse 224363607932669.97\n",
      "[01:16:23] WARNING: /workspace/src/objective/regression_obj.cu:152: reg:linear is now deprecated in favor of reg:squarederror.\n",
      "Validation mse 200445329972972.38\n",
      "[01:16:23] WARNING: /workspace/src/objective/regression_obj.cu:152: reg:linear is now deprecated in favor of reg:squarederror.\n",
      "Validation mse 200445329972972.38\n",
      "[01:16:23] WARNING: /workspace/src/objective/regression_obj.cu:152: reg:linear is now deprecated in favor of reg:squarederror.\n",
      "Validation mse 200445329972972.38\n",
      "[01:16:24] WARNING: /workspace/src/objective/regression_obj.cu:152: reg:linear is now deprecated in favor of reg:squarederror.\n",
      "Validation mse 200445329972972.38\n",
      "[01:16:24] WARNING: /workspace/src/objective/regression_obj.cu:152: reg:linear is now deprecated in favor of reg:squarederror.\n",
      "Validation mse 200445329972972.38\n",
      "[01:16:24] WARNING: /workspace/src/objective/regression_obj.cu:152: reg:linear is now deprecated in favor of reg:squarederror.\n",
      "Validation mse 200445329972972.38\n",
      "[01:16:24] WARNING: /workspace/src/objective/regression_obj.cu:152: reg:linear is now deprecated in favor of reg:squarederror.\n",
      "Validation mse 204080882552200.47\n",
      "[01:16:25] WARNING: /workspace/src/objective/regression_obj.cu:152: reg:linear is now deprecated in favor of reg:squarederror.\n",
      "Validation mse 204080882552200.47\n",
      "[01:16:25] WARNING: /workspace/src/objective/regression_obj.cu:152: reg:linear is now deprecated in favor of reg:squarederror.\n",
      "Validation mse 204080882552200.47\n",
      "[01:16:25] WARNING: /workspace/src/objective/regression_obj.cu:152: reg:linear is now deprecated in favor of reg:squarederror.\n",
      "Validation mse 204080882552200.47\n",
      "[01:16:25] WARNING: /workspace/src/objective/regression_obj.cu:152: reg:linear is now deprecated in favor of reg:squarederror.\n",
      "Validation mse 204080882552200.47\n",
      "[01:16:25] WARNING: /workspace/src/objective/regression_obj.cu:152: reg:linear is now deprecated in favor of reg:squarederror.\n",
      "Validation mse 204080882552200.47\n",
      "[01:16:26] WARNING: /workspace/src/objective/regression_obj.cu:152: reg:linear is now deprecated in favor of reg:squarederror.\n",
      "Validation mse 207026486148457.12\n",
      "[01:16:26] WARNING: /workspace/src/objective/regression_obj.cu:152: reg:linear is now deprecated in favor of reg:squarederror.\n",
      "Validation mse 207026486148457.12\n",
      "[01:16:26] WARNING: /workspace/src/objective/regression_obj.cu:152: reg:linear is now deprecated in favor of reg:squarederror.\n",
      "Validation mse 207026486148457.12\n",
      "[01:16:26] WARNING: /workspace/src/objective/regression_obj.cu:152: reg:linear is now deprecated in favor of reg:squarederror.\n",
      "Validation mse 207026486148457.12\n",
      "[01:16:27] WARNING: /workspace/src/objective/regression_obj.cu:152: reg:linear is now deprecated in favor of reg:squarederror.\n",
      "Validation mse 207026486148457.12\n",
      "[01:16:27] WARNING: /workspace/src/objective/regression_obj.cu:152: reg:linear is now deprecated in favor of reg:squarederror.\n",
      "Validation mse 207026486148457.12\n",
      "[01:16:27] WARNING: /workspace/src/objective/regression_obj.cu:152: reg:linear is now deprecated in favor of reg:squarederror.\n",
      "Validation mse 223365545248732.75\n",
      "[01:16:27] WARNING: /workspace/src/objective/regression_obj.cu:152: reg:linear is now deprecated in favor of reg:squarederror.\n",
      "Validation mse 224912750354744.6\n",
      "[01:16:28] WARNING: /workspace/src/objective/regression_obj.cu:152: reg:linear is now deprecated in favor of reg:squarederror.\n",
      "Validation mse 226535114976005.84\n",
      "[01:16:28] WARNING: /workspace/src/objective/regression_obj.cu:152: reg:linear is now deprecated in favor of reg:squarederror.\n",
      "Validation mse 227307490982993.6\n",
      "[01:16:28] WARNING: /workspace/src/objective/regression_obj.cu:152: reg:linear is now deprecated in favor of reg:squarederror.\n",
      "Validation mse 227420843716817.44\n",
      "[01:16:29] WARNING: /workspace/src/objective/regression_obj.cu:152: reg:linear is now deprecated in favor of reg:squarederror.\n",
      "Validation mse 227524691680890.1\n",
      "[01:16:29] WARNING: /workspace/src/objective/regression_obj.cu:152: reg:linear is now deprecated in favor of reg:squarederror.\n",
      "Validation mse 198981466222647.5\n",
      "[01:16:29] WARNING: /workspace/src/objective/regression_obj.cu:152: reg:linear is now deprecated in favor of reg:squarederror.\n",
      "Validation mse 199300827644559.56\n",
      "[01:16:30] WARNING: /workspace/src/objective/regression_obj.cu:152: reg:linear is now deprecated in favor of reg:squarederror.\n",
      "Validation mse 200281546721133.78\n",
      "[01:16:30] WARNING: /workspace/src/objective/regression_obj.cu:152: reg:linear is now deprecated in favor of reg:squarederror.\n",
      "Validation mse 200934868749697.3\n",
      "[01:16:30] WARNING: /workspace/src/objective/regression_obj.cu:152: reg:linear is now deprecated in favor of reg:squarederror.\n",
      "Validation mse 201284071711806.47\n",
      "[01:16:31] WARNING: /workspace/src/objective/regression_obj.cu:152: reg:linear is now deprecated in favor of reg:squarederror.\n",
      "Validation mse 201557594989237.4\n",
      "[01:16:31] WARNING: /workspace/src/objective/regression_obj.cu:152: reg:linear is now deprecated in favor of reg:squarederror.\n",
      "Validation mse 206358854051107.16\n",
      "[01:16:32] WARNING: /workspace/src/objective/regression_obj.cu:152: reg:linear is now deprecated in favor of reg:squarederror.\n",
      "Validation mse 207844422649334.97\n",
      "[01:16:32] WARNING: /workspace/src/objective/regression_obj.cu:152: reg:linear is now deprecated in favor of reg:squarederror.\n",
      "Validation mse 208882603738877.25\n",
      "[01:16:32] WARNING: /workspace/src/objective/regression_obj.cu:152: reg:linear is now deprecated in favor of reg:squarederror.\n",
      "Validation mse 209053989070561.34\n",
      "[01:16:33] WARNING: /workspace/src/objective/regression_obj.cu:152: reg:linear is now deprecated in favor of reg:squarederror.\n",
      "Validation mse 209058957490814.88\n",
      "[01:16:33] WARNING: /workspace/src/objective/regression_obj.cu:152: reg:linear is now deprecated in favor of reg:squarederror.\n",
      "Validation mse 209059290581905.5\n",
      "[01:16:34] WARNING: /workspace/src/objective/regression_obj.cu:152: reg:linear is now deprecated in favor of reg:squarederror.\n",
      "Validation mse 211636189229613.75\n",
      "[01:16:34] WARNING: /workspace/src/objective/regression_obj.cu:152: reg:linear is now deprecated in favor of reg:squarederror.\n",
      "Validation mse 211550226393159.38\n",
      "[01:16:35] WARNING: /workspace/src/objective/regression_obj.cu:152: reg:linear is now deprecated in favor of reg:squarederror.\n",
      "Validation mse 211564474797753.5\n",
      "[01:16:35] WARNING: /workspace/src/objective/regression_obj.cu:152: reg:linear is now deprecated in favor of reg:squarederror.\n",
      "Validation mse 211569685189841.5\n",
      "[01:16:36] WARNING: /workspace/src/objective/regression_obj.cu:152: reg:linear is now deprecated in favor of reg:squarederror.\n",
      "Validation mse 211570073972412.16\n",
      "[01:16:36] WARNING: /workspace/src/objective/regression_obj.cu:152: reg:linear is now deprecated in favor of reg:squarederror.\n",
      "Validation mse 211570073972412.16\n",
      "[01:16:37] WARNING: /workspace/src/objective/regression_obj.cu:152: reg:linear is now deprecated in favor of reg:squarederror.\n",
      "Validation mse 217968689202939.06\n",
      "[01:16:37] WARNING: /workspace/src/objective/regression_obj.cu:152: reg:linear is now deprecated in favor of reg:squarederror.\n",
      "Validation mse 218364093625126.06\n",
      "[01:16:37] WARNING: /workspace/src/objective/regression_obj.cu:152: reg:linear is now deprecated in favor of reg:squarederror.\n",
      "Validation mse 219569609937602.16\n",
      "[01:16:37] WARNING: /workspace/src/objective/regression_obj.cu:152: reg:linear is now deprecated in favor of reg:squarederror.\n",
      "Validation mse 221432939118979.06\n",
      "[01:16:38] WARNING: /workspace/src/objective/regression_obj.cu:152: reg:linear is now deprecated in favor of reg:squarederror.\n",
      "Validation mse 223956542454948.7\n",
      "[01:16:38] WARNING: /workspace/src/objective/regression_obj.cu:152: reg:linear is now deprecated in favor of reg:squarederror.\n",
      "Validation mse 225348111876983.12\n",
      "[01:16:38] WARNING: /workspace/src/objective/regression_obj.cu:152: reg:linear is now deprecated in favor of reg:squarederror.\n",
      "Validation mse 201116999984337.38\n",
      "[01:16:39] WARNING: /workspace/src/objective/regression_obj.cu:152: reg:linear is now deprecated in favor of reg:squarederror.\n",
      "Validation mse 199802464515515.38\n",
      "[01:16:39] WARNING: /workspace/src/objective/regression_obj.cu:152: reg:linear is now deprecated in favor of reg:squarederror.\n",
      "Validation mse 198761941755083.2\n",
      "[01:16:39] WARNING: /workspace/src/objective/regression_obj.cu:152: reg:linear is now deprecated in favor of reg:squarederror.\n",
      "Validation mse 198592066836229.12\n",
      "[01:16:40] WARNING: /workspace/src/objective/regression_obj.cu:152: reg:linear is now deprecated in favor of reg:squarederror.\n",
      "Validation mse 198982417844299.38\n",
      "[01:16:40] WARNING: /workspace/src/objective/regression_obj.cu:152: reg:linear is now deprecated in favor of reg:squarederror.\n",
      "Validation mse 199221254428040.8\n",
      "[01:16:41] WARNING: /workspace/src/objective/regression_obj.cu:152: reg:linear is now deprecated in favor of reg:squarederror.\n",
      "Validation mse 208279877163540.3\n",
      "[01:16:41] WARNING: /workspace/src/objective/regression_obj.cu:152: reg:linear is now deprecated in favor of reg:squarederror.\n",
      "Validation mse 205032185884604.47\n",
      "[01:16:41] WARNING: /workspace/src/objective/regression_obj.cu:152: reg:linear is now deprecated in favor of reg:squarederror.\n",
      "Validation mse 204113569438071.2\n",
      "[01:16:42] WARNING: /workspace/src/objective/regression_obj.cu:152: reg:linear is now deprecated in favor of reg:squarederror.\n",
      "Validation mse 204043720958713.72\n",
      "[01:16:42] WARNING: /workspace/src/objective/regression_obj.cu:152: reg:linear is now deprecated in favor of reg:squarederror.\n",
      "Validation mse 204740279650836.1\n",
      "[01:16:43] WARNING: /workspace/src/objective/regression_obj.cu:152: reg:linear is now deprecated in favor of reg:squarederror.\n",
      "Validation mse 205387608303760.9\n",
      "[01:16:43] WARNING: /workspace/src/objective/regression_obj.cu:152: reg:linear is now deprecated in favor of reg:squarederror.\n",
      "Validation mse 215275420423061.56\n",
      "[01:16:43] WARNING: /workspace/src/objective/regression_obj.cu:152: reg:linear is now deprecated in favor of reg:squarederror.\n",
      "Validation mse 211687272071350.6\n",
      "[01:16:44] WARNING: /workspace/src/objective/regression_obj.cu:152: reg:linear is now deprecated in favor of reg:squarederror.\n",
      "Validation mse 211787960320531.1\n",
      "[01:16:44] WARNING: /workspace/src/objective/regression_obj.cu:152: reg:linear is now deprecated in favor of reg:squarederror.\n",
      "Validation mse 211665123874151.4\n",
      "[01:16:45] WARNING: /workspace/src/objective/regression_obj.cu:152: reg:linear is now deprecated in favor of reg:squarederror.\n",
      "Validation mse 211654792617522.06\n",
      "[01:16:45] WARNING: /workspace/src/objective/regression_obj.cu:152: reg:linear is now deprecated in favor of reg:squarederror.\n",
      "Validation mse 211919269029395.38\n",
      "[01:16:46] WARNING: /workspace/src/objective/regression_obj.cu:152: reg:linear is now deprecated in favor of reg:squarederror.\n",
      "Validation mse 2934478629662321.0\n",
      "[01:16:46] WARNING: /workspace/src/objective/regression_obj.cu:152: reg:linear is now deprecated in favor of reg:squarederror.\n",
      "Validation mse 2075554323915926.8\n",
      "[01:16:46] WARNING: /workspace/src/objective/regression_obj.cu:152: reg:linear is now deprecated in favor of reg:squarederror.\n",
      "Validation mse 1493540819070018.0\n",
      "[01:16:47] WARNING: /workspace/src/objective/regression_obj.cu:152: reg:linear is now deprecated in favor of reg:squarederror.\n",
      "Validation mse 1097898854667281.5\n",
      "[01:16:47] WARNING: /workspace/src/objective/regression_obj.cu:152: reg:linear is now deprecated in favor of reg:squarederror.\n",
      "Validation mse 825159646328286.1\n",
      "[01:16:47] WARNING: /workspace/src/objective/regression_obj.cu:152: reg:linear is now deprecated in favor of reg:squarederror.\n",
      "Validation mse 636147329471272.5\n",
      "[01:16:48] WARNING: /workspace/src/objective/regression_obj.cu:152: reg:linear is now deprecated in favor of reg:squarederror.\n",
      "Validation mse 2921470549924097.0\n",
      "[01:16:48] WARNING: /workspace/src/objective/regression_obj.cu:152: reg:linear is now deprecated in favor of reg:squarederror.\n",
      "Validation mse 2053454281937468.0\n",
      "[01:16:48] WARNING: /workspace/src/objective/regression_obj.cu:152: reg:linear is now deprecated in favor of reg:squarederror.\n",
      "Validation mse 1465021567569515.5\n",
      "[01:16:48] WARNING: /workspace/src/objective/regression_obj.cu:152: reg:linear is now deprecated in favor of reg:squarederror.\n",
      "Validation mse 1068303334372506.2\n",
      "[01:16:49] WARNING: /workspace/src/objective/regression_obj.cu:152: reg:linear is now deprecated in favor of reg:squarederror.\n",
      "Validation mse 799060873402775.8\n",
      "[01:16:49] WARNING: /workspace/src/objective/regression_obj.cu:152: reg:linear is now deprecated in favor of reg:squarederror.\n",
      "Validation mse 615408325112731.5\n",
      "[01:16:50] WARNING: /workspace/src/objective/regression_obj.cu:152: reg:linear is now deprecated in favor of reg:squarederror.\n",
      "Validation mse 2920052404576238.5\n",
      "[01:16:50] WARNING: /workspace/src/objective/regression_obj.cu:152: reg:linear is now deprecated in favor of reg:squarederror.\n",
      "Validation mse 2056614122955008.5\n",
      "[01:16:50] WARNING: /workspace/src/objective/regression_obj.cu:152: reg:linear is now deprecated in favor of reg:squarederror.\n",
      "Validation mse 1470769610149884.5\n",
      "[01:16:50] WARNING: /workspace/src/objective/regression_obj.cu:152: reg:linear is now deprecated in favor of reg:squarederror.\n",
      "Validation mse 1071628242224476.1\n",
      "[01:16:51] WARNING: /workspace/src/objective/regression_obj.cu:152: reg:linear is now deprecated in favor of reg:squarederror.\n",
      "Validation mse 800882738963021.6\n",
      "[01:16:51] WARNING: /workspace/src/objective/regression_obj.cu:152: reg:linear is now deprecated in favor of reg:squarederror.\n",
      "Validation mse 619681094951555.9\n",
      "[01:16:52] WARNING: /workspace/src/objective/regression_obj.cu:152: reg:linear is now deprecated in favor of reg:squarederror.\n",
      "Validation mse 2920052404576238.5\n",
      "[01:16:52] WARNING: /workspace/src/objective/regression_obj.cu:152: reg:linear is now deprecated in favor of reg:squarederror.\n",
      "Validation mse 2056614122955008.5\n",
      "[01:16:52] WARNING: /workspace/src/objective/regression_obj.cu:152: reg:linear is now deprecated in favor of reg:squarederror.\n",
      "Validation mse 1471526904744640.5\n",
      "[01:16:52] WARNING: /workspace/src/objective/regression_obj.cu:152: reg:linear is now deprecated in favor of reg:squarederror.\n",
      "Validation mse 1072923112761443.5\n",
      "[01:16:53] WARNING: /workspace/src/objective/regression_obj.cu:152: reg:linear is now deprecated in favor of reg:squarederror.\n",
      "Validation mse 801769006382178.4\n",
      "[01:16:53] WARNING: /workspace/src/objective/regression_obj.cu:152: reg:linear is now deprecated in favor of reg:squarederror.\n",
      "Validation mse 622295572427953.1\n",
      "[01:16:54] WARNING: /workspace/src/objective/regression_obj.cu:152: reg:linear is now deprecated in favor of reg:squarederror.\n",
      "Validation mse 7334725003200083.0\n",
      "[01:16:54] WARNING: /workspace/src/objective/regression_obj.cu:152: reg:linear is now deprecated in favor of reg:squarederror.\n",
      "Validation mse 6080621359659280.0\n",
      "[01:16:54] WARNING: /workspace/src/objective/regression_obj.cu:152: reg:linear is now deprecated in favor of reg:squarederror.\n",
      "Validation mse 5047749224074446.0\n",
      "[01:16:54] WARNING: /workspace/src/objective/regression_obj.cu:152: reg:linear is now deprecated in favor of reg:squarederror.\n",
      "Validation mse 4202529420509903.5\n",
      "[01:16:55] WARNING: /workspace/src/objective/regression_obj.cu:152: reg:linear is now deprecated in favor of reg:squarederror.\n",
      "Validation mse 3507743886865213.0\n",
      "[01:16:55] WARNING: /workspace/src/objective/regression_obj.cu:152: reg:linear is now deprecated in favor of reg:squarederror.\n",
      "Validation mse 2935747702166659.0\n",
      "[01:16:55] WARNING: /workspace/src/objective/regression_obj.cu:152: reg:linear is now deprecated in favor of reg:squarederror.\n",
      "Validation mse 7334725003200083.0\n",
      "[01:16:56] WARNING: /workspace/src/objective/regression_obj.cu:152: reg:linear is now deprecated in favor of reg:squarederror.\n",
      "Validation mse 6080621359659280.0\n",
      "[01:16:56] WARNING: /workspace/src/objective/regression_obj.cu:152: reg:linear is now deprecated in favor of reg:squarederror.\n",
      "Validation mse 5047749224074446.0\n",
      "[01:16:56] WARNING: /workspace/src/objective/regression_obj.cu:152: reg:linear is now deprecated in favor of reg:squarederror.\n",
      "Validation mse 4199748098627344.5\n",
      "[01:16:56] WARNING: /workspace/src/objective/regression_obj.cu:152: reg:linear is now deprecated in favor of reg:squarederror.\n",
      "Validation mse 3499686720535482.5\n",
      "[01:16:57] WARNING: /workspace/src/objective/regression_obj.cu:152: reg:linear is now deprecated in favor of reg:squarederror.\n",
      "Validation mse 2922735610858986.0\n",
      "[01:16:57] WARNING: /workspace/src/objective/regression_obj.cu:152: reg:linear is now deprecated in favor of reg:squarederror.\n",
      "Validation mse 7334725003200083.0\n",
      "[01:16:57] WARNING: /workspace/src/objective/regression_obj.cu:152: reg:linear is now deprecated in favor of reg:squarederror.\n",
      "Validation mse 6080621359659280.0\n",
      "[01:16:58] WARNING: /workspace/src/objective/regression_obj.cu:152: reg:linear is now deprecated in favor of reg:squarederror.\n",
      "Validation mse 5047749224074446.0\n",
      "[01:16:58] WARNING: /workspace/src/objective/regression_obj.cu:152: reg:linear is now deprecated in favor of reg:squarederror.\n",
      "Validation mse 4197696686232946.5\n",
      "[01:16:58] WARNING: /workspace/src/objective/regression_obj.cu:152: reg:linear is now deprecated in favor of reg:squarederror.\n",
      "Validation mse 3497945111715684.5\n",
      "[01:16:59] WARNING: /workspace/src/objective/regression_obj.cu:152: reg:linear is now deprecated in favor of reg:squarederror.\n",
      "Validation mse 2921270117213382.0\n",
      "[01:16:59] WARNING: /workspace/src/objective/regression_obj.cu:152: reg:linear is now deprecated in favor of reg:squarederror.\n",
      "Validation mse 7334725003200083.0\n",
      "[01:16:59] WARNING: /workspace/src/objective/regression_obj.cu:152: reg:linear is now deprecated in favor of reg:squarederror.\n",
      "Validation mse 6080621359659280.0\n",
      "[01:17:00] WARNING: /workspace/src/objective/regression_obj.cu:152: reg:linear is now deprecated in favor of reg:squarederror.\n",
      "Validation mse 5047749224074446.0\n",
      "[01:17:00] WARNING: /workspace/src/objective/regression_obj.cu:152: reg:linear is now deprecated in favor of reg:squarederror.\n",
      "Validation mse 4197696686232946.5\n",
      "[01:17:00] WARNING: /workspace/src/objective/regression_obj.cu:152: reg:linear is now deprecated in favor of reg:squarederror.\n",
      "Validation mse 3497945111715684.5\n",
      "[01:17:00] WARNING: /workspace/src/objective/regression_obj.cu:152: reg:linear is now deprecated in favor of reg:squarederror.\n",
      "Validation mse 2921270117213382.0\n",
      "[01:17:01] WARNING: /workspace/src/objective/regression_obj.cu:152: reg:linear is now deprecated in favor of reg:squarederror.\n",
      "Validation mse 223486602647426.66\n",
      "[01:17:03] WARNING: /workspace/src/objective/regression_obj.cu:152: reg:linear is now deprecated in favor of reg:squarederror.\n",
      "Validation mse 223487970742870.47\n",
      "[01:17:05] WARNING: /workspace/src/objective/regression_obj.cu:152: reg:linear is now deprecated in favor of reg:squarederror.\n",
      "Validation mse 223488627430580.06\n",
      "[01:17:08] WARNING: /workspace/src/objective/regression_obj.cu:152: reg:linear is now deprecated in favor of reg:squarederror.\n",
      "Validation mse 223488627430580.06\n",
      "[01:17:11] WARNING: /workspace/src/objective/regression_obj.cu:152: reg:linear is now deprecated in favor of reg:squarederror.\n",
      "Validation mse 223488627430580.06\n",
      "[01:17:15] WARNING: /workspace/src/objective/regression_obj.cu:152: reg:linear is now deprecated in favor of reg:squarederror.\n",
      "Validation mse 223488627430580.06\n",
      "[01:17:19] WARNING: /workspace/src/objective/regression_obj.cu:152: reg:linear is now deprecated in favor of reg:squarederror.\n",
      "Validation mse 204252918123462.53\n",
      "[01:17:21] WARNING: /workspace/src/objective/regression_obj.cu:152: reg:linear is now deprecated in favor of reg:squarederror.\n",
      "Validation mse 204254179743837.8\n",
      "[01:17:23] WARNING: /workspace/src/objective/regression_obj.cu:152: reg:linear is now deprecated in favor of reg:squarederror.\n",
      "Validation mse 204254179743837.8\n",
      "[01:17:25] WARNING: /workspace/src/objective/regression_obj.cu:152: reg:linear is now deprecated in favor of reg:squarederror.\n",
      "Validation mse 204254179743837.8\n",
      "[01:17:28] WARNING: /workspace/src/objective/regression_obj.cu:152: reg:linear is now deprecated in favor of reg:squarederror.\n",
      "Validation mse 204254179743837.8\n",
      "[01:17:31] WARNING: /workspace/src/objective/regression_obj.cu:152: reg:linear is now deprecated in favor of reg:squarederror.\n",
      "Validation mse 204254179743837.8\n",
      "[01:17:34] WARNING: /workspace/src/objective/regression_obj.cu:152: reg:linear is now deprecated in favor of reg:squarederror.\n",
      "Validation mse 208618088470109.06\n",
      "[01:17:36] WARNING: /workspace/src/objective/regression_obj.cu:152: reg:linear is now deprecated in favor of reg:squarederror.\n",
      "Validation mse 208618527746421.94\n",
      "[01:17:38] WARNING: /workspace/src/objective/regression_obj.cu:152: reg:linear is now deprecated in favor of reg:squarederror.\n",
      "Validation mse 208618527746421.94\n",
      "[01:17:40] WARNING: /workspace/src/objective/regression_obj.cu:152: reg:linear is now deprecated in favor of reg:squarederror.\n",
      "Validation mse 208618527746421.94\n",
      "[01:17:42] WARNING: /workspace/src/objective/regression_obj.cu:152: reg:linear is now deprecated in favor of reg:squarederror.\n",
      "Validation mse 208618527746421.94\n",
      "[01:17:45] WARNING: /workspace/src/objective/regression_obj.cu:152: reg:linear is now deprecated in favor of reg:squarederror.\n",
      "Validation mse 208618527746421.94\n",
      "[01:17:49] WARNING: /workspace/src/objective/regression_obj.cu:152: reg:linear is now deprecated in favor of reg:squarederror.\n",
      "Validation mse 205621754961944.78\n",
      "[01:17:50] WARNING: /workspace/src/objective/regression_obj.cu:152: reg:linear is now deprecated in favor of reg:squarederror.\n",
      "Validation mse 205622295246186.22\n",
      "[01:17:52] WARNING: /workspace/src/objective/regression_obj.cu:152: reg:linear is now deprecated in favor of reg:squarederror.\n",
      "Validation mse 205622295246186.22\n",
      "[01:17:54] WARNING: /workspace/src/objective/regression_obj.cu:152: reg:linear is now deprecated in favor of reg:squarederror.\n",
      "Validation mse 205622295246186.22\n",
      "[01:17:56] WARNING: /workspace/src/objective/regression_obj.cu:152: reg:linear is now deprecated in favor of reg:squarederror.\n",
      "Validation mse 205622295246186.22\n",
      "[01:17:59] WARNING: /workspace/src/objective/regression_obj.cu:152: reg:linear is now deprecated in favor of reg:squarederror.\n",
      "Validation mse 205622295246186.22\n",
      "[01:18:03] WARNING: /workspace/src/objective/regression_obj.cu:152: reg:linear is now deprecated in favor of reg:squarederror.\n",
      "Validation mse 225040247489768.56\n",
      "[01:18:06] WARNING: /workspace/src/objective/regression_obj.cu:152: reg:linear is now deprecated in favor of reg:squarederror.\n",
      "Validation mse 225041626406499.56\n",
      "[01:18:10] WARNING: /workspace/src/objective/regression_obj.cu:152: reg:linear is now deprecated in favor of reg:squarederror.\n",
      "Validation mse 225043005328570.0\n",
      "[01:18:15] WARNING: /workspace/src/objective/regression_obj.cu:152: reg:linear is now deprecated in favor of reg:squarederror.\n",
      "Validation mse 225044384255979.94\n",
      "[01:18:20] WARNING: /workspace/src/objective/regression_obj.cu:152: reg:linear is now deprecated in favor of reg:squarederror.\n",
      "Validation mse 225045763188729.5\n",
      "[01:18:26] WARNING: /workspace/src/objective/regression_obj.cu:152: reg:linear is now deprecated in favor of reg:squarederror.\n",
      "Validation mse 225047142126818.5\n",
      "[01:18:33] WARNING: /workspace/src/objective/regression_obj.cu:152: reg:linear is now deprecated in favor of reg:squarederror.\n",
      "Validation mse 200319756522195.6\n",
      "[01:18:36] WARNING: /workspace/src/objective/regression_obj.cu:152: reg:linear is now deprecated in favor of reg:squarederror.\n",
      "Validation mse 200321114612231.06\n",
      "[01:18:39] WARNING: /workspace/src/objective/regression_obj.cu:152: reg:linear is now deprecated in favor of reg:squarederror.\n",
      "Validation mse 200322472707606.12\n",
      "[01:18:43] WARNING: /workspace/src/objective/regression_obj.cu:152: reg:linear is now deprecated in favor of reg:squarederror.\n",
      "Validation mse 200323830808320.62\n",
      "[01:18:47] WARNING: /workspace/src/objective/regression_obj.cu:152: reg:linear is now deprecated in favor of reg:squarederror.\n",
      "Validation mse 200325188914374.62\n",
      "[01:18:53] WARNING: /workspace/src/objective/regression_obj.cu:152: reg:linear is now deprecated in favor of reg:squarederror.\n",
      "Validation mse 200326547025768.28\n",
      "[01:18:59] WARNING: /workspace/src/objective/regression_obj.cu:152: reg:linear is now deprecated in favor of reg:squarederror.\n",
      "Validation mse 204189122062295.88\n",
      "[01:19:01] WARNING: /workspace/src/objective/regression_obj.cu:152: reg:linear is now deprecated in favor of reg:squarederror.\n",
      "Validation mse 204190489263903.9\n",
      "[01:19:04] WARNING: /workspace/src/objective/regression_obj.cu:152: reg:linear is now deprecated in favor of reg:squarederror.\n",
      "Validation mse 204191856470851.34\n",
      "[01:19:07] WARNING: /workspace/src/objective/regression_obj.cu:152: reg:linear is now deprecated in favor of reg:squarederror.\n",
      "Validation mse 204193223683138.4\n",
      "[01:19:11] WARNING: /workspace/src/objective/regression_obj.cu:152: reg:linear is now deprecated in favor of reg:squarederror.\n",
      "Validation mse 204194590900764.88\n",
      "[01:19:16] WARNING: /workspace/src/objective/regression_obj.cu:152: reg:linear is now deprecated in favor of reg:squarederror.\n",
      "Validation mse 204195958123730.9\n",
      "[01:19:21] WARNING: /workspace/src/objective/regression_obj.cu:152: reg:linear is now deprecated in favor of reg:squarederror.\n",
      "Validation mse 207032889106743.9\n",
      "[01:19:23] WARNING: /workspace/src/objective/regression_obj.cu:152: reg:linear is now deprecated in favor of reg:squarederror.\n",
      "Validation mse 207034253574410.22\n",
      "[01:19:26] WARNING: /workspace/src/objective/regression_obj.cu:152: reg:linear is now deprecated in favor of reg:squarederror.\n",
      "Validation mse 207035618047416.12\n",
      "[01:19:29] WARNING: /workspace/src/objective/regression_obj.cu:152: reg:linear is now deprecated in favor of reg:squarederror.\n",
      "Validation mse 207036982525761.5\n",
      "[01:19:33] WARNING: /workspace/src/objective/regression_obj.cu:152: reg:linear is now deprecated in favor of reg:squarederror.\n",
      "Validation mse 207038347009446.34\n",
      "[01:19:38] WARNING: /workspace/src/objective/regression_obj.cu:152: reg:linear is now deprecated in favor of reg:squarederror.\n",
      "Validation mse 207039711498470.8\n",
      "[01:19:43] WARNING: /workspace/src/objective/regression_obj.cu:152: reg:linear is now deprecated in favor of reg:squarederror.\n",
      "Validation mse 223043941607277.9\n",
      "[01:19:45] WARNING: /workspace/src/objective/regression_obj.cu:152: reg:linear is now deprecated in favor of reg:squarederror.\n",
      "Validation mse 224833017896179.5\n",
      "[01:19:48] WARNING: /workspace/src/objective/regression_obj.cu:152: reg:linear is now deprecated in favor of reg:squarederror.\n",
      "Validation mse 226372692784402.94\n",
      "[01:19:53] WARNING: /workspace/src/objective/regression_obj.cu:152: reg:linear is now deprecated in favor of reg:squarederror.\n",
      "Validation mse 227027479129434.2\n",
      "[01:19:59] WARNING: /workspace/src/objective/regression_obj.cu:152: reg:linear is now deprecated in favor of reg:squarederror.\n",
      "Validation mse 227497858631262.97\n",
      "[01:20:07] WARNING: /workspace/src/objective/regression_obj.cu:152: reg:linear is now deprecated in favor of reg:squarederror.\n",
      "Validation mse 227265566790884.44\n",
      "[01:20:16] WARNING: /workspace/src/objective/regression_obj.cu:152: reg:linear is now deprecated in favor of reg:squarederror.\n",
      "Validation mse 197876033723598.2\n",
      "[01:20:19] WARNING: /workspace/src/objective/regression_obj.cu:152: reg:linear is now deprecated in favor of reg:squarederror.\n",
      "Validation mse 198247085555622.97\n",
      "[01:20:22] WARNING: /workspace/src/objective/regression_obj.cu:152: reg:linear is now deprecated in favor of reg:squarederror.\n",
      "Validation mse 198950963215095.06\n",
      "[01:20:28] WARNING: /workspace/src/objective/regression_obj.cu:152: reg:linear is now deprecated in favor of reg:squarederror.\n",
      "Validation mse 199346328443462.88\n",
      "[01:20:35] WARNING: /workspace/src/objective/regression_obj.cu:152: reg:linear is now deprecated in favor of reg:squarederror.\n",
      "Validation mse 199468150206969.53\n",
      "[01:20:45] WARNING: /workspace/src/objective/regression_obj.cu:152: reg:linear is now deprecated in favor of reg:squarederror.\n",
      "Validation mse 199641053729665.38\n",
      "[01:20:57] WARNING: /workspace/src/objective/regression_obj.cu:152: reg:linear is now deprecated in favor of reg:squarederror.\n",
      "Validation mse 207693986067075.84\n",
      "[01:21:00] WARNING: /workspace/src/objective/regression_obj.cu:152: reg:linear is now deprecated in favor of reg:squarederror.\n",
      "Validation mse 208366991717962.94\n",
      "[01:21:04] WARNING: /workspace/src/objective/regression_obj.cu:152: reg:linear is now deprecated in favor of reg:squarederror.\n",
      "Validation mse 208085195373179.03\n",
      "[01:21:10] WARNING: /workspace/src/objective/regression_obj.cu:152: reg:linear is now deprecated in favor of reg:squarederror.\n",
      "Validation mse 208135699210667.2\n",
      "[01:21:19] WARNING: /workspace/src/objective/regression_obj.cu:152: reg:linear is now deprecated in favor of reg:squarederror.\n",
      "Validation mse 208140037059974.16\n",
      "[01:21:30] WARNING: /workspace/src/objective/regression_obj.cu:152: reg:linear is now deprecated in favor of reg:squarederror.\n",
      "Validation mse 208142798300477.72\n",
      "[01:21:43] WARNING: /workspace/src/objective/regression_obj.cu:152: reg:linear is now deprecated in favor of reg:squarederror.\n",
      "Validation mse 212785382128880.44\n",
      "[01:21:46] WARNING: /workspace/src/objective/regression_obj.cu:152: reg:linear is now deprecated in favor of reg:squarederror.\n",
      "Validation mse 212617313466540.53\n",
      "[01:21:52] WARNING: /workspace/src/objective/regression_obj.cu:152: reg:linear is now deprecated in favor of reg:squarederror.\n",
      "Validation mse 212606665543454.38\n",
      "[01:21:59] WARNING: /workspace/src/objective/regression_obj.cu:152: reg:linear is now deprecated in favor of reg:squarederror.\n",
      "Validation mse 212610512140710.25\n",
      "[01:22:08] WARNING: /workspace/src/objective/regression_obj.cu:152: reg:linear is now deprecated in favor of reg:squarederror.\n",
      "Validation mse 212613296647429.56\n",
      "[01:22:20] WARNING: /workspace/src/objective/regression_obj.cu:152: reg:linear is now deprecated in favor of reg:squarederror.\n",
      "Validation mse 212616081175507.1\n",
      "[01:22:34] WARNING: /workspace/src/objective/regression_obj.cu:152: reg:linear is now deprecated in favor of reg:squarederror.\n",
      "Validation mse 218091921091879.03\n",
      "[01:22:36] WARNING: /workspace/src/objective/regression_obj.cu:152: reg:linear is now deprecated in favor of reg:squarederror.\n",
      "Validation mse 218626231970713.6\n",
      "[01:22:39] WARNING: /workspace/src/objective/regression_obj.cu:152: reg:linear is now deprecated in favor of reg:squarederror.\n",
      "Validation mse 219750204794129.66\n",
      "[01:22:42] WARNING: /workspace/src/objective/regression_obj.cu:152: reg:linear is now deprecated in favor of reg:squarederror.\n",
      "Validation mse 221730410216187.06\n",
      "[01:22:48] WARNING: /workspace/src/objective/regression_obj.cu:152: reg:linear is now deprecated in favor of reg:squarederror.\n",
      "Validation mse 223866104701608.2\n",
      "[01:22:54] WARNING: /workspace/src/objective/regression_obj.cu:152: reg:linear is now deprecated in favor of reg:squarederror.\n",
      "Validation mse 225177102619910.1\n",
      "[01:23:03] WARNING: /workspace/src/objective/regression_obj.cu:152: reg:linear is now deprecated in favor of reg:squarederror.\n",
      "Validation mse 201133356022107.72\n",
      "[01:23:05] WARNING: /workspace/src/objective/regression_obj.cu:152: reg:linear is now deprecated in favor of reg:squarederror.\n",
      "Validation mse 199826211231883.97\n",
      "[01:23:08] WARNING: /workspace/src/objective/regression_obj.cu:152: reg:linear is now deprecated in favor of reg:squarederror.\n",
      "Validation mse 198898405974105.5\n",
      "[01:23:12] WARNING: /workspace/src/objective/regression_obj.cu:152: reg:linear is now deprecated in favor of reg:squarederror.\n",
      "Validation mse 198532558924803.6\n",
      "[01:23:17] WARNING: /workspace/src/objective/regression_obj.cu:152: reg:linear is now deprecated in favor of reg:squarederror.\n",
      "Validation mse 198315613831502.25\n",
      "[01:23:25] WARNING: /workspace/src/objective/regression_obj.cu:152: reg:linear is now deprecated in favor of reg:squarederror.\n",
      "Validation mse 198203137893489.66\n",
      "[01:23:35] WARNING: /workspace/src/objective/regression_obj.cu:152: reg:linear is now deprecated in favor of reg:squarederror.\n",
      "Validation mse 208822422524623.56\n",
      "[01:23:37] WARNING: /workspace/src/objective/regression_obj.cu:152: reg:linear is now deprecated in favor of reg:squarederror.\n",
      "Validation mse 206387322781629.5\n",
      "[01:23:40] WARNING: /workspace/src/objective/regression_obj.cu:152: reg:linear is now deprecated in favor of reg:squarederror.\n",
      "Validation mse 206468208441193.06\n",
      "[01:23:45] WARNING: /workspace/src/objective/regression_obj.cu:152: reg:linear is now deprecated in favor of reg:squarederror.\n",
      "Validation mse 206157105411380.22\n",
      "[01:23:52] WARNING: /workspace/src/objective/regression_obj.cu:152: reg:linear is now deprecated in favor of reg:squarederror.\n",
      "Validation mse 206652809316746.28\n",
      "[01:24:01] WARNING: /workspace/src/objective/regression_obj.cu:152: reg:linear is now deprecated in favor of reg:squarederror.\n",
      "Validation mse 207343870310526.0\n",
      "[01:24:13] WARNING: /workspace/src/objective/regression_obj.cu:152: reg:linear is now deprecated in favor of reg:squarederror.\n",
      "Validation mse 215505391046415.75\n",
      "[01:24:16] WARNING: /workspace/src/objective/regression_obj.cu:152: reg:linear is now deprecated in favor of reg:squarederror.\n",
      "Validation mse 212173958993782.22\n",
      "[01:24:20] WARNING: /workspace/src/objective/regression_obj.cu:152: reg:linear is now deprecated in favor of reg:squarederror.\n",
      "Validation mse 211871213168486.47\n",
      "[01:24:25] WARNING: /workspace/src/objective/regression_obj.cu:152: reg:linear is now deprecated in favor of reg:squarederror.\n",
      "Validation mse 211548113901230.97\n",
      "[01:24:34] WARNING: /workspace/src/objective/regression_obj.cu:152: reg:linear is now deprecated in favor of reg:squarederror.\n",
      "Validation mse 212487868632945.6\n",
      "[01:24:45] WARNING: /workspace/src/objective/regression_obj.cu:152: reg:linear is now deprecated in favor of reg:squarederror.\n",
      "Validation mse 213126760244018.06\n",
      "[01:25:00] WARNING: /workspace/src/objective/regression_obj.cu:152: reg:linear is now deprecated in favor of reg:squarederror.\n",
      "Validation mse 2934471773689393.5\n",
      "[01:25:01] WARNING: /workspace/src/objective/regression_obj.cu:152: reg:linear is now deprecated in favor of reg:squarederror.\n",
      "Validation mse 2075547891799417.8\n",
      "[01:25:03] WARNING: /workspace/src/objective/regression_obj.cu:152: reg:linear is now deprecated in favor of reg:squarederror.\n",
      "Validation mse 1493535130458943.0\n",
      "[01:25:05] WARNING: /workspace/src/objective/regression_obj.cu:152: reg:linear is now deprecated in favor of reg:squarederror.\n",
      "Validation mse 1097893477249417.0\n",
      "[01:25:09] WARNING: /workspace/src/objective/regression_obj.cu:152: reg:linear is now deprecated in favor of reg:squarederror.\n",
      "Validation mse 825154703458847.5\n",
      "[01:25:13] WARNING: /workspace/src/objective/regression_obj.cu:152: reg:linear is now deprecated in favor of reg:squarederror.\n",
      "Validation mse 636143517487274.1\n",
      "[01:25:19] WARNING: /workspace/src/objective/regression_obj.cu:152: reg:linear is now deprecated in favor of reg:squarederror.\n",
      "Validation mse 2921180296478186.5\n",
      "[01:25:20] WARNING: /workspace/src/objective/regression_obj.cu:152: reg:linear is now deprecated in favor of reg:squarederror.\n",
      "Validation mse 2053223163421191.5\n",
      "[01:25:22] WARNING: /workspace/src/objective/regression_obj.cu:152: reg:linear is now deprecated in favor of reg:squarederror.\n",
      "Validation mse 1464838376577902.2\n",
      "[01:25:24] WARNING: /workspace/src/objective/regression_obj.cu:152: reg:linear is now deprecated in favor of reg:squarederror.\n",
      "Validation mse 1068138309136197.5\n",
      "[01:25:28] WARNING: /workspace/src/objective/regression_obj.cu:152: reg:linear is now deprecated in favor of reg:squarederror.\n",
      "Validation mse 798919543187342.2\n",
      "[01:25:32] WARNING: /workspace/src/objective/regression_obj.cu:152: reg:linear is now deprecated in favor of reg:squarederror.\n",
      "Validation mse 615293509383723.8\n",
      "[01:25:38] WARNING: /workspace/src/objective/regression_obj.cu:152: reg:linear is now deprecated in favor of reg:squarederror.\n",
      "Validation mse 2920047027934157.5\n",
      "[01:25:39] WARNING: /workspace/src/objective/regression_obj.cu:152: reg:linear is now deprecated in favor of reg:squarederror.\n",
      "Validation mse 2056609788598028.0\n",
      "[01:25:41] WARNING: /workspace/src/objective/regression_obj.cu:152: reg:linear is now deprecated in favor of reg:squarederror.\n",
      "Validation mse 1470765517755150.8\n",
      "[01:25:43] WARNING: /workspace/src/objective/regression_obj.cu:152: reg:linear is now deprecated in favor of reg:squarederror.\n",
      "Validation mse 1071627127901851.6\n",
      "[01:25:47] WARNING: /workspace/src/objective/regression_obj.cu:152: reg:linear is now deprecated in favor of reg:squarederror.\n",
      "Validation mse 800882613931772.1\n",
      "[01:25:51] WARNING: /workspace/src/objective/regression_obj.cu:152: reg:linear is now deprecated in favor of reg:squarederror.\n",
      "Validation mse 619681617131209.2\n",
      "[01:25:57] WARNING: /workspace/src/objective/regression_obj.cu:152: reg:linear is now deprecated in favor of reg:squarederror.\n",
      "Validation mse 2920047027934157.5\n",
      "[01:25:58] WARNING: /workspace/src/objective/regression_obj.cu:152: reg:linear is now deprecated in favor of reg:squarederror.\n",
      "Validation mse 2056609788598028.0\n",
      "[01:26:00] WARNING: /workspace/src/objective/regression_obj.cu:152: reg:linear is now deprecated in favor of reg:squarederror.\n",
      "Validation mse 1471523400882614.0\n",
      "[01:26:03] WARNING: /workspace/src/objective/regression_obj.cu:152: reg:linear is now deprecated in favor of reg:squarederror.\n",
      "Validation mse 1072920212724566.2\n",
      "[01:26:06] WARNING: /workspace/src/objective/regression_obj.cu:152: reg:linear is now deprecated in favor of reg:squarederror.\n",
      "Validation mse 801766488009107.5\n",
      "[01:26:10] WARNING: /workspace/src/objective/regression_obj.cu:152: reg:linear is now deprecated in favor of reg:squarederror.\n",
      "Validation mse 622267493483293.9\n",
      "[01:26:16] WARNING: /workspace/src/objective/regression_obj.cu:152: reg:linear is now deprecated in favor of reg:squarederror.\n",
      "Validation mse 7334727788004528.0\n",
      "[01:26:17] WARNING: /workspace/src/objective/regression_obj.cu:152: reg:linear is now deprecated in favor of reg:squarederror.\n",
      "Validation mse 6080622633355370.0\n",
      "[01:26:19] WARNING: /workspace/src/objective/regression_obj.cu:152: reg:linear is now deprecated in favor of reg:squarederror.\n",
      "Validation mse 5047751484480647.0\n",
      "[01:26:21] WARNING: /workspace/src/objective/regression_obj.cu:152: reg:linear is now deprecated in favor of reg:squarederror.\n",
      "Validation mse 4202531475273417.0\n",
      "[01:26:23] WARNING: /workspace/src/objective/regression_obj.cu:152: reg:linear is now deprecated in favor of reg:squarederror.\n",
      "Validation mse 3507745697936219.0\n",
      "[01:26:27] WARNING: /workspace/src/objective/regression_obj.cu:152: reg:linear is now deprecated in favor of reg:squarederror.\n",
      "Validation mse 2935752730212587.0\n",
      "[01:26:31] WARNING: /workspace/src/objective/regression_obj.cu:152: reg:linear is now deprecated in favor of reg:squarederror.\n",
      "Validation mse 7334727788004528.0\n",
      "[01:26:32] WARNING: /workspace/src/objective/regression_obj.cu:152: reg:linear is now deprecated in favor of reg:squarederror.\n",
      "Validation mse 6080622633355370.0\n",
      "[01:26:34] WARNING: /workspace/src/objective/regression_obj.cu:152: reg:linear is now deprecated in favor of reg:squarederror.\n",
      "Validation mse 5047751484480647.0\n",
      "[01:26:36] WARNING: /workspace/src/objective/regression_obj.cu:152: reg:linear is now deprecated in favor of reg:squarederror.\n",
      "Validation mse 4199749120114721.0\n",
      "[01:26:38] WARNING: /workspace/src/objective/regression_obj.cu:152: reg:linear is now deprecated in favor of reg:squarederror.\n",
      "Validation mse 3499686746703830.0\n",
      "[01:26:42] WARNING: /workspace/src/objective/regression_obj.cu:152: reg:linear is now deprecated in favor of reg:squarederror.\n",
      "Validation mse 2922738012529987.0\n",
      "[01:26:46] WARNING: /workspace/src/objective/regression_obj.cu:152: reg:linear is now deprecated in favor of reg:squarederror.\n",
      "Validation mse 7334727788004528.0\n",
      "[01:26:48] WARNING: /workspace/src/objective/regression_obj.cu:152: reg:linear is now deprecated in favor of reg:squarederror.\n",
      "Validation mse 6080622633355370.0\n",
      "[01:26:49] WARNING: /workspace/src/objective/regression_obj.cu:152: reg:linear is now deprecated in favor of reg:squarederror.\n",
      "Validation mse 5047751484480647.0\n",
      "[01:26:51] WARNING: /workspace/src/objective/regression_obj.cu:152: reg:linear is now deprecated in favor of reg:squarederror.\n",
      "Validation mse 4197697806173107.0\n",
      "[01:26:54] WARNING: /workspace/src/objective/regression_obj.cu:152: reg:linear is now deprecated in favor of reg:squarederror.\n",
      "Validation mse 3497948246149356.0\n",
      "[01:26:57] WARNING: /workspace/src/objective/regression_obj.cu:152: reg:linear is now deprecated in favor of reg:squarederror.\n",
      "Validation mse 2921272028915956.5\n",
      "[01:27:02] WARNING: /workspace/src/objective/regression_obj.cu:152: reg:linear is now deprecated in favor of reg:squarederror.\n",
      "Validation mse 7334727788004528.0\n",
      "[01:27:03] WARNING: /workspace/src/objective/regression_obj.cu:152: reg:linear is now deprecated in favor of reg:squarederror.\n",
      "Validation mse 6080622633355370.0\n",
      "[01:27:04] WARNING: /workspace/src/objective/regression_obj.cu:152: reg:linear is now deprecated in favor of reg:squarederror.\n",
      "Validation mse 5047751484480647.0\n",
      "[01:27:06] WARNING: /workspace/src/objective/regression_obj.cu:152: reg:linear is now deprecated in favor of reg:squarederror.\n",
      "Validation mse 4197697806173107.0\n",
      "[01:27:09] WARNING: /workspace/src/objective/regression_obj.cu:152: reg:linear is now deprecated in favor of reg:squarederror.\n",
      "Validation mse 3497948246149356.0\n",
      "[01:27:13] WARNING: /workspace/src/objective/regression_obj.cu:152: reg:linear is now deprecated in favor of reg:squarederror.\n",
      "Validation mse 2921272028915956.5\n"
     ],
     "name": "stdout"
    },
    {
     "output_type": "display_data",
     "data": {
      "image/png": "[encoded data removed]",
      "text/plain": [
       "<Figure size 432x288 with 1 Axes>"
      ]
     },
     "metadata": {
      "tags": [],
      "needs_background": "light"
     }
    }
   ]
  },
  {
   "cell_type": "code",
   "metadata": {
    "id": "NDXU8SPgCQn_",
    "colab": {
     "base_uri": "https://localhost:8080/"
    },
    "outputId": "469989b3-411c-4e88-a098-4fb9c711e810"
   },
   "source": [
    "opt.best_paras()"
   ],
   "execution_count": 10,
   "outputs": [
    {
     "output_type": "execute_result",
     "data": {
      "text/plain": [
       "{'booster': 'dart',\n",
       " 'learning_rate': 0.01,\n",
       " 'max_depth': 4,\n",
       " 'n_estimators': 1000}"
      ]
     },
     "metadata": {
      "tags": []
     },
     "execution_count": 10
    }
   ]
  },
  {
   "cell_type": "code",
   "metadata": {
    "id": "ragHu7TACQn_",
    "colab": {
     "base_uri": "https://localhost:8080/",
     "height": 781
    },
    "outputId": "879c65ca-a6a4-4536-fe79-eea9a234f954"
   },
   "source": [
    "opt.predict(**opt.best_paras())"
   ],
   "execution_count": 11,
   "outputs": [
    {
     "output_type": "stream",
     "text": [
      "building ML based model for regression problem\n",
      "\n",
      "********** Removing Samples with nan labels  **********\n",
      "\n",
      "input_x shape:  (152, 13)\n",
      "prev_y shape:  (152, 1)\n",
      "target shape:  (152,)\n",
      "[01:27:25] WARNING: /workspace/src/objective/regression_obj.cu:152: reg:linear is now deprecated in favor of reg:squarederror.\n",
      "\n",
      "********** Removing Samples with nan labels  **********\n",
      "\n",
      "input_x shape:  (66, 13)\n",
      "prev_y shape:  (66, 1)\n",
      "target shape:  (66,)\n",
      "Validation mse 197876033723598.2\n"
     ],
     "name": "stdout"
    },
    {
     "output_type": "execute_result",
     "data": {
      "text/plain": [
       "197876033723598.2"
      ]
     },
     "metadata": {
      "tags": []
     },
     "execution_count": 11
    },
    {
     "output_type": "display_data",
     "data": {
      "image/png": "[encoded data removed]",
      "text/plain": [
       "<Figure size 640x480 with 1 Axes>"
      ]
     },
     "metadata": {
      "tags": []
     }
    }
   ]
  },
  {
   "cell_type": "markdown",
   "metadata": {
    "id": "Q-o8xjHWCQn_"
   },
   "source": [
    "# Random Search\n",
    "\n",
    "Now we will use `random search` algorithm for hyper parameter optimization. The most important parameter is `n_iter` \n",
    "which determines how many iterations we are going to use. "
   ]
  },
  {
   "cell_type": "code",
   "metadata": {
    "id": "RqdicYgFCQn_",
    "colab": {
     "base_uri": "https://localhost:8080/",
     "height": 1000
    },
    "outputId": "b171eed0-1b85-409c-bf12-5185fe659ab5"
   },
   "source": [
    "opt = HyperOpt(\"random\",\n",
    "               param_space=dims,\n",
    "               ai4water_args=ai4water_args,\n",
    "               data=data,\n",
    "               n_iter=100\n",
    "               )\n",
    "sr = opt.fit()"
   ],
   "execution_count": 12,
   "outputs": [
    {
     "output_type": "stream",
     "text": [
      "total number of iterations: 100\n",
      "[01:27:29] WARNING: /workspace/src/objective/regression_obj.cu:152: reg:linear is now deprecated in favor of reg:squarederror.\n",
      "Validation mse 204254179743837.8\n",
      "[01:27:31] WARNING: /workspace/src/objective/regression_obj.cu:152: reg:linear is now deprecated in favor of reg:squarederror.\n",
      "Validation mse 205615333346731.47\n",
      "[01:27:31] WARNING: /workspace/src/objective/regression_obj.cu:152: reg:linear is now deprecated in favor of reg:squarederror.\n",
      "Validation mse 207026486148457.12\n",
      "[01:27:31] WARNING: /workspace/src/objective/regression_obj.cu:152: reg:linear is now deprecated in favor of reg:squarederror.\n",
      "Validation mse 200323830808320.62\n",
      "[01:27:36] WARNING: /workspace/src/objective/regression_obj.cu:152: reg:linear is now deprecated in favor of reg:squarederror.\n",
      "Validation mse 226535114976005.84\n",
      "[01:27:36] WARNING: /workspace/src/objective/regression_obj.cu:152: reg:linear is now deprecated in favor of reg:squarederror.\n",
      "Validation mse 208822422524623.56\n",
      "[01:27:39] WARNING: /workspace/src/objective/regression_obj.cu:152: reg:linear is now deprecated in favor of reg:squarederror.\n",
      "Validation mse 622267493483293.9\n",
      "[01:27:44] WARNING: /workspace/src/objective/regression_obj.cu:152: reg:linear is now deprecated in favor of reg:squarederror.\n",
      "Validation mse 198981466222647.5\n",
      "[01:27:45] WARNING: /workspace/src/objective/regression_obj.cu:152: reg:linear is now deprecated in favor of reg:squarederror.\n",
      "Validation mse 4197696686232946.5\n",
      "[01:27:45] WARNING: /workspace/src/objective/regression_obj.cu:152: reg:linear is now deprecated in favor of reg:squarederror.\n",
      "Validation mse 198761941755083.2\n",
      "[01:27:45] WARNING: /workspace/src/objective/regression_obj.cu:152: reg:linear is now deprecated in favor of reg:squarederror.\n",
      "Validation mse 205622295246186.22\n",
      "[01:27:48] WARNING: /workspace/src/objective/regression_obj.cu:152: reg:linear is now deprecated in favor of reg:squarederror.\n",
      "Validation mse 206468208441193.06\n",
      "[01:27:53] WARNING: /workspace/src/objective/regression_obj.cu:152: reg:linear is now deprecated in favor of reg:squarederror.\n",
      "Validation mse 224363607932669.97\n",
      "[01:27:53] WARNING: /workspace/src/objective/regression_obj.cu:152: reg:linear is now deprecated in favor of reg:squarederror.\n",
      "Validation mse 212173958993782.22\n",
      "[01:27:57] WARNING: /workspace/src/objective/regression_obj.cu:152: reg:linear is now deprecated in favor of reg:squarederror.\n",
      "Validation mse 204043720958713.72\n",
      "[01:27:58] WARNING: /workspace/src/objective/regression_obj.cu:152: reg:linear is now deprecated in favor of reg:squarederror.\n",
      "Validation mse 615408325112731.5\n",
      "[01:27:58] WARNING: /workspace/src/objective/regression_obj.cu:152: reg:linear is now deprecated in favor of reg:squarederror.\n",
      "Validation mse 201133356022107.72\n",
      "[01:28:00] WARNING: /workspace/src/objective/regression_obj.cu:152: reg:linear is now deprecated in favor of reg:squarederror.\n",
      "Validation mse 223866104701608.2\n",
      "[01:28:07] WARNING: /workspace/src/objective/regression_obj.cu:152: reg:linear is now deprecated in favor of reg:squarederror.\n",
      "Validation mse 2922738012529987.0\n",
      "[01:28:11] WARNING: /workspace/src/objective/regression_obj.cu:152: reg:linear is now deprecated in favor of reg:squarederror.\n",
      "Validation mse 205622295246186.22\n",
      "[01:28:14] WARNING: /workspace/src/objective/regression_obj.cu:152: reg:linear is now deprecated in favor of reg:squarederror.\n",
      "Validation mse 211564474797753.5\n",
      "[01:28:14] WARNING: /workspace/src/objective/regression_obj.cu:152: reg:linear is now deprecated in favor of reg:squarederror.\n",
      "Validation mse 198315613831502.25\n",
      "[01:28:22] WARNING: /workspace/src/objective/regression_obj.cu:152: reg:linear is now deprecated in favor of reg:squarederror.\n",
      "Validation mse 2075554323915926.8\n",
      "[01:28:22] WARNING: /workspace/src/objective/regression_obj.cu:152: reg:linear is now deprecated in favor of reg:squarederror.\n",
      "Validation mse 204195958123730.9\n",
      "[01:28:27] WARNING: /workspace/src/objective/regression_obj.cu:152: reg:linear is now deprecated in favor of reg:squarederror.\n",
      "Validation mse 801769006382178.4\n",
      "[01:28:27] WARNING: /workspace/src/objective/regression_obj.cu:152: reg:linear is now deprecated in favor of reg:squarederror.\n",
      "Validation mse 208611830819139.1\n",
      "[01:28:28] WARNING: /workspace/src/objective/regression_obj.cu:152: reg:linear is now deprecated in favor of reg:squarederror.\n",
      "Validation mse 6080622633355370.0\n",
      "[01:28:29] WARNING: /workspace/src/objective/regression_obj.cu:152: reg:linear is now deprecated in favor of reg:squarederror.\n",
      "Validation mse 204246472430777.34\n",
      "[01:28:29] WARNING: /workspace/src/objective/regression_obj.cu:152: reg:linear is now deprecated in favor of reg:squarederror.\n",
      "Validation mse 225045763188729.5\n",
      "[01:28:35] WARNING: /workspace/src/objective/regression_obj.cu:152: reg:linear is now deprecated in favor of reg:squarederror.\n",
      "Validation mse 208618527746421.94\n",
      "[01:28:37] WARNING: /workspace/src/objective/regression_obj.cu:152: reg:linear is now deprecated in favor of reg:squarederror.\n",
      "Validation mse 6080621359659280.0\n",
      "[01:28:37] WARNING: /workspace/src/objective/regression_obj.cu:152: reg:linear is now deprecated in favor of reg:squarederror.\n",
      "Validation mse 208618527746421.94\n",
      "[01:28:40] WARNING: /workspace/src/objective/regression_obj.cu:152: reg:linear is now deprecated in favor of reg:squarederror.\n",
      "Validation mse 2056609788598028.0\n",
      "[01:28:42] WARNING: /workspace/src/objective/regression_obj.cu:152: reg:linear is now deprecated in favor of reg:squarederror.\n",
      "Validation mse 211569685189841.5\n",
      "[01:28:43] WARNING: /workspace/src/objective/regression_obj.cu:152: reg:linear is now deprecated in favor of reg:squarederror.\n",
      "Validation mse 207693986067075.84\n",
      "[01:28:45] WARNING: /workspace/src/objective/regression_obj.cu:152: reg:linear is now deprecated in favor of reg:squarederror.\n",
      "Validation mse 205615333346731.47\n",
      "[01:28:46] WARNING: /workspace/src/objective/regression_obj.cu:152: reg:linear is now deprecated in favor of reg:squarederror.\n",
      "Validation mse 2934478629662321.0\n",
      "[01:28:46] WARNING: /workspace/src/objective/regression_obj.cu:152: reg:linear is now deprecated in favor of reg:squarederror.\n",
      "Validation mse 1097893477249417.0\n",
      "[01:28:49] WARNING: /workspace/src/objective/regression_obj.cu:152: reg:linear is now deprecated in favor of reg:squarederror.\n",
      "Validation mse 212610512140710.25\n",
      "[01:28:59] WARNING: /workspace/src/objective/regression_obj.cu:152: reg:linear is now deprecated in favor of reg:squarederror.\n",
      "Validation mse 225040247489768.56\n",
      "[01:29:01] WARNING: /workspace/src/objective/regression_obj.cu:152: reg:linear is now deprecated in favor of reg:squarederror.\n",
      "Validation mse 227420843716817.44\n",
      "[01:29:02] WARNING: /workspace/src/objective/regression_obj.cu:152: reg:linear is now deprecated in favor of reg:squarederror.\n",
      "Validation mse 2921272028915956.5\n",
      "[01:29:06] WARNING: /workspace/src/objective/regression_obj.cu:152: reg:linear is now deprecated in favor of reg:squarederror.\n",
      "Validation mse 213126760244018.06\n",
      "[01:29:21] WARNING: /workspace/src/objective/regression_obj.cu:152: reg:linear is now deprecated in favor of reg:squarederror.\n",
      "Validation mse 5047751484480647.0\n",
      "[01:29:23] WARNING: /workspace/src/objective/regression_obj.cu:152: reg:linear is now deprecated in favor of reg:squarederror.\n",
      "Validation mse 224912750354744.6\n",
      "[01:29:23] WARNING: /workspace/src/objective/regression_obj.cu:152: reg:linear is now deprecated in favor of reg:squarederror.\n",
      "Validation mse 2075547891799417.8\n",
      "[01:29:25] WARNING: /workspace/src/objective/regression_obj.cu:152: reg:linear is now deprecated in favor of reg:squarederror.\n",
      "Validation mse 211654792617522.06\n",
      "[01:29:25] WARNING: /workspace/src/objective/regression_obj.cu:152: reg:linear is now deprecated in favor of reg:squarederror.\n",
      "Validation mse 825159646328286.1\n",
      "[01:29:26] WARNING: /workspace/src/objective/regression_obj.cu:152: reg:linear is now deprecated in favor of reg:squarederror.\n",
      "Validation mse 1068138309136197.5\n",
      "[01:29:29] WARNING: /workspace/src/objective/regression_obj.cu:152: reg:linear is now deprecated in favor of reg:squarederror.\n",
      "Validation mse 224833017896179.5\n",
      "[01:29:32] WARNING: /workspace/src/objective/regression_obj.cu:152: reg:linear is now deprecated in favor of reg:squarederror.\n",
      "Validation mse 1072923112761443.5\n",
      "[01:29:32] WARNING: /workspace/src/objective/regression_obj.cu:152: reg:linear is now deprecated in favor of reg:squarederror.\n",
      "Validation mse 204246472430777.34\n",
      "[01:29:33] WARNING: /workspace/src/objective/regression_obj.cu:152: reg:linear is now deprecated in favor of reg:squarederror.\n",
      "Validation mse 208611830819139.1\n",
      "[01:29:33] WARNING: /workspace/src/objective/regression_obj.cu:152: reg:linear is now deprecated in favor of reg:squarederror.\n",
      "Validation mse 223956542454948.7\n",
      "[01:29:33] WARNING: /workspace/src/objective/regression_obj.cu:152: reg:linear is now deprecated in favor of reg:squarederror.\n",
      "Validation mse 212617313466540.53\n",
      "[01:29:38] WARNING: /workspace/src/objective/regression_obj.cu:152: reg:linear is now deprecated in favor of reg:squarederror.\n",
      "Validation mse 2920047027934157.5\n",
      "[01:29:40] WARNING: /workspace/src/objective/regression_obj.cu:152: reg:linear is now deprecated in favor of reg:squarederror.\n",
      "Validation mse 204246472430777.34\n",
      "[01:29:40] WARNING: /workspace/src/objective/regression_obj.cu:152: reg:linear is now deprecated in favor of reg:squarederror.\n",
      "Validation mse 6080622633355370.0\n",
      "[01:29:41] WARNING: /workspace/src/objective/regression_obj.cu:152: reg:linear is now deprecated in favor of reg:squarederror.\n",
      "Validation mse 223488627430580.06\n",
      "[01:29:46] WARNING: /workspace/src/objective/regression_obj.cu:152: reg:linear is now deprecated in favor of reg:squarederror.\n",
      "Validation mse 204080882552200.47\n",
      "[01:29:46] WARNING: /workspace/src/objective/regression_obj.cu:152: reg:linear is now deprecated in favor of reg:squarederror.\n",
      "Validation mse 223043941607277.9\n",
      "[01:29:48] WARNING: /workspace/src/objective/regression_obj.cu:152: reg:linear is now deprecated in favor of reg:squarederror.\n",
      "Validation mse 207035618047416.12\n",
      "[01:29:52] WARNING: /workspace/src/objective/regression_obj.cu:152: reg:linear is now deprecated in favor of reg:squarederror.\n",
      "Validation mse 221730410216187.06\n",
      "[01:29:57] WARNING: /workspace/src/objective/regression_obj.cu:152: reg:linear is now deprecated in favor of reg:squarederror.\n",
      "Validation mse 224085682125742.56\n",
      "[01:29:57] WARNING: /workspace/src/objective/regression_obj.cu:152: reg:linear is now deprecated in favor of reg:squarederror.\n",
      "Validation mse 215505391046415.75\n",
      "[01:29:59] WARNING: /workspace/src/objective/regression_obj.cu:152: reg:linear is now deprecated in favor of reg:squarederror.\n",
      "Validation mse 211665123874151.4\n",
      "[01:30:00] WARNING: /workspace/src/objective/regression_obj.cu:152: reg:linear is now deprecated in favor of reg:squarederror.\n",
      "Validation mse 205387608303760.9\n",
      "[01:30:00] WARNING: /workspace/src/objective/regression_obj.cu:152: reg:linear is now deprecated in favor of reg:squarederror.\n",
      "Validation mse 7334725003200083.0\n",
      "[01:30:01] WARNING: /workspace/src/objective/regression_obj.cu:152: reg:linear is now deprecated in favor of reg:squarederror.\n",
      "Validation mse 211871213168486.47\n",
      "[01:30:06] WARNING: /workspace/src/objective/regression_obj.cu:152: reg:linear is now deprecated in favor of reg:squarederror.\n",
      "Validation mse 199641053729665.38\n",
      "[01:30:19] WARNING: /workspace/src/objective/regression_obj.cu:152: reg:linear is now deprecated in favor of reg:squarederror.\n",
      "Validation mse 3497948246149356.0\n",
      "[01:30:23] WARNING: /workspace/src/objective/regression_obj.cu:152: reg:linear is now deprecated in favor of reg:squarederror.\n",
      "Validation mse 3499686746703830.0\n",
      "[01:30:26] WARNING: /workspace/src/objective/regression_obj.cu:152: reg:linear is now deprecated in favor of reg:squarederror.\n",
      "Validation mse 198950963215095.06\n",
      "[01:30:31] WARNING: /workspace/src/objective/regression_obj.cu:152: reg:linear is now deprecated in favor of reg:squarederror.\n",
      "Validation mse 204080882552200.47\n",
      "[01:30:32] WARNING: /workspace/src/objective/regression_obj.cu:152: reg:linear is now deprecated in favor of reg:squarederror.\n",
      "Validation mse 636143517487274.1\n",
      "[01:30:37] WARNING: /workspace/src/objective/regression_obj.cu:152: reg:linear is now deprecated in favor of reg:squarederror.\n",
      "Validation mse 205621754961944.78\n",
      "[01:30:38] WARNING: /workspace/src/objective/regression_obj.cu:152: reg:linear is now deprecated in favor of reg:squarederror.\n",
      "Validation mse 6080621359659280.0\n",
      "[01:30:39] WARNING: /workspace/src/objective/regression_obj.cu:152: reg:linear is now deprecated in favor of reg:squarederror.\n",
      "Validation mse 619681094951555.9\n",
      "[01:30:39] WARNING: /workspace/src/objective/regression_obj.cu:152: reg:linear is now deprecated in favor of reg:squarederror.\n",
      "Validation mse 205032185884604.47\n",
      "[01:30:40] WARNING: /workspace/src/objective/regression_obj.cu:152: reg:linear is now deprecated in favor of reg:squarederror.\n",
      "Validation mse 7334727788004528.0\n",
      "[01:30:41] WARNING: /workspace/src/objective/regression_obj.cu:152: reg:linear is now deprecated in favor of reg:squarederror.\n",
      "Validation mse 225047142126818.5\n",
      "[01:30:48] WARNING: /workspace/src/objective/regression_obj.cu:152: reg:linear is now deprecated in favor of reg:squarederror.\n",
      "Validation mse 5047751484480647.0\n",
      "[01:30:50] WARNING: /workspace/src/objective/regression_obj.cu:152: reg:linear is now deprecated in favor of reg:squarederror.\n",
      "Validation mse 199300827644559.56\n",
      "[01:30:50] WARNING: /workspace/src/objective/regression_obj.cu:152: reg:linear is now deprecated in favor of reg:squarederror.\n",
      "Validation mse 207844422649334.97\n",
      "[01:30:50] WARNING: /workspace/src/objective/regression_obj.cu:152: reg:linear is now deprecated in favor of reg:squarederror.\n",
      "Validation mse 211570073972412.16\n",
      "[01:30:51] WARNING: /workspace/src/objective/regression_obj.cu:152: reg:linear is now deprecated in favor of reg:squarederror.\n",
      "Validation mse 223488627430580.06\n",
      "[01:30:54] WARNING: /workspace/src/objective/regression_obj.cu:152: reg:linear is now deprecated in favor of reg:squarederror.\n",
      "Validation mse 7334725003200083.0\n",
      "[01:30:54] WARNING: /workspace/src/objective/regression_obj.cu:152: reg:linear is now deprecated in favor of reg:squarederror.\n",
      "Validation mse 215275420423061.56\n",
      "[01:30:54] WARNING: /workspace/src/objective/regression_obj.cu:152: reg:linear is now deprecated in favor of reg:squarederror.\n",
      "Validation mse 209058957490814.88\n",
      "[01:30:55] WARNING: /workspace/src/objective/regression_obj.cu:152: reg:linear is now deprecated in favor of reg:squarederror.\n",
      "Validation mse 221432939118979.06\n",
      "[01:30:55] WARNING: /workspace/src/objective/regression_obj.cu:152: reg:linear is now deprecated in favor of reg:squarederror.\n",
      "Validation mse 223487970742870.47\n",
      "[01:30:57] WARNING: /workspace/src/objective/regression_obj.cu:152: reg:linear is now deprecated in favor of reg:squarederror.\n",
      "Validation mse 204189122062295.88\n",
      "[01:30:59] WARNING: /workspace/src/objective/regression_obj.cu:152: reg:linear is now deprecated in favor of reg:squarederror.\n",
      "Validation mse 208135699210667.2\n",
      "[01:31:09] WARNING: /workspace/src/objective/regression_obj.cu:152: reg:linear is now deprecated in favor of reg:squarederror.\n",
      "Validation mse 225041626406499.56\n",
      "[01:31:13] WARNING: /workspace/src/objective/regression_obj.cu:152: reg:linear is now deprecated in favor of reg:squarederror.\n",
      "Validation mse 209053989070561.34\n",
      "[01:31:14] WARNING: /workspace/src/objective/regression_obj.cu:152: reg:linear is now deprecated in favor of reg:squarederror.\n",
      "Validation mse 2921270117213382.0\n",
      "[01:31:15] WARNING: /workspace/src/objective/regression_obj.cu:152: reg:linear is now deprecated in favor of reg:squarederror.\n",
      "Validation mse 799060873402775.8\n",
      "[01:31:15] WARNING: /workspace/src/objective/regression_obj.cu:152: reg:linear is now deprecated in favor of reg:squarederror.\n",
      "Validation mse 2935747702166659.0\n",
      "[01:31:16] WARNING: /workspace/src/objective/regression_obj.cu:152: reg:linear is now deprecated in favor of reg:squarederror.\n",
      "Validation mse 224363607932669.97\n",
      "[01:31:16] WARNING: /workspace/src/objective/regression_obj.cu:152: reg:linear is now deprecated in favor of reg:squarederror.\n",
      "Validation mse 798919543187342.2\n"
     ],
     "name": "stdout"
    },
    {
     "output_type": "display_data",
     "data": {
      "image/png": "[encoded data removed]",
      "text/plain": [
       "<Figure size 640x480 with 1 Axes>"
      ]
     },
     "metadata": {
      "tags": []
     }
    }
   ]
  },
  {
   "cell_type": "code",
   "metadata": {
    "id": "e2RowuFECQn_",
    "colab": {
     "base_uri": "https://localhost:8080/"
    },
    "outputId": "1e24089e-db41-4a0c-b6c2-7f13b36b073f"
   },
   "source": [
    "#Find the best parameters\n",
    "opt.best_paras()"
   ],
   "execution_count": 13,
   "outputs": [
    {
     "output_type": "execute_result",
     "data": {
      "text/plain": [
       "{'booster': 'dart',\n",
       " 'learning_rate': 0.005,\n",
       " 'max_depth': 4,\n",
       " 'n_estimators': 1800}"
      ]
     },
     "metadata": {
      "tags": []
     },
     "execution_count": 13
    }
   ]
  },
  {
   "cell_type": "code",
   "metadata": {
    "id": "dVUWw6ylCQn_",
    "colab": {
     "base_uri": "https://localhost:8080/",
     "height": 781
    },
    "outputId": "ad718674-0e83-4291-ce74-798578abe853"
   },
   "source": [
    "# make prediction using best parameters.\n",
    "opt.predict(**opt.best_paras())"
   ],
   "execution_count": 14,
   "outputs": [
    {
     "output_type": "stream",
     "text": [
      "building ML based model for regression problem\n",
      "\n",
      "********** Removing Samples with nan labels  **********\n",
      "\n",
      "input_x shape:  (152, 13)\n",
      "prev_y shape:  (152, 1)\n",
      "target shape:  (152,)\n",
      "[01:31:27] WARNING: /workspace/src/objective/regression_obj.cu:152: reg:linear is now deprecated in favor of reg:squarederror.\n",
      "\n",
      "********** Removing Samples with nan labels  **********\n",
      "\n",
      "input_x shape:  (66, 13)\n",
      "prev_y shape:  (66, 1)\n",
      "target shape:  (66,)\n",
      "Validation mse 198315613831502.25\n"
     ],
     "name": "stdout"
    },
    {
     "output_type": "execute_result",
     "data": {
      "text/plain": [
       "198315613831502.25"
      ]
     },
     "metadata": {
      "tags": []
     },
     "execution_count": 14
    },
    {
     "output_type": "display_data",
     "data": {
      "image/png": "[encoded data removed]",
      "text/plain": [
       "<Figure size 640x480 with 1 Axes>"
      ]
     },
     "metadata": {
      "tags": []
     }
    }
   ]
  },
  {
   "cell_type": "markdown",
   "metadata": {
    "id": "ouXyeu7vCQn_"
   },
   "source": [
    "# Bayesian\n",
    "Now we optimize the same parameters with `Bayesian` optimization. Under the hood, we use [`gp_minimize`](https://scikit-optimize.github.io/stable/modules/generated/skopt.gp_minimize.html#skopt.gp_minimize) function of [`skopt`](https://scikit-optimize.github.io/stable/index.html).\n",
    "\n",
    "We first need to define the parameter space. But since we are going to use skopt, we need to define the parameter space \n",
    "using space classes available from skopt. The parameter space can be [`Integer`](https://scikit-optimize.github.io/stable/modules/generated/skopt.space.space.Integer.html#skopt.space.space.Integer), [`Real`](https://scikit-optimize.github.io/stable/modules/generated/skopt.space.space.Real.html#skopt.space.space.Real) or [`Categorical`](https://scikit-optimize.github.io/stable/modules/generated/skopt.space.space.Categorical.html#skopt.space.space.Categorical) depending upon the parameter."
   ]
  },
  {
   "cell_type": "code",
   "metadata": {
    "id": "x_t1VKoHCQn_"
   },
   "source": [
    "dims = [Integer(low=1000, high=2000, name='n_estimators'),\n",
    "        Integer(low=3, high=6, name='max_depth'),\n",
    "        Real(low=1e-5, high=0.1, name='learning_rate'),\n",
    "        Categorical(categories=[\"gbtree\", \"dart\"], name=\"booster\")\n",
    "        ]"
   ],
   "execution_count": 15,
   "outputs": []
  },
  {
   "cell_type": "markdown",
   "metadata": {
    "id": "b5Rf_9YOCQn_"
   },
   "source": [
    "We need to initiate the `HyperOpt` class same as above. All the additional parameters which we want to pass `gp_minimize`\n",
    "can be passed to `HyperOpt` class. Finally we use `fit` method to start optimization. "
   ]
  },
  {
   "cell_type": "code",
   "metadata": {
    "id": "UikHDYEoCQn_",
    "colab": {
     "base_uri": "https://localhost:8080/",
     "height": 1000
    },
    "outputId": "78104fa1-7887-4021-b845-89a644d66e4f"
   },
   "source": [
    "opt = HyperOpt(\"bayes\",\n",
    "               param_space=dims,\n",
    "               ai4water_args=ai4water_args,\n",
    "               data=data,\n",
    "               n_calls=100,\n",
    "               x0=[1000, 3, 0.01, \"gbtree\"],\n",
    "               n_random_starts=3,  # the number of random initialization points\n",
    "               random_state=2\n",
    "               \n",
    "               )\n",
    "sr = opt.fit()"
   ],
   "execution_count": 16,
   "outputs": [
    {
     "output_type": "stream",
     "text": [
      "[01:31:36] WARNING: /workspace/src/objective/regression_obj.cu:152: reg:linear is now deprecated in favor of reg:squarederror.\n",
      "Validation mse 223365545248732.75\n",
      "[01:31:36] WARNING: /workspace/src/objective/regression_obj.cu:152: reg:linear is now deprecated in favor of reg:squarederror.\n",
      "Validation mse 209207524543274.25\n",
      "[01:31:38] WARNING: /workspace/src/objective/regression_obj.cu:152: reg:linear is now deprecated in favor of reg:squarederror.\n",
      "Validation mse 227795359167363.1\n",
      "[01:31:41] WARNING: /workspace/src/objective/regression_obj.cu:152: reg:linear is now deprecated in favor of reg:squarederror.\n",
      "Validation mse 206731415465148.03\n",
      "[01:31:41] WARNING: /workspace/src/objective/regression_obj.cu:152: reg:linear is now deprecated in favor of reg:squarederror.\n",
      "Validation mse 199923544602788.25\n",
      "[01:31:42] WARNING: /workspace/src/objective/regression_obj.cu:152: reg:linear is now deprecated in favor of reg:squarederror.\n",
      "Validation mse 214117953523963.03\n"
     ],
     "name": "stdout"
    },
    {
     "output_type": "stream",
     "text": [
      "/usr/local/lib/python3.7/dist-packages/skopt/optimizer/optimizer.py:449: UserWarning:\n",
      "\n",
      "The objective has been evaluated at this point before.\n",
      "\n"
     ],
     "name": "stderr"
    },
    {
     "output_type": "stream",
     "text": [
      "[01:31:42] WARNING: /workspace/src/objective/regression_obj.cu:152: reg:linear is now deprecated in favor of reg:squarederror.\n",
      "Validation mse 199923544602788.25\n",
      "[01:31:43] WARNING: /workspace/src/objective/regression_obj.cu:152: reg:linear is now deprecated in favor of reg:squarederror.\n",
      "Validation mse 199714618664326.6\n",
      "[01:31:43] WARNING: /workspace/src/objective/regression_obj.cu:152: reg:linear is now deprecated in favor of reg:squarederror.\n",
      "Validation mse 202793183992067.12\n",
      "[01:31:44] WARNING: /workspace/src/objective/regression_obj.cu:152: reg:linear is now deprecated in favor of reg:squarederror.\n",
      "Validation mse 209787680109102.25\n",
      "[01:31:44] WARNING: /workspace/src/objective/regression_obj.cu:152: reg:linear is now deprecated in favor of reg:squarederror.\n",
      "Validation mse 204334156557214.2\n",
      "[01:31:45] WARNING: /workspace/src/objective/regression_obj.cu:152: reg:linear is now deprecated in favor of reg:squarederror.\n",
      "Validation mse 209429873275685.16\n",
      "[01:31:46] WARNING: /workspace/src/objective/regression_obj.cu:152: reg:linear is now deprecated in favor of reg:squarederror.\n",
      "Validation mse 203274469423988.72\n",
      "[01:31:46] WARNING: /workspace/src/objective/regression_obj.cu:152: reg:linear is now deprecated in favor of reg:squarederror.\n",
      "Validation mse 199113167908001.38\n",
      "[01:31:47] WARNING: /workspace/src/objective/regression_obj.cu:152: reg:linear is now deprecated in favor of reg:squarederror.\n",
      "Validation mse 199108377064905.34\n",
      "[01:31:47] WARNING: /workspace/src/objective/regression_obj.cu:152: reg:linear is now deprecated in favor of reg:squarederror.\n",
      "Validation mse 208906753007011.7\n",
      "[01:31:48] WARNING: /workspace/src/objective/regression_obj.cu:152: reg:linear is now deprecated in favor of reg:squarederror.\n",
      "Validation mse 209986046203730.4\n",
      "[01:31:48] WARNING: /workspace/src/objective/regression_obj.cu:152: reg:linear is now deprecated in favor of reg:squarederror.\n",
      "Validation mse 201512904402789.3\n",
      "[01:31:49] WARNING: /workspace/src/objective/regression_obj.cu:152: reg:linear is now deprecated in favor of reg:squarederror.\n",
      "Validation mse 199487093232655.8\n",
      "[01:31:50] WARNING: /workspace/src/objective/regression_obj.cu:152: reg:linear is now deprecated in favor of reg:squarederror.\n",
      "Validation mse 199983827109152.62\n",
      "[01:31:51] WARNING: /workspace/src/objective/regression_obj.cu:152: reg:linear is now deprecated in favor of reg:squarederror.\n",
      "Validation mse 199985834558023.28\n",
      "[01:31:51] WARNING: /workspace/src/objective/regression_obj.cu:152: reg:linear is now deprecated in favor of reg:squarederror.\n",
      "Validation mse 199986147765313.88\n",
      "[01:31:52] WARNING: /workspace/src/objective/regression_obj.cu:152: reg:linear is now deprecated in favor of reg:squarederror.\n",
      "Validation mse 199985840435833.84\n",
      "[01:31:53] WARNING: /workspace/src/objective/regression_obj.cu:152: reg:linear is now deprecated in favor of reg:squarederror.\n",
      "Validation mse 199985000957532.66\n",
      "[01:31:53] WARNING: /workspace/src/objective/regression_obj.cu:152: reg:linear is now deprecated in favor of reg:squarederror.\n",
      "Validation mse 199983546699052.72\n",
      "[01:31:54] WARNING: /workspace/src/objective/regression_obj.cu:152: reg:linear is now deprecated in favor of reg:squarederror.\n",
      "Validation mse 199982257220561.84\n",
      "[01:31:55] WARNING: /workspace/src/objective/regression_obj.cu:152: reg:linear is now deprecated in favor of reg:squarederror.\n",
      "Validation mse 199622213193915.78\n",
      "[01:31:56] WARNING: /workspace/src/objective/regression_obj.cu:152: reg:linear is now deprecated in favor of reg:squarederror.\n",
      "Validation mse 199620771077893.03\n",
      "[01:31:56] WARNING: /workspace/src/objective/regression_obj.cu:152: reg:linear is now deprecated in favor of reg:squarederror.\n",
      "Validation mse 199619648821104.28\n",
      "[01:31:57] WARNING: /workspace/src/objective/regression_obj.cu:152: reg:linear is now deprecated in favor of reg:squarederror.\n",
      "Validation mse 199618530313719.88\n",
      "[01:31:58] WARNING: /workspace/src/objective/regression_obj.cu:152: reg:linear is now deprecated in favor of reg:squarederror.\n",
      "Validation mse 199617539526318.5\n",
      "[01:31:59] WARNING: /workspace/src/objective/regression_obj.cu:152: reg:linear is now deprecated in favor of reg:squarederror.\n",
      "Validation mse 199616449129601.5\n",
      "[01:31:59] WARNING: /workspace/src/objective/regression_obj.cu:152: reg:linear is now deprecated in favor of reg:squarederror.\n",
      "Validation mse 199615501639007.0\n",
      "[01:32:00] WARNING: /workspace/src/objective/regression_obj.cu:152: reg:linear is now deprecated in favor of reg:squarederror.\n",
      "Validation mse 199614609989953.03\n",
      "[01:32:01] WARNING: /workspace/src/objective/regression_obj.cu:152: reg:linear is now deprecated in favor of reg:squarederror.\n",
      "Validation mse 199488656058844.25\n",
      "[01:32:02] WARNING: /workspace/src/objective/regression_obj.cu:152: reg:linear is now deprecated in favor of reg:squarederror.\n",
      "Validation mse 199487769357594.88\n",
      "[01:32:03] WARNING: /workspace/src/objective/regression_obj.cu:152: reg:linear is now deprecated in favor of reg:squarederror.\n",
      "Validation mse 199486979502803.72\n",
      "[01:32:04] WARNING: /workspace/src/objective/regression_obj.cu:152: reg:linear is now deprecated in favor of reg:squarederror.\n",
      "Validation mse 198768491164024.97\n",
      "[01:32:05] WARNING: /workspace/src/objective/regression_obj.cu:152: reg:linear is now deprecated in favor of reg:squarederror.\n",
      "Validation mse 198767425836041.62\n",
      "[01:32:06] WARNING: /workspace/src/objective/regression_obj.cu:152: reg:linear is now deprecated in favor of reg:squarederror.\n",
      "Validation mse 198766542277305.6\n",
      "[01:32:07] WARNING: /workspace/src/objective/regression_obj.cu:152: reg:linear is now deprecated in favor of reg:squarederror.\n",
      "Validation mse 198765684922049.28\n",
      "[01:32:08] WARNING: /workspace/src/objective/regression_obj.cu:152: reg:linear is now deprecated in favor of reg:squarederror.\n",
      "Validation mse 198765011150660.06\n",
      "[01:32:09] WARNING: /workspace/src/objective/regression_obj.cu:152: reg:linear is now deprecated in favor of reg:squarederror.\n",
      "Validation mse 198764040862533.62\n",
      "[01:32:10] WARNING: /workspace/src/objective/regression_obj.cu:152: reg:linear is now deprecated in favor of reg:squarederror.\n",
      "Validation mse 198763300059316.47\n",
      "[01:32:11] WARNING: /workspace/src/objective/regression_obj.cu:152: reg:linear is now deprecated in favor of reg:squarederror.\n",
      "Validation mse 198762618725904.38\n",
      "[01:32:12] WARNING: /workspace/src/objective/regression_obj.cu:152: reg:linear is now deprecated in favor of reg:squarederror.\n",
      "Validation mse 198761578698099.2\n",
      "[01:32:13] WARNING: /workspace/src/objective/regression_obj.cu:152: reg:linear is now deprecated in favor of reg:squarederror.\n",
      "Validation mse 198760967314262.6\n",
      "[01:32:14] WARNING: /workspace/src/objective/regression_obj.cu:152: reg:linear is now deprecated in favor of reg:squarederror.\n",
      "Validation mse 198760166343036.8\n",
      "[01:32:15] WARNING: /workspace/src/objective/regression_obj.cu:152: reg:linear is now deprecated in favor of reg:squarederror.\n",
      "Validation mse 198759452259005.72\n",
      "[01:32:16] WARNING: /workspace/src/objective/regression_obj.cu:152: reg:linear is now deprecated in favor of reg:squarederror.\n",
      "Validation mse 198758690712909.62\n",
      "[01:32:17] WARNING: /workspace/src/objective/regression_obj.cu:152: reg:linear is now deprecated in favor of reg:squarederror.\n",
      "Validation mse 198757995184912.72\n",
      "[01:32:18] WARNING: /workspace/src/objective/regression_obj.cu:152: reg:linear is now deprecated in favor of reg:squarederror.\n",
      "Validation mse 198757231887044.06\n",
      "[01:32:19] WARNING: /workspace/src/objective/regression_obj.cu:152: reg:linear is now deprecated in favor of reg:squarederror.\n",
      "Validation mse 198756315239989.84\n",
      "[01:32:20] WARNING: /workspace/src/objective/regression_obj.cu:152: reg:linear is now deprecated in favor of reg:squarederror.\n",
      "Validation mse 198755758497705.78\n",
      "[01:32:21] WARNING: /workspace/src/objective/regression_obj.cu:152: reg:linear is now deprecated in favor of reg:squarederror.\n",
      "Validation mse 198755119393059.0\n",
      "[01:32:22] WARNING: /workspace/src/objective/regression_obj.cu:152: reg:linear is now deprecated in favor of reg:squarederror.\n",
      "Validation mse 198754358933600.25\n",
      "[01:32:23] WARNING: /workspace/src/objective/regression_obj.cu:152: reg:linear is now deprecated in favor of reg:squarederror.\n",
      "Validation mse 198753716381366.2\n",
      "[01:32:24] WARNING: /workspace/src/objective/regression_obj.cu:152: reg:linear is now deprecated in favor of reg:squarederror.\n",
      "Validation mse 200025035333949.97\n",
      "[01:32:25] WARNING: /workspace/src/objective/regression_obj.cu:152: reg:linear is now deprecated in favor of reg:squarederror.\n",
      "Validation mse 200024807767376.3\n",
      "[01:32:27] WARNING: /workspace/src/objective/regression_obj.cu:152: reg:linear is now deprecated in favor of reg:squarederror.\n",
      "Validation mse 200024527577454.78\n",
      "[01:32:28] WARNING: /workspace/src/objective/regression_obj.cu:152: reg:linear is now deprecated in favor of reg:squarederror.\n",
      "Validation mse 210165890579023.7\n",
      "[01:32:29] WARNING: /workspace/src/objective/regression_obj.cu:152: reg:linear is now deprecated in favor of reg:squarederror.\n",
      "Validation mse 200025309907760.0\n",
      "[01:32:30] WARNING: /workspace/src/objective/regression_obj.cu:152: reg:linear is now deprecated in favor of reg:squarederror.\n",
      "Validation mse 200025055604449.7\n",
      "[01:32:31] WARNING: /workspace/src/objective/regression_obj.cu:152: reg:linear is now deprecated in favor of reg:squarederror.\n",
      "Validation mse 200024833248009.12\n",
      "[01:32:32] WARNING: /workspace/src/objective/regression_obj.cu:152: reg:linear is now deprecated in favor of reg:squarederror.\n",
      "Validation mse 200024517977471.8\n",
      "[01:32:34] WARNING: /workspace/src/objective/regression_obj.cu:152: reg:linear is now deprecated in favor of reg:squarederror.\n",
      "Validation mse 200024296442558.56\n",
      "[01:32:35] WARNING: /workspace/src/objective/regression_obj.cu:152: reg:linear is now deprecated in favor of reg:squarederror.\n",
      "Validation mse 200024118544563.84\n",
      "[01:32:36] WARNING: /workspace/src/objective/regression_obj.cu:152: reg:linear is now deprecated in favor of reg:squarederror.\n",
      "Validation mse 200023756367000.3\n",
      "[01:32:37] WARNING: /workspace/src/objective/regression_obj.cu:152: reg:linear is now deprecated in favor of reg:squarederror.\n",
      "Validation mse 200023407719912.16\n",
      "[01:32:38] WARNING: /workspace/src/objective/regression_obj.cu:152: reg:linear is now deprecated in favor of reg:squarederror.\n",
      "Validation mse 200023383651007.44\n",
      "[01:32:39] WARNING: /workspace/src/objective/regression_obj.cu:152: reg:linear is now deprecated in favor of reg:squarederror.\n",
      "Validation mse 199305129289184.34\n",
      "[01:32:40] WARNING: /workspace/src/objective/regression_obj.cu:152: reg:linear is now deprecated in favor of reg:squarederror.\n",
      "Validation mse 199304641187894.75\n",
      "[01:32:42] WARNING: /workspace/src/objective/regression_obj.cu:152: reg:linear is now deprecated in favor of reg:squarederror.\n",
      "Validation mse 199125790902567.22\n",
      "[01:32:43] WARNING: /workspace/src/objective/regression_obj.cu:152: reg:linear is now deprecated in favor of reg:squarederror.\n",
      "Validation mse 199125349712444.38\n",
      "[01:32:44] WARNING: /workspace/src/objective/regression_obj.cu:152: reg:linear is now deprecated in favor of reg:squarederror.\n",
      "Validation mse 199124927054786.5\n",
      "[01:32:45] WARNING: /workspace/src/objective/regression_obj.cu:152: reg:linear is now deprecated in favor of reg:squarederror.\n",
      "Validation mse 199124437856438.53\n",
      "[01:32:46] WARNING: /workspace/src/objective/regression_obj.cu:152: reg:linear is now deprecated in favor of reg:squarederror.\n",
      "Validation mse 199123853058266.28\n",
      "[01:32:47] WARNING: /workspace/src/objective/regression_obj.cu:152: reg:linear is now deprecated in favor of reg:squarederror.\n",
      "Validation mse 199123503843427.28\n",
      "[01:32:48] WARNING: /workspace/src/objective/regression_obj.cu:152: reg:linear is now deprecated in favor of reg:squarederror.\n",
      "Validation mse 199206410189871.6\n",
      "[01:32:49] WARNING: /workspace/src/objective/regression_obj.cu:152: reg:linear is now deprecated in favor of reg:squarederror.\n",
      "Validation mse 199117783287028.72\n",
      "[01:32:51] WARNING: /workspace/src/objective/regression_obj.cu:152: reg:linear is now deprecated in favor of reg:squarederror.\n",
      "Validation mse 199117395647266.4\n",
      "[01:32:52] WARNING: /workspace/src/objective/regression_obj.cu:152: reg:linear is now deprecated in favor of reg:squarederror.\n",
      "Validation mse 199116926286253.97\n",
      "[01:32:53] WARNING: /workspace/src/objective/regression_obj.cu:152: reg:linear is now deprecated in favor of reg:squarederror.\n",
      "Validation mse 199116463062436.5\n",
      "[01:32:54] WARNING: /workspace/src/objective/regression_obj.cu:152: reg:linear is now deprecated in favor of reg:squarederror.\n",
      "Validation mse 199116092795001.44\n",
      "[01:32:55] WARNING: /workspace/src/objective/regression_obj.cu:152: reg:linear is now deprecated in favor of reg:squarederror.\n",
      "Validation mse 199115564670627.44\n",
      "[01:32:57] WARNING: /workspace/src/objective/regression_obj.cu:152: reg:linear is now deprecated in favor of reg:squarederror.\n",
      "Validation mse 199115172291697.16\n",
      "[01:32:58] WARNING: /workspace/src/objective/regression_obj.cu:152: reg:linear is now deprecated in favor of reg:squarederror.\n",
      "Validation mse 199114704226464.3\n",
      "[01:32:59] WARNING: /workspace/src/objective/regression_obj.cu:152: reg:linear is now deprecated in favor of reg:squarederror.\n",
      "Validation mse 199114372345364.34\n",
      "[01:33:00] WARNING: /workspace/src/objective/regression_obj.cu:152: reg:linear is now deprecated in favor of reg:squarederror.\n",
      "Validation mse 199113806908868.62\n",
      "[01:33:02] WARNING: /workspace/src/objective/regression_obj.cu:152: reg:linear is now deprecated in favor of reg:squarederror.\n",
      "Validation mse 199113447443861.4\n",
      "[01:33:03] WARNING: /workspace/src/objective/regression_obj.cu:152: reg:linear is now deprecated in favor of reg:squarederror.\n",
      "Validation mse 199112941233499.5\n",
      "[01:33:04] WARNING: /workspace/src/objective/regression_obj.cu:152: reg:linear is now deprecated in favor of reg:squarederror.\n",
      "Validation mse 199112585222912.94\n",
      "[01:33:06] WARNING: /workspace/src/objective/regression_obj.cu:152: reg:linear is now deprecated in favor of reg:squarederror.\n",
      "Validation mse 199112155057387.2\n",
      "[01:33:07] WARNING: /workspace/src/objective/regression_obj.cu:152: reg:linear is now deprecated in favor of reg:squarederror.\n",
      "Validation mse 199111818831176.75\n",
      "[01:33:09] WARNING: /workspace/src/objective/regression_obj.cu:152: reg:linear is now deprecated in favor of reg:squarederror.\n",
      "Validation mse 199111265170521.9\n",
      "[01:33:10] WARNING: /workspace/src/objective/regression_obj.cu:152: reg:linear is now deprecated in favor of reg:squarederror.\n",
      "Validation mse 199110809280901.0\n",
      "[01:33:12] WARNING: /workspace/src/objective/regression_obj.cu:152: reg:linear is now deprecated in favor of reg:squarederror.\n",
      "Validation mse 199110405796960.5\n",
      "[01:33:13] WARNING: /workspace/src/objective/regression_obj.cu:152: reg:linear is now deprecated in favor of reg:squarederror.\n",
      "Validation mse 199109949379720.44\n",
      "[01:33:15] WARNING: /workspace/src/objective/regression_obj.cu:152: reg:linear is now deprecated in favor of reg:squarederror.\n",
      "Validation mse 199109556178910.78\n",
      "[01:33:16] WARNING: /workspace/src/objective/regression_obj.cu:152: reg:linear is now deprecated in favor of reg:squarederror.\n",
      "Validation mse 199109157927060.94\n",
      "could not pickle results\n"
     ],
     "name": "stdout"
    },
    {
     "output_type": "display_data",
     "data": {
      "image/png": "[encoded data removed]",
      "text/plain": [
       "<Figure size 640x480 with 1 Axes>"
      ]
     },
     "metadata": {
      "tags": []
     }
    }
   ]
  },
  {
   "cell_type": "markdown",
   "metadata": {
    "id": "GK6PcsQmCQn_"
   },
   "source": [
    "# Bayesian with LSTM model"
   ]
  },
  {
   "cell_type": "markdown",
   "metadata": {
    "id": "Pr9KxbZYCQn_"
   },
   "source": [
    "Now we build and [`LSTM`](https://www.tensorflow.org/api_docs/python/tf/keras/layers/LSTM) based model and optimize its parameters with Bayesian optimization method. The `layers` dictionary is used to define the structure of the neural network. "
   ]
  },
  {
   "cell_type": "code",
   "metadata": {
    "id": "3ke1YlfjCQn_"
   },
   "source": [
    "layers = {\n",
    "    \"LSTM\": {\"config\": {\"units\": 64}},\n",
    "    \"Dense\": {\"config\": {\"units\": 1, \"activation\": \"relu\"}},\n",
    "    \"Reshape\": {\"config\": {\"target_shape\": (1,1)}}\n",
    "}\n",
    "\n",
    "dl4seq_args = {\"input_features\": inputs,\n",
    "               \"output_features\": outputs,\n",
    "               \"lookback\": 4,\n",
    "               \"val_data\": \"same\",\n",
    "               \"test_fraction\": 0.3,\n",
    "               \"model\": {'layers': layers},\n",
    "               'train_data':'random',\n",
    "               \"epochs\": 500\n",
    "               }\n",
    "# make model args\n",
    "\n",
    "#initiate the mdoel\n",
    "model = Model(data=data, verbosity=0, **dl4seq_args)"
   ],
   "execution_count": 17,
   "outputs": []
  },
  {
   "cell_type": "markdown",
   "metadata": {
    "id": "xEJAMpQSCQn_"
   },
   "source": [
    "train the model while randomly splitting train and test data."
   ]
  },
  {
   "cell_type": "code",
   "metadata": {
    "id": "eygHF2n-CQn_",
    "colab": {
     "base_uri": "https://localhost:8080/"
    },
    "outputId": "1705f2e4-b454-47d8-f5e2-2e46e24daaaa"
   },
   "source": [
    "history = model.fit()"
   ],
   "execution_count": 18,
   "outputs": [
    {
     "output_type": "stream",
     "text": [
      "/usr/local/lib/python3.7/dist-packages/AI4Water/main.py:516: UserWarning:\n",
      "\n",
      "lookback is 4, due to which first 4 nan\n",
      "                                          containing values were skipped from start. This may lead to some wrong examples\n",
      "                                          at the start or an offset of 1 in indices.\n",
      "\n",
      "/usr/local/lib/python3.7/dist-packages/AI4Water/main.py:1237: UserWarning:\n",
      "\n",
      "Setting val_fraction from 0.2 to 0.0\n",
      "\n",
      "/usr/local/lib/python3.7/dist-packages/AI4Water/main.py:516: UserWarning:\n",
      "\n",
      "lookback is 4, due to which first 4 nan\n",
      "                                          containing values were skipped from start. This may lead to some wrong examples\n",
      "                                          at the start or an offset of 1 in indices.\n",
      "\n"
     ],
     "name": "stderr"
    }
   ]
  },
  {
   "cell_type": "code",
   "metadata": {
    "id": "pYz6W2e8CQn_",
    "colab": {
     "base_uri": "https://localhost:8080/"
    },
    "outputId": "a3a00858-d019-4015-e0c5-2e46aa73d04b"
   },
   "source": [
    "# The minimum validation loss acheived during training\n",
    "np.min(history.history['val_loss'])"
   ],
   "execution_count": 19,
   "outputs": [
    {
     "output_type": "execute_result",
     "data": {
      "text/plain": [
       "0.001263727666810155"
      ]
     },
     "metadata": {
      "tags": []
     },
     "execution_count": 19
    }
   ]
  },
  {
   "cell_type": "code",
   "metadata": {
    "id": "OCCNQGHNCQn_",
    "colab": {
     "base_uri": "https://localhost:8080/",
     "height": 596
    },
    "outputId": "e24a1615-d42b-43e2-a1f6-6a9b7e2a886c"
   },
   "source": [
    "# Perfomance on validation data\n",
    "t,p = model.predict(indices=model.test_indices)"
   ],
   "execution_count": 20,
   "outputs": [
    {
     "output_type": "stream",
     "text": [
      "/usr/local/lib/python3.7/dist-packages/AI4Water/main.py:516: UserWarning:\n",
      "\n",
      "lookback is 4, due to which first 4 nan\n",
      "                                          containing values were skipped from start. This may lead to some wrong examples\n",
      "                                          at the start or an offset of 1 in indices.\n",
      "\n"
     ],
     "name": "stderr"
    },
    {
     "output_type": "display_data",
     "data": {
      "image/png": "[encoded data removed]",
      "text/plain": [
       "<Figure size 640x480 with 1 Axes>"
      ]
     },
     "metadata": {
      "tags": []
     }
    }
   ]
  },
  {
   "cell_type": "markdown",
   "metadata": {
    "id": "ZPfR-M0fCQn_"
   },
   "source": [
    "Now in order to optimize the parameters define parameter space for the parameters to be optimized"
   ]
  },
  {
   "cell_type": "code",
   "metadata": {
    "id": "miZzrbMlCQn_"
   },
   "source": [
    "from ai4water.hyper_opt import Real, Categorical, Integer\n",
    "\n",
    "dims = [Categorical([32, 64, 128, 256], name='lstm_units'),\n",
    "        Integer(low=3, high=12, name='lookback'),\n",
    "        Real(low=1e-5, high=0.01, name='learning_rate'),\n",
    "        Categorical(categories=[8, 12, 16, 24, 32], name=\"batch_size\"),\n",
    "        Categorical(categories=[\"relu\", \"elu\", \"leakyrelu\"], name=\"dense_actfn\")\n",
    "        ]"
   ],
   "execution_count": 25,
   "outputs": []
  },
  {
   "cell_type": "markdown",
   "metadata": {
    "id": "E0wLpBDkCQn_"
   },
   "source": [
    "Define objective function. The parameters to be optimized (which have been declared above) will be in kwargs. We can use them in our objective function as we like."
   ]
  },
  {
   "cell_type": "code",
   "metadata": {
    "id": "jdTGH3D2CQn_"
   },
   "source": [
    "def objective_fn(return_model=False,\n",
    "                 title=\"bayes\", # This will make sure that all optimization results will be stored in a single folder\n",
    "                 **kwargs):\n",
    "\n",
    "    layers = {\n",
    "        \"LSTM\": {\"config\": {\"units\": int(kwargs[\"lstm_units\"])}},\n",
    "        \"Dense\": {\"config\": {\"units\": 1, \"activation\": kwargs[\"dense_actfn\"]}},\n",
    "        \"Reshape\": {\"config\": {\"target_shape\": (1,1)}}\n",
    "    }\n",
    "\n",
    "    model = Model(\n",
    "                data=data,\n",
    "                prefix=title,\n",
    "                verbosity=0,\n",
    "                input_features=inputs,\n",
    "                output_features=outputs,\n",
    "                lookback=int(kwargs[\"lookback\"]),\n",
    "                val_data=\"same\",\n",
    "                val_fraction=0.0,\n",
    "                test_fraction=0.3,\n",
    "                model={'layers':layers},\n",
    "                batch_size=int(kwargs[\"batch_size\"]),\n",
    "                lr=float(kwargs[\"learning_rate\"]),\n",
    "                train_data='random',\n",
    "                epochs=500\n",
    "                  )\n",
    "\n",
    "    history = model.fit()\n",
    "\n",
    "    mse = np.min(history.history['val_loss'])\n",
    "    print(f\"Validation mse {mse}\")\n",
    "\n",
    "    if return_model:\n",
    "        return model\n",
    "    return mse"
   ],
   "execution_count": 26,
   "outputs": []
  },
  {
   "cell_type": "markdown",
   "metadata": {
    "id": "sPprkMu4CQn_"
   },
   "source": [
    "Initiatialize optimization problem. Since we are using the external function/model and not `AI4Water`, we need to provide \n",
    "the objective function/model/function as keyword argument `model`. The remaming parameters are same as above and they \n",
    "which will be passed to [`gp_minimize`](https://scikit-optimize.github.io/stable/modules/generated/skopt.gp_minimize.html#skopt.gp_minimize)."
   ]
  },
  {
   "cell_type": "code",
   "metadata": {
    "id": "rdpTqOkJCQn_"
   },
   "source": [
    "opt = HyperOpt(\"bayes\",\n",
    "               objective_fn=objective_fn,\n",
    "               param_space=dims,\n",
    "               acq_func='EI',  # Expected Improvement.\n",
    "               n_calls=50,     #number of iterations\n",
    "               # acq_optimizer='auto',\n",
    "               x0=[32, 5, 0.001, 8, \"relu\"],  # inital value of optimizing parameters\n",
    "               n_random_starts=3,  # the number of random initialization points\n",
    "               random_state=2\n",
    "               )"
   ],
   "execution_count": 27,
   "outputs": []
  },
  {
   "cell_type": "markdown",
   "metadata": {
    "id": "RFIQFgITCQn_"
   },
   "source": [
    "Start optimization"
   ]
  },
  {
   "cell_type": "code",
   "metadata": {
    "id": "6X6pwj8mCQn_",
    "colab": {
     "base_uri": "https://localhost:8080/"
    },
    "outputId": "a1d81102-4a74-473d-f344-af30cdd94cda"
   },
   "source": [
    "opt_results = opt.fit()"
   ],
   "execution_count": 28,
   "outputs": [
    {
     "output_type": "stream",
     "text": [
      "/usr/local/lib/python3.7/dist-packages/AI4Water/main.py:516: UserWarning:\n",
      "\n",
      "lookback is 5, due to which first 5 nan\n",
      "                                          containing values were skipped from start. This may lead to some wrong examples\n",
      "                                          at the start or an offset of 1 in indices.\n",
      "\n",
      "/usr/local/lib/python3.7/dist-packages/AI4Water/main.py:516: UserWarning:\n",
      "\n",
      "lookback is 5, due to which first 5 nan\n",
      "                                          containing values were skipped from start. This may lead to some wrong examples\n",
      "                                          at the start or an offset of 1 in indices.\n",
      "\n"
     ],
     "name": "stderr"
    },
    {
     "output_type": "stream",
     "text": [
      "Validation mse 0.001263727666810155\n"
     ],
     "name": "stdout"
    },
    {
     "output_type": "stream",
     "text": [
      "/usr/local/lib/python3.7/dist-packages/AI4Water/main.py:516: UserWarning:\n",
      "\n",
      "lookback is 11, due to which first 11 nan\n",
      "                                          containing values were skipped from start. This may lead to some wrong examples\n",
      "                                          at the start or an offset of 1 in indices.\n",
      "\n",
      "/usr/local/lib/python3.7/dist-packages/AI4Water/main.py:516: UserWarning:\n",
      "\n",
      "lookback is 11, due to which first 11 nan\n",
      "                                          containing values were skipped from start. This may lead to some wrong examples\n",
      "                                          at the start or an offset of 1 in indices.\n",
      "\n"
     ],
     "name": "stderr"
    },
    {
     "output_type": "stream",
     "text": [
      "Validation mse 0.0005532537470571697\n"
     ],
     "name": "stdout"
    },
    {
     "output_type": "stream",
     "text": [
      "/usr/local/lib/python3.7/dist-packages/AI4Water/main.py:516: UserWarning:\n",
      "\n",
      "lookback is 9, due to which first 9 nan\n",
      "                                          containing values were skipped from start. This may lead to some wrong examples\n",
      "                                          at the start or an offset of 1 in indices.\n",
      "\n",
      "/usr/local/lib/python3.7/dist-packages/AI4Water/main.py:516: UserWarning:\n",
      "\n",
      "lookback is 9, due to which first 9 nan\n",
      "                                          containing values were skipped from start. This may lead to some wrong examples\n",
      "                                          at the start or an offset of 1 in indices.\n",
      "\n"
     ],
     "name": "stderr"
    },
    {
     "output_type": "stream",
     "text": [
      "Validation mse 0.001333659514784813\n"
     ],
     "name": "stdout"
    },
    {
     "output_type": "stream",
     "text": [
      "/usr/local/lib/python3.7/dist-packages/AI4Water/main.py:516: UserWarning:\n",
      "\n",
      "lookback is 9, due to which first 9 nan\n",
      "                                          containing values were skipped from start. This may lead to some wrong examples\n",
      "                                          at the start or an offset of 1 in indices.\n",
      "\n",
      "/usr/local/lib/python3.7/dist-packages/AI4Water/main.py:516: UserWarning:\n",
      "\n",
      "lookback is 9, due to which first 9 nan\n",
      "                                          containing values were skipped from start. This may lead to some wrong examples\n",
      "                                          at the start or an offset of 1 in indices.\n",
      "\n"
     ],
     "name": "stderr"
    },
    {
     "output_type": "stream",
     "text": [
      "Validation mse 0.0011187787167727947\n"
     ],
     "name": "stdout"
    },
    {
     "output_type": "stream",
     "text": [
      "/usr/local/lib/python3.7/dist-packages/AI4Water/main.py:516: UserWarning:\n",
      "\n",
      "lookback is 3, due to which first 3 nan\n",
      "                                          containing values were skipped from start. This may lead to some wrong examples\n",
      "                                          at the start or an offset of 1 in indices.\n",
      "\n",
      "/usr/local/lib/python3.7/dist-packages/AI4Water/main.py:516: UserWarning:\n",
      "\n",
      "lookback is 3, due to which first 3 nan\n",
      "                                          containing values were skipped from start. This may lead to some wrong examples\n",
      "                                          at the start or an offset of 1 in indices.\n",
      "\n"
     ],
     "name": "stderr"
    },
    {
     "output_type": "stream",
     "text": [
      "Validation mse 0.0009152145939879119\n"
     ],
     "name": "stdout"
    },
    {
     "output_type": "stream",
     "text": [
      "/usr/local/lib/python3.7/dist-packages/AI4Water/main.py:516: UserWarning:\n",
      "\n",
      "lookback is 12, due to which first 12 nan\n",
      "                                          containing values were skipped from start. This may lead to some wrong examples\n",
      "                                          at the start or an offset of 1 in indices.\n",
      "\n",
      "/usr/local/lib/python3.7/dist-packages/AI4Water/main.py:516: UserWarning:\n",
      "\n",
      "lookback is 12, due to which first 12 nan\n",
      "                                          containing values were skipped from start. This may lead to some wrong examples\n",
      "                                          at the start or an offset of 1 in indices.\n",
      "\n"
     ],
     "name": "stderr"
    },
    {
     "output_type": "stream",
     "text": [
      "Validation mse 0.001146889990195632\n"
     ],
     "name": "stdout"
    },
    {
     "output_type": "stream",
     "text": [
      "/usr/local/lib/python3.7/dist-packages/AI4Water/main.py:516: UserWarning:\n",
      "\n",
      "lookback is 3, due to which first 3 nan\n",
      "                                          containing values were skipped from start. This may lead to some wrong examples\n",
      "                                          at the start or an offset of 1 in indices.\n",
      "\n",
      "/usr/local/lib/python3.7/dist-packages/AI4Water/main.py:516: UserWarning:\n",
      "\n",
      "lookback is 3, due to which first 3 nan\n",
      "                                          containing values were skipped from start. This may lead to some wrong examples\n",
      "                                          at the start or an offset of 1 in indices.\n",
      "\n"
     ],
     "name": "stderr"
    },
    {
     "output_type": "stream",
     "text": [
      "Validation mse 0.001263727666810155\n"
     ],
     "name": "stdout"
    },
    {
     "output_type": "stream",
     "text": [
      "/usr/local/lib/python3.7/dist-packages/AI4Water/main.py:516: UserWarning:\n",
      "\n",
      "lookback is 12, due to which first 12 nan\n",
      "                                          containing values were skipped from start. This may lead to some wrong examples\n",
      "                                          at the start or an offset of 1 in indices.\n",
      "\n",
      "/usr/local/lib/python3.7/dist-packages/AI4Water/main.py:516: UserWarning:\n",
      "\n",
      "lookback is 12, due to which first 12 nan\n",
      "                                          containing values were skipped from start. This may lead to some wrong examples\n",
      "                                          at the start or an offset of 1 in indices.\n",
      "\n"
     ],
     "name": "stderr"
    },
    {
     "output_type": "stream",
     "text": [
      "Validation mse 0.0015670175198465586\n"
     ],
     "name": "stdout"
    },
    {
     "output_type": "stream",
     "text": [
      "/usr/local/lib/python3.7/dist-packages/AI4Water/main.py:516: UserWarning:\n",
      "\n",
      "lookback is 3, due to which first 3 nan\n",
      "                                          containing values were skipped from start. This may lead to some wrong examples\n",
      "                                          at the start or an offset of 1 in indices.\n",
      "\n",
      "/usr/local/lib/python3.7/dist-packages/AI4Water/main.py:516: UserWarning:\n",
      "\n",
      "lookback is 3, due to which first 3 nan\n",
      "                                          containing values were skipped from start. This may lead to some wrong examples\n",
      "                                          at the start or an offset of 1 in indices.\n",
      "\n"
     ],
     "name": "stderr"
    },
    {
     "output_type": "stream",
     "text": [
      "Validation mse 0.0010133569594472647\n"
     ],
     "name": "stdout"
    },
    {
     "output_type": "stream",
     "text": [
      "/usr/local/lib/python3.7/dist-packages/AI4Water/main.py:516: UserWarning:\n",
      "\n",
      "lookback is 3, due to which first 3 nan\n",
      "                                          containing values were skipped from start. This may lead to some wrong examples\n",
      "                                          at the start or an offset of 1 in indices.\n",
      "\n",
      "/usr/local/lib/python3.7/dist-packages/AI4Water/main.py:516: UserWarning:\n",
      "\n",
      "lookback is 3, due to which first 3 nan\n",
      "                                          containing values were skipped from start. This may lead to some wrong examples\n",
      "                                          at the start or an offset of 1 in indices.\n",
      "\n"
     ],
     "name": "stderr"
    },
    {
     "output_type": "stream",
     "text": [
      "Validation mse 0.0011640996672213078\n"
     ],
     "name": "stdout"
    },
    {
     "output_type": "stream",
     "text": [
      "/usr/local/lib/python3.7/dist-packages/AI4Water/main.py:516: UserWarning:\n",
      "\n",
      "lookback is 12, due to which first 12 nan\n",
      "                                          containing values were skipped from start. This may lead to some wrong examples\n",
      "                                          at the start or an offset of 1 in indices.\n",
      "\n",
      "/usr/local/lib/python3.7/dist-packages/AI4Water/main.py:516: UserWarning:\n",
      "\n",
      "lookback is 12, due to which first 12 nan\n",
      "                                          containing values were skipped from start. This may lead to some wrong examples\n",
      "                                          at the start or an offset of 1 in indices.\n",
      "\n"
     ],
     "name": "stderr"
    },
    {
     "output_type": "stream",
     "text": [
      "Validation mse 0.001263727666810155\n"
     ],
     "name": "stdout"
    },
    {
     "output_type": "stream",
     "text": [
      "/usr/local/lib/python3.7/dist-packages/AI4Water/main.py:516: UserWarning:\n",
      "\n",
      "lookback is 3, due to which first 3 nan\n",
      "                                          containing values were skipped from start. This may lead to some wrong examples\n",
      "                                          at the start or an offset of 1 in indices.\n",
      "\n",
      "/usr/local/lib/python3.7/dist-packages/AI4Water/main.py:516: UserWarning:\n",
      "\n",
      "lookback is 3, due to which first 3 nan\n",
      "                                          containing values were skipped from start. This may lead to some wrong examples\n",
      "                                          at the start or an offset of 1 in indices.\n",
      "\n"
     ],
     "name": "stderr"
    },
    {
     "output_type": "stream",
     "text": [
      "Validation mse 0.0011826105182990432\n"
     ],
     "name": "stdout"
    },
    {
     "output_type": "stream",
     "text": [
      "/usr/local/lib/python3.7/dist-packages/AI4Water/main.py:516: UserWarning:\n",
      "\n",
      "lookback is 12, due to which first 12 nan\n",
      "                                          containing values were skipped from start. This may lead to some wrong examples\n",
      "                                          at the start or an offset of 1 in indices.\n",
      "\n",
      "/usr/local/lib/python3.7/dist-packages/AI4Water/main.py:516: UserWarning:\n",
      "\n",
      "lookback is 12, due to which first 12 nan\n",
      "                                          containing values were skipped from start. This may lead to some wrong examples\n",
      "                                          at the start or an offset of 1 in indices.\n",
      "\n"
     ],
     "name": "stderr"
    },
    {
     "output_type": "stream",
     "text": [
      "Validation mse 0.0011584385065361857\n"
     ],
     "name": "stdout"
    },
    {
     "output_type": "stream",
     "text": [
      "/usr/local/lib/python3.7/dist-packages/AI4Water/main.py:516: UserWarning:\n",
      "\n",
      "lookback is 12, due to which first 12 nan\n",
      "                                          containing values were skipped from start. This may lead to some wrong examples\n",
      "                                          at the start or an offset of 1 in indices.\n",
      "\n",
      "/usr/local/lib/python3.7/dist-packages/AI4Water/main.py:516: UserWarning:\n",
      "\n",
      "lookback is 12, due to which first 12 nan\n",
      "                                          containing values were skipped from start. This may lead to some wrong examples\n",
      "                                          at the start or an offset of 1 in indices.\n",
      "\n"
     ],
     "name": "stderr"
    },
    {
     "output_type": "stream",
     "text": [
      "Validation mse 0.001263727666810155\n"
     ],
     "name": "stdout"
    },
    {
     "output_type": "stream",
     "text": [
      "/usr/local/lib/python3.7/dist-packages/AI4Water/main.py:516: UserWarning:\n",
      "\n",
      "lookback is 11, due to which first 11 nan\n",
      "                                          containing values were skipped from start. This may lead to some wrong examples\n",
      "                                          at the start or an offset of 1 in indices.\n",
      "\n",
      "/usr/local/lib/python3.7/dist-packages/AI4Water/main.py:516: UserWarning:\n",
      "\n",
      "lookback is 11, due to which first 11 nan\n",
      "                                          containing values were skipped from start. This may lead to some wrong examples\n",
      "                                          at the start or an offset of 1 in indices.\n",
      "\n"
     ],
     "name": "stderr"
    },
    {
     "output_type": "stream",
     "text": [
      "Validation mse 0.001263727666810155\n"
     ],
     "name": "stdout"
    },
    {
     "output_type": "stream",
     "text": [
      "/usr/local/lib/python3.7/dist-packages/AI4Water/main.py:516: UserWarning:\n",
      "\n",
      "lookback is 3, due to which first 3 nan\n",
      "                                          containing values were skipped from start. This may lead to some wrong examples\n",
      "                                          at the start or an offset of 1 in indices.\n",
      "\n",
      "/usr/local/lib/python3.7/dist-packages/AI4Water/main.py:516: UserWarning:\n",
      "\n",
      "lookback is 3, due to which first 3 nan\n",
      "                                          containing values were skipped from start. This may lead to some wrong examples\n",
      "                                          at the start or an offset of 1 in indices.\n",
      "\n"
     ],
     "name": "stderr"
    },
    {
     "output_type": "stream",
     "text": [
      "Validation mse 0.0011609848588705063\n"
     ],
     "name": "stdout"
    },
    {
     "output_type": "stream",
     "text": [
      "/usr/local/lib/python3.7/dist-packages/AI4Water/main.py:516: UserWarning:\n",
      "\n",
      "lookback is 3, due to which first 3 nan\n",
      "                                          containing values were skipped from start. This may lead to some wrong examples\n",
      "                                          at the start or an offset of 1 in indices.\n",
      "\n",
      "/usr/local/lib/python3.7/dist-packages/AI4Water/main.py:516: UserWarning:\n",
      "\n",
      "lookback is 3, due to which first 3 nan\n",
      "                                          containing values were skipped from start. This may lead to some wrong examples\n",
      "                                          at the start or an offset of 1 in indices.\n",
      "\n"
     ],
     "name": "stderr"
    },
    {
     "output_type": "stream",
     "text": [
      "Validation mse 0.0009964831406250596\n"
     ],
     "name": "stdout"
    },
    {
     "output_type": "stream",
     "text": [
      "/usr/local/lib/python3.7/dist-packages/AI4Water/main.py:516: UserWarning:\n",
      "\n",
      "lookback is 4, due to which first 4 nan\n",
      "                                          containing values were skipped from start. This may lead to some wrong examples\n",
      "                                          at the start or an offset of 1 in indices.\n",
      "\n",
      "/usr/local/lib/python3.7/dist-packages/AI4Water/main.py:516: UserWarning:\n",
      "\n",
      "lookback is 4, due to which first 4 nan\n",
      "                                          containing values were skipped from start. This may lead to some wrong examples\n",
      "                                          at the start or an offset of 1 in indices.\n",
      "\n"
     ],
     "name": "stderr"
    },
    {
     "output_type": "stream",
     "text": [
      "Validation mse 0.0010140358936041594\n"
     ],
     "name": "stdout"
    },
    {
     "output_type": "stream",
     "text": [
      "/usr/local/lib/python3.7/dist-packages/AI4Water/main.py:516: UserWarning:\n",
      "\n",
      "lookback is 12, due to which first 12 nan\n",
      "                                          containing values were skipped from start. This may lead to some wrong examples\n",
      "                                          at the start or an offset of 1 in indices.\n",
      "\n",
      "/usr/local/lib/python3.7/dist-packages/AI4Water/main.py:516: UserWarning:\n",
      "\n",
      "lookback is 12, due to which first 12 nan\n",
      "                                          containing values were skipped from start. This may lead to some wrong examples\n",
      "                                          at the start or an offset of 1 in indices.\n",
      "\n"
     ],
     "name": "stderr"
    },
    {
     "output_type": "stream",
     "text": [
      "Validation mse 0.001263727666810155\n"
     ],
     "name": "stdout"
    },
    {
     "output_type": "stream",
     "text": [
      "/usr/local/lib/python3.7/dist-packages/AI4Water/main.py:516: UserWarning:\n",
      "\n",
      "lookback is 12, due to which first 12 nan\n",
      "                                          containing values were skipped from start. This may lead to some wrong examples\n",
      "                                          at the start or an offset of 1 in indices.\n",
      "\n",
      "/usr/local/lib/python3.7/dist-packages/AI4Water/main.py:516: UserWarning:\n",
      "\n",
      "lookback is 12, due to which first 12 nan\n",
      "                                          containing values were skipped from start. This may lead to some wrong examples\n",
      "                                          at the start or an offset of 1 in indices.\n",
      "\n"
     ],
     "name": "stderr"
    },
    {
     "output_type": "stream",
     "text": [
      "Validation mse 0.0015309209702536464\n"
     ],
     "name": "stdout"
    },
    {
     "output_type": "stream",
     "text": [
      "/usr/local/lib/python3.7/dist-packages/AI4Water/main.py:516: UserWarning:\n",
      "\n",
      "lookback is 3, due to which first 3 nan\n",
      "                                          containing values were skipped from start. This may lead to some wrong examples\n",
      "                                          at the start or an offset of 1 in indices.\n",
      "\n",
      "/usr/local/lib/python3.7/dist-packages/AI4Water/main.py:516: UserWarning:\n",
      "\n",
      "lookback is 3, due to which first 3 nan\n",
      "                                          containing values were skipped from start. This may lead to some wrong examples\n",
      "                                          at the start or an offset of 1 in indices.\n",
      "\n"
     ],
     "name": "stderr"
    },
    {
     "output_type": "stream",
     "text": [
      "Validation mse 0.001263727666810155\n"
     ],
     "name": "stdout"
    },
    {
     "output_type": "stream",
     "text": [
      "/usr/local/lib/python3.7/dist-packages/AI4Water/main.py:516: UserWarning:\n",
      "\n",
      "lookback is 3, due to which first 3 nan\n",
      "                                          containing values were skipped from start. This may lead to some wrong examples\n",
      "                                          at the start or an offset of 1 in indices.\n",
      "\n",
      "/usr/local/lib/python3.7/dist-packages/AI4Water/main.py:516: UserWarning:\n",
      "\n",
      "lookback is 3, due to which first 3 nan\n",
      "                                          containing values were skipped from start. This may lead to some wrong examples\n",
      "                                          at the start or an offset of 1 in indices.\n",
      "\n"
     ],
     "name": "stderr"
    },
    {
     "output_type": "stream",
     "text": [
      "Validation mse 0.0008996409014798701\n"
     ],
     "name": "stdout"
    },
    {
     "output_type": "stream",
     "text": [
      "/usr/local/lib/python3.7/dist-packages/AI4Water/main.py:516: UserWarning:\n",
      "\n",
      "lookback is 3, due to which first 3 nan\n",
      "                                          containing values were skipped from start. This may lead to some wrong examples\n",
      "                                          at the start or an offset of 1 in indices.\n",
      "\n",
      "/usr/local/lib/python3.7/dist-packages/AI4Water/main.py:516: UserWarning:\n",
      "\n",
      "lookback is 3, due to which first 3 nan\n",
      "                                          containing values were skipped from start. This may lead to some wrong examples\n",
      "                                          at the start or an offset of 1 in indices.\n",
      "\n"
     ],
     "name": "stderr"
    },
    {
     "output_type": "stream",
     "text": [
      "Validation mse 0.001263727666810155\n"
     ],
     "name": "stdout"
    },
    {
     "output_type": "stream",
     "text": [
      "/usr/local/lib/python3.7/dist-packages/AI4Water/main.py:516: UserWarning:\n",
      "\n",
      "lookback is 12, due to which first 12 nan\n",
      "                                          containing values were skipped from start. This may lead to some wrong examples\n",
      "                                          at the start or an offset of 1 in indices.\n",
      "\n",
      "/usr/local/lib/python3.7/dist-packages/AI4Water/main.py:516: UserWarning:\n",
      "\n",
      "lookback is 12, due to which first 12 nan\n",
      "                                          containing values were skipped from start. This may lead to some wrong examples\n",
      "                                          at the start or an offset of 1 in indices.\n",
      "\n"
     ],
     "name": "stderr"
    },
    {
     "output_type": "stream",
     "text": [
      "Validation mse 0.001263727666810155\n"
     ],
     "name": "stdout"
    },
    {
     "output_type": "stream",
     "text": [
      "/usr/local/lib/python3.7/dist-packages/AI4Water/main.py:516: UserWarning:\n",
      "\n",
      "lookback is 12, due to which first 12 nan\n",
      "                                          containing values were skipped from start. This may lead to some wrong examples\n",
      "                                          at the start or an offset of 1 in indices.\n",
      "\n",
      "/usr/local/lib/python3.7/dist-packages/AI4Water/main.py:516: UserWarning:\n",
      "\n",
      "lookback is 12, due to which first 12 nan\n",
      "                                          containing values were skipped from start. This may lead to some wrong examples\n",
      "                                          at the start or an offset of 1 in indices.\n",
      "\n"
     ],
     "name": "stderr"
    },
    {
     "output_type": "stream",
     "text": [
      "Validation mse 0.0014594384701922536\n"
     ],
     "name": "stdout"
    },
    {
     "output_type": "stream",
     "text": [
      "/usr/local/lib/python3.7/dist-packages/AI4Water/main.py:516: UserWarning:\n",
      "\n",
      "lookback is 12, due to which first 12 nan\n",
      "                                          containing values were skipped from start. This may lead to some wrong examples\n",
      "                                          at the start or an offset of 1 in indices.\n",
      "\n",
      "/usr/local/lib/python3.7/dist-packages/AI4Water/main.py:516: UserWarning:\n",
      "\n",
      "lookback is 12, due to which first 12 nan\n",
      "                                          containing values were skipped from start. This may lead to some wrong examples\n",
      "                                          at the start or an offset of 1 in indices.\n",
      "\n"
     ],
     "name": "stderr"
    },
    {
     "output_type": "stream",
     "text": [
      "Validation mse 0.001263727666810155\n"
     ],
     "name": "stdout"
    },
    {
     "output_type": "stream",
     "text": [
      "/usr/local/lib/python3.7/dist-packages/AI4Water/main.py:516: UserWarning:\n",
      "\n",
      "lookback is 3, due to which first 3 nan\n",
      "                                          containing values were skipped from start. This may lead to some wrong examples\n",
      "                                          at the start or an offset of 1 in indices.\n",
      "\n",
      "/usr/local/lib/python3.7/dist-packages/AI4Water/main.py:516: UserWarning:\n",
      "\n",
      "lookback is 3, due to which first 3 nan\n",
      "                                          containing values were skipped from start. This may lead to some wrong examples\n",
      "                                          at the start or an offset of 1 in indices.\n",
      "\n"
     ],
     "name": "stderr"
    },
    {
     "output_type": "stream",
     "text": [
      "Validation mse 0.0010969400173053145\n"
     ],
     "name": "stdout"
    },
    {
     "output_type": "stream",
     "text": [
      "/usr/local/lib/python3.7/dist-packages/AI4Water/main.py:516: UserWarning:\n",
      "\n",
      "lookback is 3, due to which first 3 nan\n",
      "                                          containing values were skipped from start. This may lead to some wrong examples\n",
      "                                          at the start or an offset of 1 in indices.\n",
      "\n",
      "/usr/local/lib/python3.7/dist-packages/AI4Water/main.py:516: UserWarning:\n",
      "\n",
      "lookback is 3, due to which first 3 nan\n",
      "                                          containing values were skipped from start. This may lead to some wrong examples\n",
      "                                          at the start or an offset of 1 in indices.\n",
      "\n"
     ],
     "name": "stderr"
    },
    {
     "output_type": "stream",
     "text": [
      "Validation mse 0.001263727666810155\n"
     ],
     "name": "stdout"
    },
    {
     "output_type": "stream",
     "text": [
      "/usr/local/lib/python3.7/dist-packages/AI4Water/main.py:516: UserWarning:\n",
      "\n",
      "lookback is 12, due to which first 12 nan\n",
      "                                          containing values were skipped from start. This may lead to some wrong examples\n",
      "                                          at the start or an offset of 1 in indices.\n",
      "\n",
      "/usr/local/lib/python3.7/dist-packages/AI4Water/main.py:516: UserWarning:\n",
      "\n",
      "lookback is 12, due to which first 12 nan\n",
      "                                          containing values were skipped from start. This may lead to some wrong examples\n",
      "                                          at the start or an offset of 1 in indices.\n",
      "\n"
     ],
     "name": "stderr"
    },
    {
     "output_type": "stream",
     "text": [
      "Validation mse 0.0011001331731677055\n"
     ],
     "name": "stdout"
    },
    {
     "output_type": "stream",
     "text": [
      "/usr/local/lib/python3.7/dist-packages/AI4Water/main.py:516: UserWarning:\n",
      "\n",
      "lookback is 3, due to which first 3 nan\n",
      "                                          containing values were skipped from start. This may lead to some wrong examples\n",
      "                                          at the start or an offset of 1 in indices.\n",
      "\n",
      "/usr/local/lib/python3.7/dist-packages/AI4Water/main.py:516: UserWarning:\n",
      "\n",
      "lookback is 3, due to which first 3 nan\n",
      "                                          containing values were skipped from start. This may lead to some wrong examples\n",
      "                                          at the start or an offset of 1 in indices.\n",
      "\n"
     ],
     "name": "stderr"
    },
    {
     "output_type": "stream",
     "text": [
      "Validation mse 0.0009209377458319068\n"
     ],
     "name": "stdout"
    },
    {
     "output_type": "stream",
     "text": [
      "/usr/local/lib/python3.7/dist-packages/AI4Water/main.py:516: UserWarning:\n",
      "\n",
      "lookback is 3, due to which first 3 nan\n",
      "                                          containing values were skipped from start. This may lead to some wrong examples\n",
      "                                          at the start or an offset of 1 in indices.\n",
      "\n",
      "/usr/local/lib/python3.7/dist-packages/AI4Water/main.py:516: UserWarning:\n",
      "\n",
      "lookback is 3, due to which first 3 nan\n",
      "                                          containing values were skipped from start. This may lead to some wrong examples\n",
      "                                          at the start or an offset of 1 in indices.\n",
      "\n"
     ],
     "name": "stderr"
    },
    {
     "output_type": "stream",
     "text": [
      "Validation mse 0.0011247571092098951\n"
     ],
     "name": "stdout"
    },
    {
     "output_type": "stream",
     "text": [
      "/usr/local/lib/python3.7/dist-packages/AI4Water/main.py:516: UserWarning:\n",
      "\n",
      "lookback is 12, due to which first 12 nan\n",
      "                                          containing values were skipped from start. This may lead to some wrong examples\n",
      "                                          at the start or an offset of 1 in indices.\n",
      "\n",
      "/usr/local/lib/python3.7/dist-packages/AI4Water/main.py:516: UserWarning:\n",
      "\n",
      "lookback is 12, due to which first 12 nan\n",
      "                                          containing values were skipped from start. This may lead to some wrong examples\n",
      "                                          at the start or an offset of 1 in indices.\n",
      "\n"
     ],
     "name": "stderr"
    },
    {
     "output_type": "stream",
     "text": [
      "Validation mse 0.0011564616579562426\n"
     ],
     "name": "stdout"
    },
    {
     "output_type": "stream",
     "text": [
      "/usr/local/lib/python3.7/dist-packages/AI4Water/main.py:516: UserWarning:\n",
      "\n",
      "lookback is 12, due to which first 12 nan\n",
      "                                          containing values were skipped from start. This may lead to some wrong examples\n",
      "                                          at the start or an offset of 1 in indices.\n",
      "\n",
      "/usr/local/lib/python3.7/dist-packages/AI4Water/main.py:516: UserWarning:\n",
      "\n",
      "lookback is 12, due to which first 12 nan\n",
      "                                          containing values were skipped from start. This may lead to some wrong examples\n",
      "                                          at the start or an offset of 1 in indices.\n",
      "\n"
     ],
     "name": "stderr"
    },
    {
     "output_type": "stream",
     "text": [
      "Validation mse 0.0011268137022852898\n"
     ],
     "name": "stdout"
    },
    {
     "output_type": "stream",
     "text": [
      "/usr/local/lib/python3.7/dist-packages/AI4Water/main.py:516: UserWarning:\n",
      "\n",
      "lookback is 12, due to which first 12 nan\n",
      "                                          containing values were skipped from start. This may lead to some wrong examples\n",
      "                                          at the start or an offset of 1 in indices.\n",
      "\n",
      "/usr/local/lib/python3.7/dist-packages/AI4Water/main.py:516: UserWarning:\n",
      "\n",
      "lookback is 12, due to which first 12 nan\n",
      "                                          containing values were skipped from start. This may lead to some wrong examples\n",
      "                                          at the start or an offset of 1 in indices.\n",
      "\n"
     ],
     "name": "stderr"
    },
    {
     "output_type": "stream",
     "text": [
      "Validation mse 0.0009369333274662495\n"
     ],
     "name": "stdout"
    },
    {
     "output_type": "stream",
     "text": [
      "/usr/local/lib/python3.7/dist-packages/AI4Water/main.py:516: UserWarning:\n",
      "\n",
      "lookback is 3, due to which first 3 nan\n",
      "                                          containing values were skipped from start. This may lead to some wrong examples\n",
      "                                          at the start or an offset of 1 in indices.\n",
      "\n",
      "/usr/local/lib/python3.7/dist-packages/AI4Water/main.py:516: UserWarning:\n",
      "\n",
      "lookback is 3, due to which first 3 nan\n",
      "                                          containing values were skipped from start. This may lead to some wrong examples\n",
      "                                          at the start or an offset of 1 in indices.\n",
      "\n"
     ],
     "name": "stderr"
    },
    {
     "output_type": "stream",
     "text": [
      "Validation mse 0.0010636522201821208\n"
     ],
     "name": "stdout"
    },
    {
     "output_type": "stream",
     "text": [
      "/usr/local/lib/python3.7/dist-packages/AI4Water/main.py:516: UserWarning:\n",
      "\n",
      "lookback is 12, due to which first 12 nan\n",
      "                                          containing values were skipped from start. This may lead to some wrong examples\n",
      "                                          at the start or an offset of 1 in indices.\n",
      "\n",
      "/usr/local/lib/python3.7/dist-packages/AI4Water/main.py:516: UserWarning:\n",
      "\n",
      "lookback is 12, due to which first 12 nan\n",
      "                                          containing values were skipped from start. This may lead to some wrong examples\n",
      "                                          at the start or an offset of 1 in indices.\n",
      "\n"
     ],
     "name": "stderr"
    },
    {
     "output_type": "stream",
     "text": [
      "Validation mse 0.001263727666810155\n"
     ],
     "name": "stdout"
    },
    {
     "output_type": "stream",
     "text": [
      "/usr/local/lib/python3.7/dist-packages/AI4Water/main.py:516: UserWarning:\n",
      "\n",
      "lookback is 3, due to which first 3 nan\n",
      "                                          containing values were skipped from start. This may lead to some wrong examples\n",
      "                                          at the start or an offset of 1 in indices.\n",
      "\n",
      "/usr/local/lib/python3.7/dist-packages/AI4Water/main.py:516: UserWarning:\n",
      "\n",
      "lookback is 3, due to which first 3 nan\n",
      "                                          containing values were skipped from start. This may lead to some wrong examples\n",
      "                                          at the start or an offset of 1 in indices.\n",
      "\n"
     ],
     "name": "stderr"
    },
    {
     "output_type": "stream",
     "text": [
      "Validation mse 0.001263727666810155\n"
     ],
     "name": "stdout"
    },
    {
     "output_type": "stream",
     "text": [
      "/usr/local/lib/python3.7/dist-packages/AI4Water/main.py:516: UserWarning:\n",
      "\n",
      "lookback is 3, due to which first 3 nan\n",
      "                                          containing values were skipped from start. This may lead to some wrong examples\n",
      "                                          at the start or an offset of 1 in indices.\n",
      "\n",
      "/usr/local/lib/python3.7/dist-packages/AI4Water/main.py:516: UserWarning:\n",
      "\n",
      "lookback is 3, due to which first 3 nan\n",
      "                                          containing values were skipped from start. This may lead to some wrong examples\n",
      "                                          at the start or an offset of 1 in indices.\n",
      "\n"
     ],
     "name": "stderr"
    },
    {
     "output_type": "stream",
     "text": [
      "Validation mse 0.0010308381170034409\n"
     ],
     "name": "stdout"
    },
    {
     "output_type": "stream",
     "text": [
      "/usr/local/lib/python3.7/dist-packages/AI4Water/main.py:516: UserWarning:\n",
      "\n",
      "lookback is 12, due to which first 12 nan\n",
      "                                          containing values were skipped from start. This may lead to some wrong examples\n",
      "                                          at the start or an offset of 1 in indices.\n",
      "\n",
      "/usr/local/lib/python3.7/dist-packages/AI4Water/main.py:516: UserWarning:\n",
      "\n",
      "lookback is 12, due to which first 12 nan\n",
      "                                          containing values were skipped from start. This may lead to some wrong examples\n",
      "                                          at the start or an offset of 1 in indices.\n",
      "\n"
     ],
     "name": "stderr"
    },
    {
     "output_type": "stream",
     "text": [
      "Validation mse 0.001263727666810155\n"
     ],
     "name": "stdout"
    },
    {
     "output_type": "stream",
     "text": [
      "/usr/local/lib/python3.7/dist-packages/AI4Water/main.py:516: UserWarning:\n",
      "\n",
      "lookback is 12, due to which first 12 nan\n",
      "                                          containing values were skipped from start. This may lead to some wrong examples\n",
      "                                          at the start or an offset of 1 in indices.\n",
      "\n",
      "/usr/local/lib/python3.7/dist-packages/AI4Water/main.py:516: UserWarning:\n",
      "\n",
      "lookback is 12, due to which first 12 nan\n",
      "                                          containing values were skipped from start. This may lead to some wrong examples\n",
      "                                          at the start or an offset of 1 in indices.\n",
      "\n"
     ],
     "name": "stderr"
    },
    {
     "output_type": "stream",
     "text": [
      "Validation mse 0.001475738943554461\n"
     ],
     "name": "stdout"
    },
    {
     "output_type": "stream",
     "text": [
      "/usr/local/lib/python3.7/dist-packages/AI4Water/main.py:516: UserWarning:\n",
      "\n",
      "lookback is 3, due to which first 3 nan\n",
      "                                          containing values were skipped from start. This may lead to some wrong examples\n",
      "                                          at the start or an offset of 1 in indices.\n",
      "\n",
      "/usr/local/lib/python3.7/dist-packages/AI4Water/main.py:516: UserWarning:\n",
      "\n",
      "lookback is 3, due to which first 3 nan\n",
      "                                          containing values were skipped from start. This may lead to some wrong examples\n",
      "                                          at the start or an offset of 1 in indices.\n",
      "\n"
     ],
     "name": "stderr"
    },
    {
     "output_type": "stream",
     "text": [
      "Validation mse 0.001263727666810155\n"
     ],
     "name": "stdout"
    },
    {
     "output_type": "stream",
     "text": [
      "/usr/local/lib/python3.7/dist-packages/AI4Water/main.py:516: UserWarning:\n",
      "\n",
      "lookback is 12, due to which first 12 nan\n",
      "                                          containing values were skipped from start. This may lead to some wrong examples\n",
      "                                          at the start or an offset of 1 in indices.\n",
      "\n",
      "/usr/local/lib/python3.7/dist-packages/AI4Water/main.py:516: UserWarning:\n",
      "\n",
      "lookback is 12, due to which first 12 nan\n",
      "                                          containing values were skipped from start. This may lead to some wrong examples\n",
      "                                          at the start or an offset of 1 in indices.\n",
      "\n"
     ],
     "name": "stderr"
    },
    {
     "output_type": "stream",
     "text": [
      "Validation mse 0.001263727666810155\n"
     ],
     "name": "stdout"
    },
    {
     "output_type": "stream",
     "text": [
      "/usr/local/lib/python3.7/dist-packages/AI4Water/main.py:516: UserWarning:\n",
      "\n",
      "lookback is 3, due to which first 3 nan\n",
      "                                          containing values were skipped from start. This may lead to some wrong examples\n",
      "                                          at the start or an offset of 1 in indices.\n",
      "\n",
      "/usr/local/lib/python3.7/dist-packages/AI4Water/main.py:516: UserWarning:\n",
      "\n",
      "lookback is 3, due to which first 3 nan\n",
      "                                          containing values were skipped from start. This may lead to some wrong examples\n",
      "                                          at the start or an offset of 1 in indices.\n",
      "\n"
     ],
     "name": "stderr"
    },
    {
     "output_type": "stream",
     "text": [
      "Validation mse 0.001263727666810155\n"
     ],
     "name": "stdout"
    },
    {
     "output_type": "stream",
     "text": [
      "/usr/local/lib/python3.7/dist-packages/AI4Water/main.py:516: UserWarning:\n",
      "\n",
      "lookback is 12, due to which first 12 nan\n",
      "                                          containing values were skipped from start. This may lead to some wrong examples\n",
      "                                          at the start or an offset of 1 in indices.\n",
      "\n",
      "/usr/local/lib/python3.7/dist-packages/AI4Water/main.py:516: UserWarning:\n",
      "\n",
      "lookback is 12, due to which first 12 nan\n",
      "                                          containing values were skipped from start. This may lead to some wrong examples\n",
      "                                          at the start or an offset of 1 in indices.\n",
      "\n"
     ],
     "name": "stderr"
    },
    {
     "output_type": "stream",
     "text": [
      "Validation mse 0.001263727666810155\n"
     ],
     "name": "stdout"
    },
    {
     "output_type": "stream",
     "text": [
      "/usr/local/lib/python3.7/dist-packages/AI4Water/main.py:516: UserWarning:\n",
      "\n",
      "lookback is 3, due to which first 3 nan\n",
      "                                          containing values were skipped from start. This may lead to some wrong examples\n",
      "                                          at the start or an offset of 1 in indices.\n",
      "\n",
      "/usr/local/lib/python3.7/dist-packages/AI4Water/main.py:516: UserWarning:\n",
      "\n",
      "lookback is 3, due to which first 3 nan\n",
      "                                          containing values were skipped from start. This may lead to some wrong examples\n",
      "                                          at the start or an offset of 1 in indices.\n",
      "\n"
     ],
     "name": "stderr"
    },
    {
     "output_type": "stream",
     "text": [
      "Validation mse 0.0011006061686202884\n"
     ],
     "name": "stdout"
    },
    {
     "output_type": "stream",
     "text": [
      "/usr/local/lib/python3.7/dist-packages/AI4Water/main.py:516: UserWarning:\n",
      "\n",
      "lookback is 12, due to which first 12 nan\n",
      "                                          containing values were skipped from start. This may lead to some wrong examples\n",
      "                                          at the start or an offset of 1 in indices.\n",
      "\n",
      "/usr/local/lib/python3.7/dist-packages/AI4Water/main.py:516: UserWarning:\n",
      "\n",
      "lookback is 12, due to which first 12 nan\n",
      "                                          containing values were skipped from start. This may lead to some wrong examples\n",
      "                                          at the start or an offset of 1 in indices.\n",
      "\n"
     ],
     "name": "stderr"
    },
    {
     "output_type": "stream",
     "text": [
      "Validation mse 0.001263727666810155\n"
     ],
     "name": "stdout"
    },
    {
     "output_type": "stream",
     "text": [
      "/usr/local/lib/python3.7/dist-packages/AI4Water/main.py:516: UserWarning:\n",
      "\n",
      "lookback is 3, due to which first 3 nan\n",
      "                                          containing values were skipped from start. This may lead to some wrong examples\n",
      "                                          at the start or an offset of 1 in indices.\n",
      "\n",
      "/usr/local/lib/python3.7/dist-packages/AI4Water/main.py:516: UserWarning:\n",
      "\n",
      "lookback is 3, due to which first 3 nan\n",
      "                                          containing values were skipped from start. This may lead to some wrong examples\n",
      "                                          at the start or an offset of 1 in indices.\n",
      "\n"
     ],
     "name": "stderr"
    },
    {
     "output_type": "stream",
     "text": [
      "Validation mse 0.001033807173371315\n"
     ],
     "name": "stdout"
    },
    {
     "output_type": "stream",
     "text": [
      "/usr/local/lib/python3.7/dist-packages/AI4Water/main.py:516: UserWarning:\n",
      "\n",
      "lookback is 3, due to which first 3 nan\n",
      "                                          containing values were skipped from start. This may lead to some wrong examples\n",
      "                                          at the start or an offset of 1 in indices.\n",
      "\n",
      "/usr/local/lib/python3.7/dist-packages/AI4Water/main.py:516: UserWarning:\n",
      "\n",
      "lookback is 3, due to which first 3 nan\n",
      "                                          containing values were skipped from start. This may lead to some wrong examples\n",
      "                                          at the start or an offset of 1 in indices.\n",
      "\n"
     ],
     "name": "stderr"
    },
    {
     "output_type": "stream",
     "text": [
      "Validation mse 0.001263727666810155\n"
     ],
     "name": "stdout"
    },
    {
     "output_type": "stream",
     "text": [
      "/usr/local/lib/python3.7/dist-packages/AI4Water/main.py:516: UserWarning:\n",
      "\n",
      "lookback is 12, due to which first 12 nan\n",
      "                                          containing values were skipped from start. This may lead to some wrong examples\n",
      "                                          at the start or an offset of 1 in indices.\n",
      "\n",
      "/usr/local/lib/python3.7/dist-packages/AI4Water/main.py:516: UserWarning:\n",
      "\n",
      "lookback is 12, due to which first 12 nan\n",
      "                                          containing values were skipped from start. This may lead to some wrong examples\n",
      "                                          at the start or an offset of 1 in indices.\n",
      "\n"
     ],
     "name": "stderr"
    },
    {
     "output_type": "stream",
     "text": [
      "Validation mse 0.0007064627134241164\n"
     ],
     "name": "stdout"
    },
    {
     "output_type": "stream",
     "text": [
      "/usr/local/lib/python3.7/dist-packages/AI4Water/main.py:516: UserWarning:\n",
      "\n",
      "lookback is 3, due to which first 3 nan\n",
      "                                          containing values were skipped from start. This may lead to some wrong examples\n",
      "                                          at the start or an offset of 1 in indices.\n",
      "\n",
      "/usr/local/lib/python3.7/dist-packages/AI4Water/main.py:516: UserWarning:\n",
      "\n",
      "lookback is 3, due to which first 3 nan\n",
      "                                          containing values were skipped from start. This may lead to some wrong examples\n",
      "                                          at the start or an offset of 1 in indices.\n",
      "\n"
     ],
     "name": "stderr"
    },
    {
     "output_type": "stream",
     "text": [
      "Validation mse 0.0010325382463634014\n",
      "could not pickle results\n"
     ],
     "name": "stdout"
    }
   ]
  },
  {
   "cell_type": "markdown",
   "metadata": {
    "id": "82lJd6reCQoA"
   },
   "source": [
    "The optimized value of objective function will be the lowest mse achieved during model's iterations."
   ]
  },
  {
   "cell_type": "code",
   "metadata": {
    "id": "hG0FFhRsCQoA",
    "colab": {
     "base_uri": "https://localhost:8080/"
    },
    "outputId": "a1b83c36-1ca4-49b9-d932-507241f2b5bd"
   },
   "source": [
    "opt.gpmin_results['fun']"
   ],
   "execution_count": 29,
   "outputs": [
    {
     "output_type": "execute_result",
     "data": {
      "text/plain": [
       "0.0005532537470571697"
      ]
     },
     "metadata": {
      "tags": []
     },
     "execution_count": 29
    }
   ]
  },
  {
   "cell_type": "markdown",
   "metadata": {
    "id": "OuervnaUCQoA"
   },
   "source": [
    "And the parameters which produced this (best) value are"
   ]
  },
  {
   "cell_type": "code",
   "metadata": {
    "id": "RNoc7MSACQoA",
    "colab": {
     "base_uri": "https://localhost:8080/"
    },
    "outputId": "e1b6ea68-57ac-4fc1-f070-e27837361600"
   },
   "source": [
    "opt.best_paras()"
   ],
   "execution_count": 30,
   "outputs": [
    {
     "output_type": "execute_result",
     "data": {
      "text/plain": [
       "{'batch_size': 16,\n",
       " 'dense_actfn': 'leakyrelu',\n",
       " 'learning_rate': 0.009477828809163502,\n",
       " 'lookback': 11,\n",
       " 'lstm_units': 64}"
      ]
     },
     "metadata": {
      "tags": []
     },
     "execution_count": 30
    }
   ]
  },
  {
   "cell_type": "markdown",
   "metadata": {
    "id": "6t39AIPcCQoB"
   },
   "source": [
    "Now we can train the LSTM model with the best parameters"
   ]
  },
  {
   "cell_type": "code",
   "metadata": {
    "id": "rgEManxMCQoB",
    "colab": {
     "base_uri": "https://localhost:8080/"
    },
    "outputId": "50371227-fe91-46d5-eabe-cd532e881f11"
   },
   "source": [
    "model = objective_fn(return_model=True, title=None,\n",
    "                    lstm_units=128, lookback=12, learning_rate=0.00391297699511148, batch_size=24, dense_actfn=\"elu\")"
   ],
   "execution_count": 31,
   "outputs": [
    {
     "output_type": "stream",
     "text": [
      "/usr/local/lib/python3.7/dist-packages/AI4Water/main.py:516: UserWarning:\n",
      "\n",
      "lookback is 12, due to which first 12 nan\n",
      "                                          containing values were skipped from start. This may lead to some wrong examples\n",
      "                                          at the start or an offset of 1 in indices.\n",
      "\n",
      "/usr/local/lib/python3.7/dist-packages/AI4Water/main.py:516: UserWarning:\n",
      "\n",
      "lookback is 12, due to which first 12 nan\n",
      "                                          containing values were skipped from start. This may lead to some wrong examples\n",
      "                                          at the start or an offset of 1 in indices.\n",
      "\n"
     ],
     "name": "stderr"
    },
    {
     "output_type": "stream",
     "text": [
      "Validation mse 0.0013118819333612919\n"
     ],
     "name": "stdout"
    }
   ]
  },
  {
   "cell_type": "code",
   "metadata": {
    "id": "LGacKSHiCQoB",
    "colab": {
     "base_uri": "https://localhost:8080/",
     "height": 596
    },
    "outputId": "cd5bf533-2bca-443c-c294-77fd979a2081"
   },
   "source": [
    "# Perfomance on validation data\n",
    "t,p_test = model.predict(indices=model.test_indices)"
   ],
   "execution_count": 32,
   "outputs": [
    {
     "output_type": "stream",
     "text": [
      "/usr/local/lib/python3.7/dist-packages/AI4Water/main.py:516: UserWarning:\n",
      "\n",
      "lookback is 12, due to which first 12 nan\n",
      "                                          containing values were skipped from start. This may lead to some wrong examples\n",
      "                                          at the start or an offset of 1 in indices.\n",
      "\n"
     ],
     "name": "stderr"
    },
    {
     "output_type": "display_data",
     "data": {
      "image/png": "[encoded data removed]",
      "text/plain": [
       "<Figure size 640x480 with 1 Axes>"
      ]
     },
     "metadata": {
      "tags": []
     }
    }
   ]
  },
  {
   "cell_type": "code",
   "metadata": {
    "id": "SwNuY2uDCQoB",
    "colab": {
     "base_uri": "https://localhost:8080/",
     "height": 596
    },
    "outputId": "bc55d187-9c6a-404e-813e-76b5ca09533e"
   },
   "source": [
    "# Performance of the model on training data\n",
    "t,p = model.predict(indices=model.train_indices, prefix='train')"
   ],
   "execution_count": 33,
   "outputs": [
    {
     "output_type": "stream",
     "text": [
      "/usr/local/lib/python3.7/dist-packages/AI4Water/main.py:516: UserWarning:\n",
      "\n",
      "lookback is 12, due to which first 12 nan\n",
      "                                          containing values were skipped from start. This may lead to some wrong examples\n",
      "                                          at the start or an offset of 1 in indices.\n",
      "\n"
     ],
     "name": "stderr"
    },
    {
     "output_type": "display_data",
     "data": {
      "image/png": "[encoded data removed]",
      "text/plain": [
       "<Figure size 640x480 with 1 Axes>"
      ]
     },
     "metadata": {
      "tags": []
     }
    }
   ]
  },
  {
   "cell_type": "markdown",
   "metadata": {
    "id": "OVjWFsmxCQoB"
   },
   "source": [
    "currently we are ignoring examples where the corresponding labels are NaNs. We can check this."
   ]
  },
  {
   "cell_type": "code",
   "metadata": {
    "id": "M8iuZIt-CQoB",
    "colab": {
     "base_uri": "https://localhost:8080/"
    },
    "outputId": "12ba4aaa-9c01-4ec6-8d5b-0b08ace243ca"
   },
   "source": [
    "model.config['allow_nan_labels']"
   ],
   "execution_count": 34,
   "outputs": [
    {
     "output_type": "execute_result",
     "data": {
      "text/plain": [
       "0"
      ]
     },
     "metadata": {
      "tags": []
     },
     "execution_count": 34
    }
   ]
  },
  {
   "cell_type": "markdown",
   "metadata": {
    "id": "1JkLUz9mCQoB"
   },
   "source": [
    "The above argument means that for an example/sample if nans are found in its target/label, then don't ignore nan, \n",
    "rather skip that example. This is the reason, our trainig data was of about 155 examples and test/validation data\n",
    "consisted of about 68 examples. \n",
    "\n",
    "At prediction time, we would however, like to check model's peformance on all the data irrespective of the fact whether \n",
    "labels are available or not. When labels are not available, we will not be able to caculate corresponding errors but the\n",
    "model is able to make predictions on that data."
   ]
  },
  {
   "cell_type": "code",
   "metadata": {
    "id": "dcc_zzCXCQoB",
    "colab": {
     "base_uri": "https://localhost:8080/"
    },
    "outputId": "fda0cbcb-b57f-4fb8-c952-5a1252b9b1f2"
   },
   "source": [
    "model.config['allow_nan_labels'] = 2\n",
    "model.config['allow_nan_labels']"
   ],
   "execution_count": 35,
   "outputs": [
    {
     "output_type": "execute_result",
     "data": {
      "text/plain": [
       "2"
      ]
     },
     "metadata": {
      "tags": []
     },
     "execution_count": 35
    }
   ]
  },
  {
   "cell_type": "code",
   "metadata": {
    "id": "U_dFFm4ZCQoB",
    "colab": {
     "base_uri": "https://localhost:8080/",
     "height": 540
    },
    "outputId": "4713ae82-0cea-4f2e-de7c-14004fe03235"
   },
   "source": [
    "# Performance of the model on training data\n",
    "t,p = model.predict(prefix='all')"
   ],
   "execution_count": 36,
   "outputs": [
    {
     "output_type": "stream",
     "text": [
      "\n",
      "********** Allowing NANs in predictions **********\n",
      "\n"
     ],
     "name": "stdout"
    },
    {
     "output_type": "display_data",
     "data": {
      "image/png": "[encoded data removed]",
      "text/plain": [
       "<Figure size 640x480 with 1 Axes>"
      ]
     },
     "metadata": {
      "tags": []
     }
    }
   ]
  },
  {
   "cell_type": "code",
   "metadata": {
    "id": "dytJkT-uCQoB",
    "colab": {
     "base_uri": "https://localhost:8080/",
     "height": 36
    },
    "outputId": "5fdb0747-c967-4412-a6b3-36c4de741fde"
   },
   "source": [
    "# The results with the best model are  are saved in following folder.\n",
    "model.path"
   ],
   "execution_count": 37,
   "outputs": [
    {
     "output_type": "execute_result",
     "data": {
      "application/vnd.google.colaboratory.intrinsic+json": {
       "type": "string"
      },
      "text/plain": [
       "'/content/results/20210519_021248'"
      ]
     },
     "metadata": {
      "tags": []
     },
     "execution_count": 37
    }
   ]
  },
  {
   "cell_type": "markdown",
   "metadata": {
    "id": "6yfvmYljCQoB",
    "pycharm": {
     "name": "#%% md\n"
    }
   },
   "source": [
    "# Optimizing multiple models\n",
    "Because of simplified user interfaces of `AI4Water` and `HyperOpt`, we can now optimize hyper-parameters of multiple models/functions\n",
    "with relatively few lines of code. For example if we want to optimize parameters of [RandomForestRegressor](https://scikit-learn.org/stable/modules/generated/sklearn.ensemble.RandomForestRegressor.html) and \n",
    "[SupportVectorRessor](https://scikit-learn.org/stable/modules/generated/sklearn.svm.SVR.html), we can do following."
   ]
  },
  {
   "cell_type": "code",
   "metadata": {
    "colab": {
     "base_uri": "https://localhost:8080/",
     "height": 1000
    },
    "id": "44DLgJ9OCQoB",
    "pycharm": {
     "name": "#%%\n"
    },
    "outputId": "6c89f8e0-8c61-4c35-885a-ba88d35c0b0c"
   },
   "source": [
    "dims = {\"SVR\": {\"dims\":\n",
    "               [Categorical(categories=[0.1, 0.2, 0.3, 0.4, 0.5], name='epsilon'),\n",
    "                Integer(low=3, high=6, name='degree'),\n",
    "                Real(low=1.0, high=2.0, name='C'),\n",
    "                Categorical(categories=[\"linear\", \"poly\", \"rbf\", \"sigmoid\"], name=\"kernel\")],\n",
    "                \"x0\": [0.2, 3, 1.5, \"sigmoid\"]},\n",
    "\n",
    "        \"RandomForestRegressor\":\n",
    "        {\"dims\":\n",
    "         [Categorical(categories=[100, 300, 500, 700, 900, 1100], name=\"n_estimators\"),\n",
    "          Integer(low=3, high=6, name='max_depth'),\n",
    "          Integer(low=2, high=5, name='min_samples_split'),\n",
    "          Integer(low=1, high=4, name='min_samples_leaf')],\n",
    "         \"x0\": [300, 4, 3, 3]}\n",
    "     }\n",
    "\n",
    "# container for saving the results.\n",
    "results = {}\n",
    "\n",
    "for model, paras in dims.items():\n",
    "\n",
    "    opt = HyperOpt(\"bayes\",\n",
    "                   param_space=paras['dims'],\n",
    "                   ai4water_args= {\"input_features\": inputs,\n",
    "                                 \"output_features\": outputs,\n",
    "                                 \"val_data\": \"same\",\n",
    "                                 \"model\": {model: {}},\n",
    "                                 \"test_fraction\": 0.3},\n",
    "                   data=data,\n",
    "                   eval_on_best=True,\n",
    "                   n_calls=25, \n",
    "                   x0=paras[\"x0\"]\n",
    "                   )\n",
    "\n",
    "    sr = opt.fit()\n",
    "    _model = opt.eval_with_best(return_model=True)\n",
    "    results[model] = _model.predict(indices=_model.test_indices, pp=False)\n",
    "    "
   ],
   "execution_count": 38,
   "outputs": [
    {
     "output_type": "stream",
     "text": [
      "Validation mse 5.959586064163118e+16\n",
      "Validation mse 3251972220425751.0\n",
      "Validation mse 3251972220425751.0\n",
      "Validation mse 3251972220425751.0\n",
      "Validation mse 3251972220425751.0\n",
      "Validation mse 3251972220425751.0\n",
      "Validation mse 3251972220425751.0\n",
      "Validation mse 3251972220425751.0\n",
      "Validation mse 3251972220425751.0\n",
      "Validation mse 3251972220425751.0\n",
      "Validation mse 3251972220425751.0\n"
     ],
     "name": "stdout"
    },
    {
     "output_type": "stream",
     "text": [
      "/usr/local/lib/python3.7/dist-packages/skopt/optimizer/optimizer.py:449: UserWarning:\n",
      "\n",
      "The objective has been evaluated at this point before.\n",
      "\n"
     ],
     "name": "stderr"
    },
    {
     "output_type": "stream",
     "text": [
      "Validation mse 3251972220429268.0\n",
      "Validation mse 3251972192711590.0\n"
     ],
     "name": "stdout"
    },
    {
     "output_type": "stream",
     "text": [
      "/usr/local/lib/python3.7/dist-packages/skopt/optimizer/optimizer.py:449: UserWarning:\n",
      "\n",
      "The objective has been evaluated at this point before.\n",
      "\n"
     ],
     "name": "stderr"
    },
    {
     "output_type": "stream",
     "text": [
      "Validation mse 3251972190402057.0\n"
     ],
     "name": "stdout"
    },
    {
     "output_type": "stream",
     "text": [
      "/usr/local/lib/python3.7/dist-packages/skopt/optimizer/optimizer.py:449: UserWarning:\n",
      "\n",
      "The objective has been evaluated at this point before.\n",
      "\n"
     ],
     "name": "stderr"
    },
    {
     "output_type": "stream",
     "text": [
      "Validation mse 3251972188270338.0\n"
     ],
     "name": "stdout"
    },
    {
     "output_type": "stream",
     "text": [
      "/usr/local/lib/python3.7/dist-packages/skopt/optimizer/optimizer.py:449: UserWarning:\n",
      "\n",
      "The objective has been evaluated at this point before.\n",
      "\n"
     ],
     "name": "stderr"
    },
    {
     "output_type": "stream",
     "text": [
      "Validation mse 3251972186290848.5\n"
     ],
     "name": "stdout"
    },
    {
     "output_type": "stream",
     "text": [
      "/usr/local/lib/python3.7/dist-packages/skopt/optimizer/optimizer.py:449: UserWarning:\n",
      "\n",
      "The objective has been evaluated at this point before.\n",
      "\n"
     ],
     "name": "stderr"
    },
    {
     "output_type": "stream",
     "text": [
      "Validation mse 3251972184443290.0\n"
     ],
     "name": "stdout"
    },
    {
     "output_type": "stream",
     "text": [
      "/usr/local/lib/python3.7/dist-packages/skopt/optimizer/optimizer.py:449: UserWarning:\n",
      "\n",
      "The objective has been evaluated at this point before.\n",
      "\n"
     ],
     "name": "stderr"
    },
    {
     "output_type": "stream",
     "text": [
      "Validation mse 3251972182711290.5\n"
     ],
     "name": "stdout"
    },
    {
     "output_type": "stream",
     "text": [
      "/usr/local/lib/python3.7/dist-packages/skopt/optimizer/optimizer.py:449: UserWarning:\n",
      "\n",
      "The objective has been evaluated at this point before.\n",
      "\n"
     ],
     "name": "stderr"
    },
    {
     "output_type": "stream",
     "text": [
      "Validation mse 3251972181081098.5\n"
     ],
     "name": "stdout"
    },
    {
     "output_type": "stream",
     "text": [
      "/usr/local/lib/python3.7/dist-packages/skopt/optimizer/optimizer.py:449: UserWarning:\n",
      "\n",
      "The objective has been evaluated at this point before.\n",
      "\n"
     ],
     "name": "stderr"
    },
    {
     "output_type": "stream",
     "text": [
      "Validation mse 3251972179541489.5\n"
     ],
     "name": "stdout"
    },
    {
     "output_type": "stream",
     "text": [
      "/usr/local/lib/python3.7/dist-packages/skopt/optimizer/optimizer.py:449: UserWarning:\n",
      "\n",
      "The objective has been evaluated at this point before.\n",
      "\n"
     ],
     "name": "stderr"
    },
    {
     "output_type": "stream",
     "text": [
      "Validation mse 3251972178082956.0\n"
     ],
     "name": "stdout"
    },
    {
     "output_type": "stream",
     "text": [
      "/usr/local/lib/python3.7/dist-packages/skopt/optimizer/optimizer.py:449: UserWarning:\n",
      "\n",
      "The objective has been evaluated at this point before.\n",
      "\n"
     ],
     "name": "stderr"
    },
    {
     "output_type": "stream",
     "text": [
      "Validation mse 3251972176697333.5\n"
     ],
     "name": "stdout"
    },
    {
     "output_type": "stream",
     "text": [
      "/usr/local/lib/python3.7/dist-packages/skopt/optimizer/optimizer.py:449: UserWarning:\n",
      "\n",
      "The objective has been evaluated at this point before.\n",
      "\n"
     ],
     "name": "stderr"
    },
    {
     "output_type": "stream",
     "text": [
      "Validation mse 3251972175377677.5\n"
     ],
     "name": "stdout"
    },
    {
     "output_type": "stream",
     "text": [
      "/usr/local/lib/python3.7/dist-packages/skopt/optimizer/optimizer.py:449: UserWarning:\n",
      "\n",
      "The objective has been evaluated at this point before.\n",
      "\n"
     ],
     "name": "stderr"
    },
    {
     "output_type": "stream",
     "text": [
      "Validation mse 3251972174117983.5\n"
     ],
     "name": "stdout"
    },
    {
     "output_type": "stream",
     "text": [
      "/usr/local/lib/python3.7/dist-packages/skopt/optimizer/optimizer.py:449: UserWarning:\n",
      "\n",
      "The objective has been evaluated at this point before.\n",
      "\n"
     ],
     "name": "stderr"
    },
    {
     "output_type": "stream",
     "text": [
      "Validation mse 3251972172913145.0\n",
      "could not pickle results\n"
     ],
     "name": "stdout"
    },
    {
     "output_type": "stream",
     "text": [
      "/usr/local/lib/python3.7/dist-packages/numpy/core/_asarray.py:83: VisibleDeprecationWarning:\n",
      "\n",
      "Creating an ndarray from ragged nested sequences (which is a list-or-tuple of lists-or-tuples-or ndarrays with different lengths or shapes) is deprecated. If you meant to do this, you must specify 'dtype=object' when creating the ndarray\n",
      "\n"
     ],
     "name": "stderr"
    },
    {
     "output_type": "stream",
     "text": [
      "building ML based model for regression problem\n",
      "\n",
      "********** Removing Samples with nan labels  **********\n",
      "\n",
      "input_x shape:  (152, 13)\n",
      "prev_y shape:  (152, 1)\n",
      "target shape:  (152,)\n",
      "\n",
      "********** Removing Samples with nan labels  **********\n",
      "\n",
      "input_x shape:  (66, 13)\n",
      "prev_y shape:  (66, 1)\n",
      "target shape:  (66,)\n",
      "Validation mse 3251972172913145.0\n",
      "\n",
      "********** Removing Samples with nan labels  **********\n",
      "\n",
      "input_x shape:  (152, 13)\n",
      "prev_y shape:  (152, 1)\n",
      "target shape:  (152,)\n",
      "\n",
      "********** Removing Samples with nan labels  **********\n",
      "\n",
      "input_x shape:  (218, 13)\n",
      "prev_y shape:  (218, 1)\n",
      "target shape:  (218,)\n"
     ],
     "name": "stdout"
    },
    {
     "output_type": "stream",
     "text": [
      "/usr/local/lib/python3.7/dist-packages/AI4Water/utils/plotting_tools.py:401: UserWarning:\n",
      "\n",
      "for poly kernels of SVR, feature importance can not be plotted.\n",
      "\n"
     ],
     "name": "stderr"
    },
    {
     "output_type": "stream",
     "text": [
      "building ML based model for regression problem\n",
      "\n",
      "********** Removing Samples with nan labels  **********\n",
      "\n",
      "input_x shape:  (152, 13)\n",
      "prev_y shape:  (152, 1)\n",
      "target shape:  (152,)\n",
      "\n",
      "********** Removing Samples with nan labels  **********\n",
      "\n",
      "input_x shape:  (66, 13)\n",
      "prev_y shape:  (66, 1)\n",
      "target shape:  (66,)\n",
      "Validation mse 3251972172913145.0\n",
      "\n",
      "********** Removing Samples with nan labels  **********\n",
      "\n",
      "input_x shape:  (152, 13)\n",
      "prev_y shape:  (152, 1)\n",
      "target shape:  (152,)\n",
      "\n",
      "********** Removing Samples with nan labels  **********\n",
      "\n",
      "input_x shape:  (218, 13)\n",
      "prev_y shape:  (218, 1)\n",
      "target shape:  (218,)\n"
     ],
     "name": "stdout"
    },
    {
     "output_type": "stream",
     "text": [
      "/usr/local/lib/python3.7/dist-packages/AI4Water/utils/plotting_tools.py:401: UserWarning:\n",
      "\n",
      "for poly kernels of SVR, feature importance can not be plotted.\n",
      "\n"
     ],
     "name": "stderr"
    },
    {
     "output_type": "stream",
     "text": [
      "\n",
      "********** Removing Samples with nan labels  **********\n",
      "\n",
      "input_x shape:  (66, 13)\n",
      "prev_y shape:  (66, 1)\n",
      "target shape:  (66,)\n",
      "Validation mse 127311464180613.36\n",
      "Validation mse 121074438349795.5\n",
      "Validation mse 124125748402719.86\n",
      "Validation mse 121997491346663.2\n",
      "Validation mse 124125748402719.86\n",
      "Validation mse 121997491346663.2\n",
      "Validation mse 124125748402719.86\n",
      "Validation mse 121997491346663.2\n",
      "Validation mse 124125748402719.86\n",
      "Validation mse 121997491346663.2\n",
      "Validation mse 124125748402719.86\n",
      "Validation mse 121997491346663.2\n"
     ],
     "name": "stdout"
    },
    {
     "output_type": "stream",
     "text": [
      "/usr/local/lib/python3.7/dist-packages/skopt/optimizer/optimizer.py:449: UserWarning:\n",
      "\n",
      "The objective has been evaluated at this point before.\n",
      "\n"
     ],
     "name": "stderr"
    },
    {
     "output_type": "stream",
     "text": [
      "Validation mse 121997491346663.2\n"
     ],
     "name": "stdout"
    },
    {
     "output_type": "stream",
     "text": [
      "/usr/local/lib/python3.7/dist-packages/skopt/optimizer/optimizer.py:449: UserWarning:\n",
      "\n",
      "The objective has been evaluated at this point before.\n",
      "\n"
     ],
     "name": "stderr"
    },
    {
     "output_type": "stream",
     "text": [
      "Validation mse 121997491346663.2\n"
     ],
     "name": "stdout"
    },
    {
     "output_type": "stream",
     "text": [
      "/usr/local/lib/python3.7/dist-packages/skopt/optimizer/optimizer.py:449: UserWarning:\n",
      "\n",
      "The objective has been evaluated at this point before.\n",
      "\n"
     ],
     "name": "stderr"
    },
    {
     "output_type": "stream",
     "text": [
      "Validation mse 121997491346663.2\n"
     ],
     "name": "stdout"
    },
    {
     "output_type": "stream",
     "text": [
      "/usr/local/lib/python3.7/dist-packages/skopt/optimizer/optimizer.py:449: UserWarning:\n",
      "\n",
      "The objective has been evaluated at this point before.\n",
      "\n"
     ],
     "name": "stderr"
    },
    {
     "output_type": "stream",
     "text": [
      "Validation mse 121997491346663.2\n"
     ],
     "name": "stdout"
    },
    {
     "output_type": "stream",
     "text": [
      "/usr/local/lib/python3.7/dist-packages/skopt/optimizer/optimizer.py:449: UserWarning:\n",
      "\n",
      "The objective has been evaluated at this point before.\n",
      "\n"
     ],
     "name": "stderr"
    },
    {
     "output_type": "stream",
     "text": [
      "Validation mse 121997491346663.2\n"
     ],
     "name": "stdout"
    },
    {
     "output_type": "stream",
     "text": [
      "/usr/local/lib/python3.7/dist-packages/skopt/optimizer/optimizer.py:449: UserWarning:\n",
      "\n",
      "The objective has been evaluated at this point before.\n",
      "\n"
     ],
     "name": "stderr"
    },
    {
     "output_type": "stream",
     "text": [
      "Validation mse 121997491346663.2\n"
     ],
     "name": "stdout"
    },
    {
     "output_type": "stream",
     "text": [
      "/usr/local/lib/python3.7/dist-packages/skopt/optimizer/optimizer.py:449: UserWarning:\n",
      "\n",
      "The objective has been evaluated at this point before.\n",
      "\n"
     ],
     "name": "stderr"
    },
    {
     "output_type": "stream",
     "text": [
      "Validation mse 121997491346663.2\n"
     ],
     "name": "stdout"
    },
    {
     "output_type": "stream",
     "text": [
      "/usr/local/lib/python3.7/dist-packages/skopt/optimizer/optimizer.py:449: UserWarning:\n",
      "\n",
      "The objective has been evaluated at this point before.\n",
      "\n"
     ],
     "name": "stderr"
    },
    {
     "output_type": "stream",
     "text": [
      "Validation mse 121997491346663.2\n"
     ],
     "name": "stdout"
    },
    {
     "output_type": "stream",
     "text": [
      "/usr/local/lib/python3.7/dist-packages/skopt/optimizer/optimizer.py:449: UserWarning:\n",
      "\n",
      "The objective has been evaluated at this point before.\n",
      "\n"
     ],
     "name": "stderr"
    },
    {
     "output_type": "stream",
     "text": [
      "Validation mse 121997491346663.2\n"
     ],
     "name": "stdout"
    },
    {
     "output_type": "stream",
     "text": [
      "/usr/local/lib/python3.7/dist-packages/skopt/optimizer/optimizer.py:449: UserWarning:\n",
      "\n",
      "The objective has been evaluated at this point before.\n",
      "\n"
     ],
     "name": "stderr"
    },
    {
     "output_type": "stream",
     "text": [
      "Validation mse 121997491346663.2\n"
     ],
     "name": "stdout"
    },
    {
     "output_type": "stream",
     "text": [
      "/usr/local/lib/python3.7/dist-packages/skopt/optimizer/optimizer.py:449: UserWarning:\n",
      "\n",
      "The objective has been evaluated at this point before.\n",
      "\n"
     ],
     "name": "stderr"
    },
    {
     "output_type": "stream",
     "text": [
      "Validation mse 121997491346663.2\n"
     ],
     "name": "stdout"
    },
    {
     "output_type": "stream",
     "text": [
      "/usr/local/lib/python3.7/dist-packages/skopt/optimizer/optimizer.py:449: UserWarning:\n",
      "\n",
      "The objective has been evaluated at this point before.\n",
      "\n"
     ],
     "name": "stderr"
    },
    {
     "output_type": "stream",
     "text": [
      "Validation mse 121997491346663.2\n"
     ],
     "name": "stdout"
    },
    {
     "output_type": "stream",
     "text": [
      "/usr/local/lib/python3.7/dist-packages/skopt/optimizer/optimizer.py:449: UserWarning:\n",
      "\n",
      "The objective has been evaluated at this point before.\n",
      "\n"
     ],
     "name": "stderr"
    },
    {
     "output_type": "stream",
     "text": [
      "Validation mse 121997491346663.2\n",
      "could not pickle results\n",
      "building ML based model for regression problem\n",
      "\n",
      "********** Removing Samples with nan labels  **********\n",
      "\n",
      "input_x shape:  (152, 13)\n",
      "prev_y shape:  (152, 1)\n",
      "target shape:  (152,)\n",
      "\n",
      "********** Removing Samples with nan labels  **********\n",
      "\n",
      "input_x shape:  (66, 13)\n",
      "prev_y shape:  (66, 1)\n",
      "target shape:  (66,)\n",
      "Validation mse 121074438349795.5\n",
      "\n",
      "********** Removing Samples with nan labels  **********\n",
      "\n",
      "input_x shape:  (152, 13)\n",
      "prev_y shape:  (152, 1)\n",
      "target shape:  (152,)\n",
      "\n",
      "********** Removing Samples with nan labels  **********\n",
      "\n",
      "input_x shape:  (218, 13)\n",
      "prev_y shape:  (218, 1)\n",
      "target shape:  (218,)\n",
      "building ML based model for regression problem\n",
      "\n",
      "********** Removing Samples with nan labels  **********\n",
      "\n",
      "input_x shape:  (152, 13)\n",
      "prev_y shape:  (152, 1)\n",
      "target shape:  (152,)\n",
      "\n",
      "********** Removing Samples with nan labels  **********\n",
      "\n",
      "input_x shape:  (66, 13)\n",
      "prev_y shape:  (66, 1)\n",
      "target shape:  (66,)\n",
      "Validation mse 121074438349795.5\n",
      "\n",
      "********** Removing Samples with nan labels  **********\n",
      "\n",
      "input_x shape:  (152, 13)\n",
      "prev_y shape:  (152, 1)\n",
      "target shape:  (152,)\n",
      "\n",
      "********** Removing Samples with nan labels  **********\n",
      "\n",
      "input_x shape:  (218, 13)\n",
      "prev_y shape:  (218, 1)\n",
      "target shape:  (218,)\n",
      "\n",
      "********** Removing Samples with nan labels  **********\n",
      "\n",
      "input_x shape:  (66, 13)\n",
      "prev_y shape:  (66, 1)\n",
      "target shape:  (66,)\n"
     ],
     "name": "stdout"
    },
    {
     "output_type": "display_data",
     "data": {
      "image/png": "[encoded data removed]",
      "text/plain": [
       "<Figure size 640x480 with 1 Axes>"
      ]
     },
     "metadata": {
      "tags": []
     }
    }
   ]
  },
  {
   "cell_type": "markdown",
   "metadata": {
    "id": "ue1us-oiCQoB",
    "pycharm": {
     "name": "#%% md\n"
    }
   },
   "source": [
    "By adding more models in `dims` dictionary above, we optimize parameters of more models."
   ]
  },
  {
   "cell_type": "markdown",
   "metadata": {
    "id": "MZiM7TgeFHif"
   },
   "source": [
    "We can compare the performance of two models using [Taylor's diagram](https://agupubs.onlinelibrary.wiley.com/doi/abs/10.1029/2000JD900719)."
   ]
  },
  {
   "cell_type": "code",
   "metadata": {
    "id": "sV5ZCmK9FHif"
   },
   "source": [
    "from ai4water.utils.taylor_diagram import taylor_plot\n",
    "\n",
    "trues = {'Test': results[\"RandomForestRegressor\"][0]}\n",
    "\n",
    "simulations = {\"Test\": {\n",
    "    \"SVR\": results[\"SVR\"][1],\n",
    "    \"RandomForestRegressor\": results[\"RandomForestRegressor\"][1],\n",
    "}}"
   ],
   "execution_count": 39,
   "outputs": []
  },
  {
   "cell_type": "code",
   "metadata": {
    "id": "ZPQ5fHcgFHif",
    "colab": {
     "base_uri": "https://localhost:8080/",
     "height": 671
    },
    "outputId": "ea1adcea-9b47-46c7-f60a-85f27fc4052d"
   },
   "source": [
    "taylor_plot(trues=trues,\n",
    "            simulations=simulations,\n",
    "            add_grid=True,\n",
    "            plot_bias=True,\n",
    "            figsize=(8,6),\n",
    "            cont_kws={'colors': 'blue', 'linewidths': 1.0, 'linestyles': 'dotted'},\n",
    "            grid_kws={'axis': 'x', 'color': 'g', 'lw': 1.0},\n",
    "            leg_kws={'numpoints': 1, 'fontsize': 15, 'markerscale': 1, 'bbox_to_anchor':(0.77, 1.1)}\n",
    "           )"
   ],
   "execution_count": 40,
   "outputs": [
    {
     "output_type": "display_data",
     "data": {
      "image/png": "[encoded data removed]",
      "text/plain": [
       "<Figure size 800x600 with 1 Axes>"
      ]
     },
     "metadata": {
      "tags": []
     }
    }
   ]
  },
  {
   "cell_type": "code",
   "metadata": {
    "id": "wWhtCz75FHif"
   },
   "source": [
    ""
   ],
   "execution_count": null,
   "outputs": []
  }
 ]
}